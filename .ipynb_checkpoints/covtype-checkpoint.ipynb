{
 "cells": [
  {
   "cell_type": "markdown",
   "metadata": {
    "nbpresent": {
     "id": "11e63810-66a1-42f7-90a4-7686228ac70a"
    }
   },
   "source": [
    "# Forest Cover Type Prediction\n",
    "*Kevin Zagalo, Ismail Benkirane*"
   ]
  },
  {
   "cell_type": "markdown",
   "metadata": {},
   "source": [
    "Le but de ce projet est de modifier les données et construire une methode pour classifier des forêts en 7 types, avec des données de 581 012 instances et 54 attributs, sans données manquantes. Les types de forêts sont les suivants :\n",
    "      - Spruce/Fir\n",
    "      - Lodgepole Pine\n",
    "      - Ponderosa Pine\n",
    "      - Cottonwood/Willow\n",
    "      - Aspen\n",
    "      - Douglas-fir\n",
    "      - Krummholz\n",
    "et les attributs sont les suivants :\n",
    "      - Elevation / quantitative /meters / Elevation in meters \n",
    "      - Aspect / quantitative / azimuth / Aspect in degrees azimuth \n",
    "      - Slope / quantitative / degrees / Slope in degrees \n",
    "      - Horizontal_Distance_To_Hydrology / quantitative / meters / Horz Dist to nearest surface water features \n",
    "      - Vertical_Distance_To_Hydrology / quantitative / meters / Vert Dist to nearest surface water features \n",
    "      - Horizontal_Distance_To_Roadways / quantitative / meters / Horz Dist to nearest roadway \n",
    "      - Hillshade_9am / quantitative / 0 to 255 index / Hillshade index at 9am, summer solstice \n",
    "      - Hillshade_Noon / quantitative / 0 to 255 index / Hillshade index at noon, summer soltice \n",
    "      - Hillshade_3pm / quantitative / 0 to 255 index / Hillshade index at 3pm, summer solstice \n",
    "      - Horizontal_Distance_To_Fire_Points / quantitative / meters / Horz Dist to nearest wildfire ignition points \n",
    "      - Wilderness_Area (4 binary columns) / qualitative / 0 (absence) or 1 (presence) / Wilderness area designation \n",
    "      - Soil_Type (40 binary columns) / qualitative / 0 (absence) or 1 (presence) / Soil Type designation \n",
    "      - Cover_Type (7 types) / integer / 1 to 7 / Forest Cover Type designation"
   ]
  },
  {
   "cell_type": "markdown",
   "metadata": {
    "nbpresent": {
     "id": "e485508c-1682-4d22-9186-a82d4f78b16d"
    }
   },
   "source": [
    "## Traitement des données"
   ]
  },
  {
   "cell_type": "markdown",
   "metadata": {
    "nbpresent": {
     "id": "9d07a0eb-4bba-4fdc-80a0-c0622188eb80"
    }
   },
   "source": [
    "### Télécharement des données"
   ]
  },
  {
   "cell_type": "markdown",
   "metadata": {
    "nbpresent": {
     "id": "74ae5c86-6561-4f5d-bd36-90e025e3732e"
    }
   },
   "source": [
    "Les données https://archive.ics.uci.edu/ml/machine-learning-databases/covtype/covtype.data seront téléchargées à l'adresse *'./covtype/archives/'*"
   ]
  },
  {
   "cell_type": "code",
   "execution_count": 1,
   "metadata": {
    "collapsed": true,
    "nbpresent": {
     "id": "4401b5f1-4162-48a9-8676-6eed068f5b8b"
    }
   },
   "outputs": [],
   "source": [
    "from urllib.request import urlopen\n",
    "import os.path as osp\n",
    "import os\n",
    "import logging\n",
    "import gzip\n",
    "logging.getLogger().setLevel('INFO')"
   ]
  },
  {
   "cell_type": "raw",
   "metadata": {
    "collapsed": false,
    "nbpresent": {
     "id": "bcec43c9-e676-4cdb-883d-a9853ef24fcb"
    }
   },
   "source": [
    "def download_file(url_str, path):\n",
    "    url = urlopen(url_str)\n",
    "    output = open(path, 'wb')\n",
    "    output.write(url.read())\n",
    "    output.close()\n",
    "    \n",
    "BASE_URL = 'https://archive.ics.uci.edu/ml/machine-learning-databases/'\n",
    "DATA_DIR = 'covtype'\n",
    "\n",
    "DATA_URL = BASE_URL + DATA_DIR + \"/covtype.data.gz\"\n",
    "\n",
    "os.makedirs(osp.join(DATA_DIR, 'archives'), exist_ok=True)\n",
    "\n",
    "logging.info(\"downloading %s\", DATA_URL)\n",
    "archive_path = osp.join(DATA_DIR, 'archives', osp.basename(DATA_URL))\n",
    "download_file(DATA_URL, archive_path)\n",
    "logging.info(\"file downloaded\")"
   ]
  },
  {
   "cell_type": "markdown",
   "metadata": {
    "nbpresent": {
     "id": "6c33a9c9-e26c-4006-9c96-0fc4b9a5387a"
    }
   },
   "source": [
    "### Variables"
   ]
  },
  {
   "cell_type": "markdown",
   "metadata": {},
   "source": [
    "Le problème de ce chargement est qu'il stocke les données en type **str**, il nous faut donc convertir le type des données. C'est ce que font les fonctions **convert_to_listofbool**, **convert_to_class**, **convert_to_int** et **convert_to_float**. \n",
    "\t\n",
    "On préfèrera garder dans le DataFrame **df_covtype** des entiers plutôt que des vecteurs binaires, quitte à les y remettre dans les données de train et de test ensuite. Cela facilitera grandement l'analyse préliminaire. On utilisera donc **wilderness** et **soil** uniquement pour la partie test des modèles."
   ]
  },
  {
   "cell_type": "code",
   "execution_count": 2,
   "metadata": {
    "collapsed": false,
    "nbpresent": {
     "id": "e8728c69-4b58-43f9-81be-42d7d8626c75"
    }
   },
   "outputs": [],
   "source": [
    "import pandas as pd\n",
    "import numpy as np"
   ]
  },
  {
   "cell_type": "code",
   "execution_count": 3,
   "metadata": {
    "collapsed": false,
    "nbpresent": {
     "id": "7d4b98bb-5148-40a4-8488-43c0eb19a4df"
    }
   },
   "outputs": [],
   "source": [
    "# dict_attributs : dictionnaire qui associe les attributs aux bons index\n",
    "dict_attributs = {'Elevation':[0],'Aspect':[1],'Slope':[2],\n",
    "                  'Horizontal_Distance_To_Hydrology':[3],\n",
    "                  'Vertical_Distance_To_Hydrology':[4],\n",
    "                  'Horizontal_Distance_To_Roadways':[5],\n",
    "                  'Hillshade_9am':[6],'Hillshade_Noon':[7],\n",
    "                  'Hillshade_3pm':[8],\n",
    "                  'Horizontal_Distance_To_Fire_Points':[9],\n",
    "                  'Wilderness_Area':[10,11,12,13],\n",
    "                  'Soil_Type':list(range(14,54)),\n",
    "                  'Cover_Type':[54]}\n",
    "\n",
    "# forest_cover_types :\n",
    "#  1 : Spruce/Fir\n",
    "#  2 : Lodgepole Pine\n",
    "#  3 : Ponderosa Pine\n",
    "#  4 : Cottonwood/Willow\n",
    "#  5 : Aspen\n",
    "#  6 : Douglas-fir\n",
    "#  7 : Krummholz\n",
    "forest_cover_types = ['','Spruce/Fir','Lodgepole Pine','Ponderosa Pine',\n",
    "                      'Cottonwood/Willow','Aspen','Douglas-fir','Krummholz']\n",
    "\n",
    "# qualitative : attributs des données qualitatives\n",
    "qualitative = ['Cover_Type','Wilderness_Area','Soil_Type']\n",
    "\n",
    "def convert_to_int(X):\n",
    "    return list(map(int,X))\n",
    "\n",
    "def convert_to_float(X):\n",
    "    return list(map(float,X))\n",
    "\n",
    "def convert_to_bool(X):\n",
    "    return [convert_to_int(x.split()) for x in X]\n",
    "\n",
    "def convert_to_class(X):\n",
    "    return [x.index(1)+1 for x in X]"
   ]
  },
  {
   "cell_type": "code",
   "execution_count": 4,
   "metadata": {
    "collapsed": false,
    "nbpresent": {
     "id": "0d3fb2f7-326e-4dcb-a111-6dc08d6f502f"
    }
   },
   "outputs": [],
   "source": [
    "# df_covtype : DataFrame de toutes les données non traitées triées par attribut\n",
    "df_covtype = pd.read_csv('covtype/archives/covtype.data.gz',\n",
    "                         header=None,\n",
    "                         parse_dates=dict_attributs,\n",
    "                         compression='gzip')\n",
    "\n",
    "# wilderness et soil : gardent en mémoire les vecteurs binaires pour les remplacer par des entiers\n",
    "# Wilderness_Areas\n",
    "#  1 : Rawah Wilderness Area\n",
    "#  2 : Neota Wilderness Area\n",
    "#  3 : Comanche Peak Wilderness Area\n",
    "#  4 : Cache la Poudre Wilderness Area\n",
    "# Soil_Types\n",
    "#  1 to 40 : based on the USFS Ecological Landtype Units for this study area.\n",
    "for attribut in dict_attributs:\n",
    "    if attribut is 'Wilderness_Area':\n",
    "        wilderness = convert_to_bool(df_covtype[attribut])\n",
    "        df_covtype[attribut] = convert_to_class(wilderness)\n",
    "\n",
    "    elif attribut is 'Soil_Type':\n",
    "        soil = convert_to_bool(df_covtype[attribut])\n",
    "        df_covtype[attribut] = convert_to_class(soil)\n",
    "\n",
    "    elif attribut in ['Cover_Type','Hillshade_9am','Hillshade_Noon','Hillshade_3pm']:\n",
    "        df_covtype[attribut] = convert_to_int(df_covtype[attribut])\n",
    "\n",
    "    else:\n",
    "        df_covtype[attribut] = convert_to_float(df_covtype[attribut])\n",
    "\n",
    "# labels : array des étiquettes des types de forêts\n",
    "labels = np.unique(df_covtype.Cover_Type.values)"
   ]
  },
  {
   "cell_type": "code",
   "execution_count": 5,
   "metadata": {
    "collapsed": false,
    "nbpresent": {
     "id": "9d6d1afb-d22b-4f2c-8dd5-7691b074466f"
    }
   },
   "outputs": [
    {
     "data": {
      "text/html": [
       "<div>\n",
       "<style scoped>\n",
       "    .dataframe tbody tr th:only-of-type {\n",
       "        vertical-align: middle;\n",
       "    }\n",
       "\n",
       "    .dataframe tbody tr th {\n",
       "        vertical-align: top;\n",
       "    }\n",
       "\n",
       "    .dataframe thead th {\n",
       "        text-align: right;\n",
       "    }\n",
       "</style>\n",
       "<table border=\"1\" class=\"dataframe\">\n",
       "  <thead>\n",
       "    <tr style=\"text-align: right;\">\n",
       "      <th></th>\n",
       "      <th>Cover_Type</th>\n",
       "      <th>Horizontal_Distance_To_Roadways</th>\n",
       "      <th>Horizontal_Distance_To_Fire_Points</th>\n",
       "      <th>Soil_Type</th>\n",
       "      <th>Hillshade_9am</th>\n",
       "      <th>Hillshade_3pm</th>\n",
       "      <th>Aspect</th>\n",
       "      <th>Slope</th>\n",
       "      <th>Wilderness_Area</th>\n",
       "      <th>Horizontal_Distance_To_Hydrology</th>\n",
       "      <th>Elevation</th>\n",
       "      <th>Hillshade_Noon</th>\n",
       "      <th>Vertical_Distance_To_Hydrology</th>\n",
       "    </tr>\n",
       "  </thead>\n",
       "  <tbody>\n",
       "    <tr>\n",
       "      <th>0</th>\n",
       "      <td>5</td>\n",
       "      <td>510.0</td>\n",
       "      <td>6279.0</td>\n",
       "      <td>29</td>\n",
       "      <td>221</td>\n",
       "      <td>148</td>\n",
       "      <td>51.0</td>\n",
       "      <td>3.0</td>\n",
       "      <td>1</td>\n",
       "      <td>258.0</td>\n",
       "      <td>2596.0</td>\n",
       "      <td>232</td>\n",
       "      <td>0.0</td>\n",
       "    </tr>\n",
       "    <tr>\n",
       "      <th>1</th>\n",
       "      <td>5</td>\n",
       "      <td>390.0</td>\n",
       "      <td>6225.0</td>\n",
       "      <td>29</td>\n",
       "      <td>220</td>\n",
       "      <td>151</td>\n",
       "      <td>56.0</td>\n",
       "      <td>2.0</td>\n",
       "      <td>1</td>\n",
       "      <td>212.0</td>\n",
       "      <td>2590.0</td>\n",
       "      <td>235</td>\n",
       "      <td>-6.0</td>\n",
       "    </tr>\n",
       "    <tr>\n",
       "      <th>2</th>\n",
       "      <td>2</td>\n",
       "      <td>3180.0</td>\n",
       "      <td>6121.0</td>\n",
       "      <td>12</td>\n",
       "      <td>234</td>\n",
       "      <td>135</td>\n",
       "      <td>139.0</td>\n",
       "      <td>9.0</td>\n",
       "      <td>1</td>\n",
       "      <td>268.0</td>\n",
       "      <td>2804.0</td>\n",
       "      <td>238</td>\n",
       "      <td>65.0</td>\n",
       "    </tr>\n",
       "    <tr>\n",
       "      <th>3</th>\n",
       "      <td>2</td>\n",
       "      <td>3090.0</td>\n",
       "      <td>6211.0</td>\n",
       "      <td>30</td>\n",
       "      <td>238</td>\n",
       "      <td>122</td>\n",
       "      <td>155.0</td>\n",
       "      <td>18.0</td>\n",
       "      <td>1</td>\n",
       "      <td>242.0</td>\n",
       "      <td>2785.0</td>\n",
       "      <td>238</td>\n",
       "      <td>118.0</td>\n",
       "    </tr>\n",
       "    <tr>\n",
       "      <th>4</th>\n",
       "      <td>5</td>\n",
       "      <td>391.0</td>\n",
       "      <td>6172.0</td>\n",
       "      <td>29</td>\n",
       "      <td>220</td>\n",
       "      <td>150</td>\n",
       "      <td>45.0</td>\n",
       "      <td>2.0</td>\n",
       "      <td>1</td>\n",
       "      <td>153.0</td>\n",
       "      <td>2595.0</td>\n",
       "      <td>234</td>\n",
       "      <td>-1.0</td>\n",
       "    </tr>\n",
       "  </tbody>\n",
       "</table>\n",
       "</div>"
      ],
      "text/plain": [
       "   Cover_Type  Horizontal_Distance_To_Roadways  \\\n",
       "0           5                            510.0   \n",
       "1           5                            390.0   \n",
       "2           2                           3180.0   \n",
       "3           2                           3090.0   \n",
       "4           5                            391.0   \n",
       "\n",
       "   Horizontal_Distance_To_Fire_Points  Soil_Type  Hillshade_9am  \\\n",
       "0                              6279.0         29            221   \n",
       "1                              6225.0         29            220   \n",
       "2                              6121.0         12            234   \n",
       "3                              6211.0         30            238   \n",
       "4                              6172.0         29            220   \n",
       "\n",
       "   Hillshade_3pm  Aspect  Slope  Wilderness_Area  \\\n",
       "0            148    51.0    3.0                1   \n",
       "1            151    56.0    2.0                1   \n",
       "2            135   139.0    9.0                1   \n",
       "3            122   155.0   18.0                1   \n",
       "4            150    45.0    2.0                1   \n",
       "\n",
       "   Horizontal_Distance_To_Hydrology  Elevation  Hillshade_Noon  \\\n",
       "0                             258.0     2596.0             232   \n",
       "1                             212.0     2590.0             235   \n",
       "2                             268.0     2804.0             238   \n",
       "3                             242.0     2785.0             238   \n",
       "4                             153.0     2595.0             234   \n",
       "\n",
       "   Vertical_Distance_To_Hydrology  \n",
       "0                             0.0  \n",
       "1                            -6.0  \n",
       "2                            65.0  \n",
       "3                           118.0  \n",
       "4                            -1.0  "
      ]
     },
     "execution_count": 5,
     "metadata": {},
     "output_type": "execute_result"
    }
   ],
   "source": [
    "df_covtype.head()"
   ]
  },
  {
   "cell_type": "markdown",
   "metadata": {
    "nbpresent": {
     "id": "2a4d650a-5e58-4c3e-99e3-3acda115566b"
    }
   },
   "source": [
    "## Analyse préliminaire et pré-traitement des données "
   ]
  },
  {
   "cell_type": "markdown",
   "metadata": {},
   "source": [
    "Tout d'abord on constate sur la figure précédente que les données sont inégalement réparties selon les classes. Cela peut vouloir dire plusieurs choses : soit nos données sont mal échantillonnées, soit les types 1 et 2 sont effectivement largement plus répandues.\tC'est quelque chose dont nous n'avons pas la maitrise, une discussion avec un expert sur le sujet serait préférable. Nous continuerons l'étude sans experts et en supposant que les données sont raisonnablement échantillonnées.\n",
    "\t\n",
    "La suite consistera globalement à faire la même chose sur le reste des données grâce aux méthodes de la bibliothèque pandas."
   ]
  },
  {
   "cell_type": "code",
   "execution_count": 6,
   "metadata": {
    "collapsed": false,
    "nbpresent": {
     "id": "0f957556-b03f-4fe7-8713-23f086414d38"
    }
   },
   "outputs": [],
   "source": [
    "import matplotlib.pyplot as plt\n",
    "from pandas.plotting import scatter_matrix"
   ]
  },
  {
   "cell_type": "code",
   "execution_count": 7,
   "metadata": {
    "collapsed": false,
    "nbpresent": {
     "id": "510335cd-9646-47cd-a826-a0bd5c71dfe4"
    }
   },
   "outputs": [
    {
     "data": {
      "image/png": "[encoded data removed]",
      "text/plain": [
       "<Figure size 432x288 with 1 Axes>"
      ]
     },
     "metadata": {},
     "output_type": "display_data"
    }
   ],
   "source": [
    "# df_bycovtype : DataFrame.groupby de toutes les données triées par attributs et regroupée par classes. \n",
    "df_bycovtype = df_covtype.groupby('Cover_Type')\n",
    "\n",
    "nb_per_labels=df_bycovtype.size()\n",
    "plt.bar(labels,nb_per_labels.values)\n",
    "plt.title('Features per labels')\n",
    "plt.show()"
   ]
  },
  {
   "cell_type": "markdown",
   "metadata": {
    "nbpresent": {
     "id": "678b5fcf-1ebc-48b6-b92a-8068ee1070bb"
    }
   },
   "source": [
    "### Visualisation des données"
   ]
  },
  {
   "cell_type": "markdown",
   "metadata": {
    "nbpresent": {
     "id": "0ab6b15b-a264-48b4-82dd-bfda8da5d361"
    }
   },
   "source": [
    "On regarde d'abord les valeurs moyennes de chaque attribut, par classe, pour observer une première fois les attributs les plus significatifs."
   ]
  },
  {
   "cell_type": "code",
   "execution_count": 8,
   "metadata": {
    "collapsed": false,
    "nbpresent": {
     "id": "05821bfd-4ff1-4976-8c22-4fa10cb2d017"
    },
    "scrolled": false
   },
   "outputs": [
    {
     "data": {
      "text/html": [
       "<div>\n",
       "<style scoped>\n",
       "    .dataframe tbody tr th:only-of-type {\n",
       "        vertical-align: middle;\n",
       "    }\n",
       "\n",
       "    .dataframe tbody tr th {\n",
       "        vertical-align: top;\n",
       "    }\n",
       "\n",
       "    .dataframe thead th {\n",
       "        text-align: right;\n",
       "    }\n",
       "</style>\n",
       "<table border=\"1\" class=\"dataframe\">\n",
       "  <thead>\n",
       "    <tr style=\"text-align: right;\">\n",
       "      <th></th>\n",
       "      <th>Horizontal_Distance_To_Roadways</th>\n",
       "      <th>Horizontal_Distance_To_Fire_Points</th>\n",
       "      <th>Soil_Type</th>\n",
       "      <th>Hillshade_9am</th>\n",
       "      <th>Hillshade_3pm</th>\n",
       "      <th>Aspect</th>\n",
       "      <th>Slope</th>\n",
       "      <th>Wilderness_Area</th>\n",
       "      <th>Horizontal_Distance_To_Hydrology</th>\n",
       "      <th>Elevation</th>\n",
       "      <th>Hillshade_Noon</th>\n",
       "      <th>Vertical_Distance_To_Hydrology</th>\n",
       "    </tr>\n",
       "    <tr>\n",
       "      <th>Cover_Type</th>\n",
       "      <th></th>\n",
       "      <th></th>\n",
       "      <th></th>\n",
       "      <th></th>\n",
       "      <th></th>\n",
       "      <th></th>\n",
       "      <th></th>\n",
       "      <th></th>\n",
       "      <th></th>\n",
       "      <th></th>\n",
       "      <th></th>\n",
       "      <th></th>\n",
       "    </tr>\n",
       "  </thead>\n",
       "  <tbody>\n",
       "    <tr>\n",
       "      <th>1</th>\n",
       "      <td>2614.834517</td>\n",
       "      <td>2009.253517</td>\n",
       "      <td>27.749514</td>\n",
       "      <td>211.998782</td>\n",
       "      <td>143.875038</td>\n",
       "      <td>156.138227</td>\n",
       "      <td>13.127110</td>\n",
       "      <td>1.914138</td>\n",
       "      <td>270.555245</td>\n",
       "      <td>3128.644888</td>\n",
       "      <td>223.430211</td>\n",
       "      <td>42.156939</td>\n",
       "    </tr>\n",
       "    <tr>\n",
       "      <th>2</th>\n",
       "      <td>2429.530799</td>\n",
       "      <td>2168.154849</td>\n",
       "      <td>24.351732</td>\n",
       "      <td>213.844423</td>\n",
       "      <td>142.983466</td>\n",
       "      <td>152.060515</td>\n",
       "      <td>13.550499</td>\n",
       "      <td>1.946869</td>\n",
       "      <td>279.916442</td>\n",
       "      <td>2920.936061</td>\n",
       "      <td>225.326596</td>\n",
       "      <td>45.884219</td>\n",
       "    </tr>\n",
       "    <tr>\n",
       "      <th>3</th>\n",
       "      <td>943.940734</td>\n",
       "      <td>910.955949</td>\n",
       "      <td>6.285618</td>\n",
       "      <td>201.918415</td>\n",
       "      <td>140.367176</td>\n",
       "      <td>176.372490</td>\n",
       "      <td>20.770208</td>\n",
       "      <td>3.600045</td>\n",
       "      <td>210.276473</td>\n",
       "      <td>2394.509845</td>\n",
       "      <td>215.826537</td>\n",
       "      <td>62.446915</td>\n",
       "    </tr>\n",
       "    <tr>\n",
       "      <th>4</th>\n",
       "      <td>914.199490</td>\n",
       "      <td>859.124135</td>\n",
       "      <td>7.028031</td>\n",
       "      <td>228.345832</td>\n",
       "      <td>111.392792</td>\n",
       "      <td>137.139425</td>\n",
       "      <td>18.528941</td>\n",
       "      <td>4.000000</td>\n",
       "      <td>106.934838</td>\n",
       "      <td>2223.939934</td>\n",
       "      <td>216.997088</td>\n",
       "      <td>41.186749</td>\n",
       "    </tr>\n",
       "    <tr>\n",
       "      <th>5</th>\n",
       "      <td>1349.765722</td>\n",
       "      <td>1577.719794</td>\n",
       "      <td>21.696303</td>\n",
       "      <td>223.474876</td>\n",
       "      <td>121.920889</td>\n",
       "      <td>139.283051</td>\n",
       "      <td>16.641315</td>\n",
       "      <td>2.203413</td>\n",
       "      <td>212.354893</td>\n",
       "      <td>2787.417571</td>\n",
       "      <td>219.035816</td>\n",
       "      <td>50.610344</td>\n",
       "    </tr>\n",
       "    <tr>\n",
       "      <th>6</th>\n",
       "      <td>1037.169805</td>\n",
       "      <td>1055.351471</td>\n",
       "      <td>10.174814</td>\n",
       "      <td>192.844302</td>\n",
       "      <td>148.284044</td>\n",
       "      <td>180.539068</td>\n",
       "      <td>19.048886</td>\n",
       "      <td>3.560891</td>\n",
       "      <td>159.853458</td>\n",
       "      <td>2419.181897</td>\n",
       "      <td>209.827662</td>\n",
       "      <td>45.437439</td>\n",
       "    </tr>\n",
       "    <tr>\n",
       "      <th>7</th>\n",
       "      <td>2738.250463</td>\n",
       "      <td>2070.031594</td>\n",
       "      <td>36.608191</td>\n",
       "      <td>216.967723</td>\n",
       "      <td>134.932033</td>\n",
       "      <td>153.236226</td>\n",
       "      <td>14.255924</td>\n",
       "      <td>2.390249</td>\n",
       "      <td>356.994686</td>\n",
       "      <td>3361.928669</td>\n",
       "      <td>221.746026</td>\n",
       "      <td>69.474305</td>\n",
       "    </tr>\n",
       "  </tbody>\n",
       "</table>\n",
       "</div>"
      ],
      "text/plain": [
       "            Horizontal_Distance_To_Roadways  \\\n",
       "Cover_Type                                    \n",
       "1                               2614.834517   \n",
       "2                               2429.530799   \n",
       "3                                943.940734   \n",
       "4                                914.199490   \n",
       "5                               1349.765722   \n",
       "6                               1037.169805   \n",
       "7                               2738.250463   \n",
       "\n",
       "            Horizontal_Distance_To_Fire_Points  Soil_Type  Hillshade_9am  \\\n",
       "Cover_Type                                                                 \n",
       "1                                  2009.253517  27.749514     211.998782   \n",
       "2                                  2168.154849  24.351732     213.844423   \n",
       "3                                   910.955949   6.285618     201.918415   \n",
       "4                                   859.124135   7.028031     228.345832   \n",
       "5                                  1577.719794  21.696303     223.474876   \n",
       "6                                  1055.351471  10.174814     192.844302   \n",
       "7                                  2070.031594  36.608191     216.967723   \n",
       "\n",
       "            Hillshade_3pm      Aspect      Slope  Wilderness_Area  \\\n",
       "Cover_Type                                                          \n",
       "1              143.875038  156.138227  13.127110         1.914138   \n",
       "2              142.983466  152.060515  13.550499         1.946869   \n",
       "3              140.367176  176.372490  20.770208         3.600045   \n",
       "4              111.392792  137.139425  18.528941         4.000000   \n",
       "5              121.920889  139.283051  16.641315         2.203413   \n",
       "6              148.284044  180.539068  19.048886         3.560891   \n",
       "7              134.932033  153.236226  14.255924         2.390249   \n",
       "\n",
       "            Horizontal_Distance_To_Hydrology    Elevation  Hillshade_Noon  \\\n",
       "Cover_Type                                                                  \n",
       "1                                 270.555245  3128.644888      223.430211   \n",
       "2                                 279.916442  2920.936061      225.326596   \n",
       "3                                 210.276473  2394.509845      215.826537   \n",
       "4                                 106.934838  2223.939934      216.997088   \n",
       "5                                 212.354893  2787.417571      219.035816   \n",
       "6                                 159.853458  2419.181897      209.827662   \n",
       "7                                 356.994686  3361.928669      221.746026   \n",
       "\n",
       "            Vertical_Distance_To_Hydrology  \n",
       "Cover_Type                                  \n",
       "1                                42.156939  \n",
       "2                                45.884219  \n",
       "3                                62.446915  \n",
       "4                                41.186749  \n",
       "5                                50.610344  \n",
       "6                                45.437439  \n",
       "7                                69.474305  "
      ]
     },
     "execution_count": 8,
     "metadata": {},
     "output_type": "execute_result"
    }
   ],
   "source": [
    "df_bycovtype.mean()"
   ]
  },
  {
   "cell_type": "code",
   "execution_count": 93,
   "metadata": {
    "collapsed": false,
    "nbpresent": {
     "id": "492240e7-b62b-44d6-99b0-906249176d55"
    }
   },
   "outputs": [
    {
     "data": {
      "image/png": "[encoded data removed]",
      "text/plain": [
       "<Figure size 432x288 with 1 Axes>"
      ]
     },
     "metadata": {},
     "output_type": "display_data"
    },
    {
     "data": {
      "image/png": "[encoded data removed]",
      "text/plain": [
       "<Figure size 432x288 with 1 Axes>"
      ]
     },
     "metadata": {},
     "output_type": "display_data"
    },
    {
     "data": {
      "image/png": "[encoded data removed]",
      "text/plain": [
       "<Figure size 432x288 with 1 Axes>"
      ]
     },
     "metadata": {},
     "output_type": "display_data"
    },
    {
     "data": {
      "image/png": "[encoded data removed]",
      "text/plain": [
       "<Figure size 432x288 with 1 Axes>"
      ]
     },
     "metadata": {},
     "output_type": "display_data"
    },
    {
     "data": {
      "image/png": "[encoded data removed]",
      "text/plain": [
       "<Figure size 432x288 with 1 Axes>"
      ]
     },
     "metadata": {},
     "output_type": "display_data"
    },
    {
     "data": {
      "image/png": "[encoded data removed]",
      "text/plain": [
       "<Figure size 432x288 with 1 Axes>"
      ]
     },
     "metadata": {},
     "output_type": "display_data"
    },
    {
     "data": {
      "image/png": "[encoded data removed]",
      "text/plain": [
       "<Figure size 432x288 with 1 Axes>"
      ]
     },
     "metadata": {},
     "output_type": "display_data"
    },
    {
     "data": {
      "image/png": "[encoded data removed]",
      "text/plain": [
       "<Figure size 432x288 with 1 Axes>"
      ]
     },
     "metadata": {},
     "output_type": "display_data"
    },
    {
     "data": {
      "image/png": "[encoded data removed]",
      "text/plain": [
       "<Figure size 432x288 with 1 Axes>"
      ]
     },
     "metadata": {},
     "output_type": "display_data"
    },
    {
     "data": {
      "image/png": "[encoded data removed]",
      "text/plain": [
       "<Figure size 432x288 with 1 Axes>"
      ]
     },
     "metadata": {},
     "output_type": "display_data"
    },
    {
     "data": {
      "image/png": "[encoded data removed]",
      "text/plain": [
       "<Figure size 432x288 with 1 Axes>"
      ]
     },
     "metadata": {},
     "output_type": "display_data"
    },
    {
     "data": {
      "image/png": "[encoded data removed]",
      "text/plain": [
       "<Figure size 432x288 with 1 Axes>"
      ]
     },
     "metadata": {},
     "output_type": "display_data"
    },
    {
     "data": {
      "image/png": "[encoded data removed]",
      "text/plain": [
       "<Figure size 432x288 with 1 Axes>"
      ]
     },
     "metadata": {},
     "output_type": "display_data"
    },
    {
     "data": {
      "image/png": "[encoded data removed]",
      "text/plain": [
       "<Figure size 432x288 with 1 Axes>"
      ]
     },
     "metadata": {},
     "output_type": "display_data"
    }
   ],
   "source": [
    "for attribut in ['Wilderness_Area','Soil_Type']:\n",
    "    attribut_labels = df_covtype[attribut].values\n",
    "    df_bycovtype.hist(column=attribut,bins=max(attribut_labels),grid=False,sharex=True)\n",
    "plt.show()"
   ]
  },
  {
   "cell_type": "markdown",
   "metadata": {
    "collapsed": false,
    "nbpresent": {
     "id": "d59b2102-fe89-4bb4-91a8-0ba56fc89934"
    }
   },
   "source": [
    "On voit que les distributions des deux données qualitatives sont importantes, nous allons donc les garder, malgré le fait que nous ayons 54 paramètres au lieu de 10."
   ]
  },
  {
   "cell_type": "code",
   "execution_count": 10,
   "metadata": {
    "collapsed": false,
    "nbpresent": {
     "id": "b744fca5-fb11-42c0-9913-f1e1d073685c"
    }
   },
   "outputs": [
    {
     "data": {
      "image/png": "[encoded data removed]",
      "text/plain": [
       "<Figure size 432x288 with 1 Axes>"
      ]
     },
     "metadata": {},
     "output_type": "display_data"
    },
    {
     "data": {
      "image/png": "[encoded data removed]",
      "text/plain": [
       "<Figure size 432x288 with 1 Axes>"
      ]
     },
     "metadata": {},
     "output_type": "display_data"
    },
    {
     "data": {
      "image/png": "[encoded data removed]",
      "text/plain": [
       "<Figure size 432x288 with 1 Axes>"
      ]
     },
     "metadata": {},
     "output_type": "display_data"
    },
    {
     "data": {
      "image/png": "[encoded data removed]",
      "text/plain": [
       "<Figure size 432x288 with 1 Axes>"
      ]
     },
     "metadata": {},
     "output_type": "display_data"
    },
    {
     "data": {
      "image/png": "[encoded data removed]",
      "text/plain": [
       "<Figure size 432x288 with 1 Axes>"
      ]
     },
     "metadata": {},
     "output_type": "display_data"
    },
    {
     "data": {
      "image/png": "[encoded data removed]",
      "text/plain": [
       "<Figure size 432x288 with 1 Axes>"
      ]
     },
     "metadata": {},
     "output_type": "display_data"
    },
    {
     "data": {
      "image/png": "[encoded data removed]",
      "text/plain": [
       "<Figure size 432x288 with 1 Axes>"
      ]
     },
     "metadata": {},
     "output_type": "display_data"
    },
    {
     "data": {
      "image/png": "[encoded data removed]",
      "text/plain": [
       "<Figure size 432x288 with 1 Axes>"
      ]
     },
     "metadata": {},
     "output_type": "display_data"
    },
    {
     "data": {
      "image/png": "[encoded data removed]",
      "text/plain": [
       "<Figure size 432x288 with 1 Axes>"
      ]
     },
     "metadata": {},
     "output_type": "display_data"
    },
    {
     "data": {
      "image/png": "[encoded data removed]",
      "text/plain": [
       "<Figure size 432x288 with 1 Axes>"
      ]
     },
     "metadata": {},
     "output_type": "display_data"
    }
   ],
   "source": [
    "for attribut in dict_attributs:\n",
    "    if not(attribut in qualitative):\n",
    "        df_covtype.boxplot(column=attribut,by='Cover_Type')\n",
    "        plt.show()"
   ]
  },
  {
   "cell_type": "markdown",
   "metadata": {
    "nbpresent": {
     "id": "b59d5ae0-f25d-4cde-8ffc-5796a08bc5fc"
    }
   },
   "source": [
    "Ici on voit que les données sur l'ombre au solstice ne varient pas beaucoup selon les types de forêts. Nous chercherons"
   ]
  },
  {
   "cell_type": "code",
   "execution_count": 159,
   "metadata": {
    "collapsed": false,
    "nbpresent": {
     "id": "d74353b5-65fb-4ae4-ae53-b464e9176069"
    }
   },
   "outputs": [],
   "source": [
    "import plotly\n",
    "import plotly.plotly as py\n",
    "import plotly.graph_objs as go\n",
    "from plotly.graph_objs import *\n",
    "\n",
    "def scatter(keys,volume=False):\n",
    "    if not(volume):\n",
    "        sm = scatter_matrix(df_covtype[keys][:500],c=df_covtype.Cover_Type.values[:500])\n",
    "\n",
    "        #Change label rotation\n",
    "        [s.xaxis.label.set_rotation(45) for s in sm.reshape(-1)]\n",
    "        [s.yaxis.label.set_rotation(45) for s in sm.reshape(-1)]\n",
    "\n",
    "        #May need to offset label when rotating to prevent overlap of figure\n",
    "        [s.get_yaxis().set_label_coords(-0.5,0.5) for s in sm.reshape(-1)]\n",
    "\n",
    "        #Hide all ticks\n",
    "        [s.set_xticks(()) for s in sm.reshape(-1)]\n",
    "        [s.set_yticks(()) for s in sm.reshape(-1)]\n",
    "        plt.show()\n",
    "    else: #plot3d by class\n",
    "        plotly.tools.set_credentials_file(username='kevinzagalo', api_key='tZ4DZDjSf7SjDoNZUZjV')\n",
    "        data=[]\n",
    "        cov = df_covtype['Cover_Type'].values\n",
    "\n",
    "        for n, color in zip(range(1,8),['blue','red','green','orange','pink','yellow','purple']):\n",
    "\n",
    "            xs = df_covtype[keys[0]][cov==n].values[:300]\n",
    "            ys = df_covtype[keys[1]][cov==n].values[:300]\n",
    "            zs = df_covtype[keys[2]][cov==n].values[:300]\n",
    "\n",
    "            trace = go.Scatter3d(\n",
    "                x=xs,\n",
    "                y=ys,\n",
    "                z=zs,\n",
    "                text=keys,\n",
    "                mode='markers',\n",
    "                marker=dict(\n",
    "                    size=12,\n",
    "                    line=dict(\n",
    "                        color=color,\n",
    "                        width=0.2\n",
    "                    ),\n",
    "                    opacity=1\n",
    "                )\n",
    "            )\n",
    "            data.append(trace)\n",
    "        layout = go.Layout(margin=dict(l=0,\n",
    "                                       r=0,\n",
    "                                       b=0,\n",
    "                                       t=0),\n",
    "                            scene = dict(\n",
    "                                xaxis = dict(\n",
    "                                    title=keys[0]),\n",
    "                                yaxis = dict(\n",
    "                                    title=keys[1]),\n",
    "                                zaxis = dict(\n",
    "                                    title=keys[2]))\n",
    "                  )\n",
    "                        \n",
    "        return data,layout"
   ]
  },
  {
   "cell_type": "code",
   "execution_count": 160,
   "metadata": {
    "collapsed": false,
    "nbpresent": {
     "id": "6930e240-353a-41d4-9a78-0c4035c33292"
    }
   },
   "outputs": [
    {
     "data": {
      "text/html": [
       "<iframe id=\"igraph\" scrolling=\"no\" style=\"border:none;\" seamless=\"seamless\" src=\"https://plot.ly/~kevinzagalo/2.embed\" height=\"525px\" width=\"100%\"></iframe>"
      ],
      "text/plain": [
       "<plotly.tools.PlotlyDisplay object>"
      ]
     },
     "execution_count": 160,
     "metadata": {},
     "output_type": "execute_result"
    }
   ],
   "source": [
    "data,layout = scatter(['Hillshade_Noon','Hillshade_9am','Hillshade_3pm'],volume=True)\n",
    "fig = go.Figure(data=data, layout=layout)\n",
    "py.iplot(fig, filename='hillshade-scatter')"
   ]
  },
  {
   "cell_type": "markdown",
   "metadata": {
    "nbpresent": {
     "id": "46b0f545-6ebd-4390-aa74-d604e68c6e2c"
    }
   },
   "source": [
    "On peut voir que les données sont corrélées. On peut potentiellement réduire le nombre d'attributs et/ou les transformer pour exhiber ces corrélations."
   ]
  },
  {
   "cell_type": "markdown",
   "metadata": {
    "nbpresent": {
     "id": "d475f97f-3b0c-49ef-b20a-5c346d605e46"
    }
   },
   "source": [
    "### Modifications des données"
   ]
  },
  {
   "cell_type": "markdown",
   "metadata": {},
   "source": [
    "D'abord, on utilisera plutôt le cosinus de la pente des arbres $\\verb!Slope!$, plutôt que la pente. On aura des valeurs comprises entre -1 et 1, ce qui facilite les calculs. De plus, l'ombrage, c'est-à-dire les attributs $\\verb!Hillshade_9am!$, $\\verb!Hillshade_Noon!$ et $\\verb!Hillshade_3pm!$ s'exprime d'une manière (linéaire) ou d'une autre par le cosinus de la pente des arbres, ce qui peut aussi faciliter les calculs."
   ]
  },
  {
   "cell_type": "code",
   "execution_count": 177,
   "metadata": {
    "collapsed": false
   },
   "outputs": [],
   "source": [
    "cos_slope = np.cos(df_covtype.Slope.values * np.pi/180)\n",
    "df_covtype['cos_Slope'] = cos_slope"
   ]
  },
  {
   "cell_type": "markdown",
   "metadata": {},
   "source": [
    "On ajoute 4 attributs, la moyenne des attributs $\\verb!Hillshade_9am!$, $\\verb!Hillshade_Noon!$ et $\\verb!Hillshade_3pm!$, ainsi que les produits de ces trois derniers."
   ]
  },
  {
   "cell_type": "code",
   "execution_count": 166,
   "metadata": {
    "collapsed": false
   },
   "outputs": [],
   "source": [
    "hillshade_mean = df_covtype[['Hillshade_9am','Hillshade_Noon','Hillshade_3pm']].mean(axis=1)\n",
    "prod_hillshade_9amNoon = df_covtype.Hillshade_9am.values * df_covtype.Hillshade_Noon.values/255\n",
    "prod_hillshade_9am3pm = df_covtype.Hillshade_9am.values * df_covtype.Hillshade_3pm.values/255\n",
    "prod_hillshade_Noon3pm = df_covtype.Hillshade_3pm.values * df_covtype.Hillshade_Noon.values/255\n",
    "\n",
    "df_covtype['Hillshade_mean'] = hillshade_mean\n",
    "df_covtype['Corr_Hillshade_9amNoon'] = prod_hillshade_9amNoon\n",
    "df_covtype['Corr_Hillshade_9am3pm'] = prod_hillshade_9am3pm\n",
    "df_covtype['Corr_Hillshade_Noon3pm'] = prod_hillshade_Noon3pm"
   ]
  },
  {
   "cell_type": "code",
   "execution_count": 180,
   "metadata": {
    "collapsed": false
   },
   "outputs": [
    {
     "data": {
      "text/html": [
       "<iframe id=\"igraph\" scrolling=\"no\" style=\"border:none;\" seamless=\"seamless\" src=\"https://plot.ly/~kevinzagalo/10.embed\" height=\"525px\" width=\"100%\"></iframe>"
      ],
      "text/plain": [
       "<plotly.tools.PlotlyDisplay object>"
      ]
     },
     "execution_count": 180,
     "metadata": {},
     "output_type": "execute_result"
    }
   ],
   "source": [
    "data,layout=scatter(['Corr_Hillshade_9amNoon','Corr_Hillshade_9am3pm','Corr_Hillshade_Noon3pm'],volume=True)\n",
    "fig = go.Figure(data=data, layout=layout)\n",
    "py.iplot(fig, filename='corr_hillshade-scatter')"
   ]
  },
  {
   "cell_type": "code",
   "execution_count": null,
   "metadata": {
    "collapsed": true
   },
   "outputs": [],
   "source": [
    "En remarquant que les attributs $\\verb!Elevation!$, $"
   ]
  },
  {
   "cell_type": "code",
   "execution_count": 182,
   "metadata": {
    "collapsed": false,
    "nbpresent": {
     "id": "dbbc0a3e-a2e1-4141-8e41-a0b22a4a06be"
    },
    "scrolled": false
   },
   "outputs": [
    {
     "data": {
      "text/html": [
       "<iframe id=\"igraph\" scrolling=\"no\" style=\"border:none;\" seamless=\"seamless\" src=\"https://plot.ly/~kevinzagalo/8.embed\" height=\"525px\" width=\"100%\"></iframe>"
      ],
      "text/plain": [
       "<plotly.tools.PlotlyDisplay object>"
      ]
     },
     "execution_count": 182,
     "metadata": {},
     "output_type": "execute_result"
    }
   ],
   "source": [
    "data,layout=scatter(['Elevation','cos_Slope','Hillshade_mean'],volume=True)\n",
    "fig = go.Figure(data=data, layout=layout)\n",
    "py.iplot(fig, filename='slope-scatter')"
   ]
  },
  {
   "cell_type": "markdown",
   "metadata": {
    "nbpresent": {
     "id": "3cdb6f0c-657d-4b2e-8a12-a74d1cb6e534"
    }
   },
   "source": [
    "On introduit un nouvel attribut qui en remplacera une paire :\n",
    "$$ \\verb!Distance_To_Hydrology! = \\sqrt{\\verb!Vertical_Distance_To_Hydrology!^2 + \\verb!Horizontal_Distance_To_Hydrology!^2}$$"
   ]
  },
  {
   "cell_type": "code",
   "execution_count": 155,
   "metadata": {
    "collapsed": true,
    "nbpresent": {
     "id": "4b439da3-e77d-423c-98d9-9cf23b117629"
    }
   },
   "outputs": [],
   "source": [
    "def dist(x,y):\n",
    "    return np.sqrt(np.array(x)**2 + np.array(y)**2)\n",
    "\n",
    "df_covtype['Distance_To_Hydrology'] = dist(df_covtype.Vertical_Distance_To_Hydrology.values,\n",
    "                                           df_covtype.Horizontal_Distance_To_Hydrology.values)"
   ]
  },
  {
   "cell_type": "code",
   "execution_count": 15,
   "metadata": {
    "collapsed": false,
    "nbpresent": {
     "id": "c96051c5-a541-4fec-b673-7df9b3ca279e"
    },
    "scrolled": true
   },
   "outputs": [
    {
     "data": {
      "image/png": "[encoded data removed]",
      "text/plain": [
       "<Figure size 432x288 with 1 Axes>"
      ]
     },
     "metadata": {},
     "output_type": "display_data"
    },
    {
     "data": {
      "image/png": "[encoded data removed]",
      "text/plain": [
       "<Figure size 432x288 with 1 Axes>"
      ]
     },
     "metadata": {},
     "output_type": "display_data"
    },
    {
     "data": {
      "image/png": "[encoded data removed]",
      "text/plain": [
       "<Figure size 432x288 with 1 Axes>"
      ]
     },
     "metadata": {},
     "output_type": "display_data"
    }
   ],
   "source": [
    "for attribut in ['Horizontal_Distance_To_Hydrology','Vertical_Distance_To_Hydrology','Distance_To_Hydrology']:\n",
    "    plt.bar(labels,df_bycovtype[attribut].mean())\n",
    "    plt.title('Histogram for ' + attribut + ' means')\n",
    "    plt.show()"
   ]
  },
  {
   "cell_type": "code",
   "execution_count": 165,
   "metadata": {
    "collapsed": false,
    "nbpresent": {
     "id": "5ac70b47-6434-4523-b788-f435b89870fa"
    },
    "scrolled": false
   },
   "outputs": [
    {
     "data": {
      "text/html": [
       "<iframe id=\"igraph\" scrolling=\"no\" style=\"border:none;\" seamless=\"seamless\" src=\"https://plot.ly/~kevinzagalo/6.embed\" height=\"525px\" width=\"100%\"></iframe>"
      ],
      "text/plain": [
       "<plotly.tools.PlotlyDisplay object>"
      ]
     },
     "execution_count": 165,
     "metadata": {},
     "output_type": "execute_result"
    }
   ],
   "source": [
    "data,layout = scatter(['Distance_To_Hydrology','Horizontal_Distance_To_Fire_Points',\n",
    "                       'Horizontal_Distance_To_Roadways'],volume=True)\n",
    "fig = go.Figure(data=data, layout=layout)\n",
    "py.iplot(fig, filename='elevation-scatter')"
   ]
  },
  {
   "cell_type": "code",
   "execution_count": 17,
   "metadata": {
    "collapsed": false,
    "nbpresent": {
     "id": "5359f40f-08e8-4d06-8389-c3fc13507d56"
    }
   },
   "outputs": [
    {
     "data": {
      "text/plain": [
       "((581012, 53), 52)"
      ]
     },
     "execution_count": 17,
     "metadata": {},
     "output_type": "execute_result"
    }
   ],
   "source": [
    "# On sépare les labels et les données qualitatives des features,puis on supprime les colonnes inutiles\n",
    "data0 = df_covtype.drop(['Horizontal_Distance_To_Hydrology','Vertical_Distance_To_Hydrology',\n",
    "                         'Slope'] + qualitative,axis=1).values\n",
    "target = df_covtype.Cover_Type.values\n",
    "\n",
    "N,d = data0.shape\n",
    "N,w = np.array(wilderness).shape\n",
    "N,s = np.array(soil).shape\n",
    "data = np.zeros((N,d+w+s))\n",
    "\n",
    "# Normalisation\n",
    "for i in range(d):\n",
    "    x = data0[:,i]\n",
    "    data0[:,i] = (x-np.mean(x))/sum(x)\n",
    "\n",
    "# On remet les données qualitative de sorte à pouvoir les exploiter\n",
    "for n in range(N):\n",
    "    deleted_data = np.concatenate([wilderness[n],soil[n]])\n",
    "    data[n] = np.concatenate([data0[n],deleted_data])\n",
    "\n",
    "data.shape,np.linalg.matrix_rank(data)"
   ]
  },
  {
   "cell_type": "markdown",
   "metadata": {
    "nbpresent": {
     "id": "af23b3ba-9887-45d9-8a80-cbebef9e7d81"
    }
   },
   "source": [
    "Une variables est combinaison lineaire d'autres variables... à mon avis c'est une colonne de 0 dans l'attribut Soil_Type"
   ]
  },
  {
   "cell_type": "markdown",
   "metadata": {
    "nbpresent": {
     "id": "e7e428bc-1bc4-4be8-8a0c-354a35f0ef24"
    }
   },
   "source": [
    "### Données de train/validation/test"
   ]
  },
  {
   "cell_type": "markdown",
   "metadata": {
    "nbpresent": {
     "id": "1299fa74-9e97-45d6-97b0-c2feb61f401d"
    }
   },
   "source": [
    "Pour l'instant on laisse les variables Wilderness_Area et Soil_Type de côté. On cherchera à savoir ensuite si les 54 attributs sont necessaires ou si les 10 premiers sont suffisants."
   ]
  },
  {
   "cell_type": "code",
   "execution_count": 18,
   "metadata": {
    "collapsed": true,
    "nbpresent": {
     "id": "6b854055-854b-4135-b73d-4349a3979903"
    }
   },
   "outputs": [],
   "source": [
    "from sklearn.model_selection import train_test_split"
   ]
  },
  {
   "cell_type": "code",
   "execution_count": 19,
   "metadata": {
    "collapsed": false,
    "nbpresent": {
     "id": "164bbe0c-b86f-4dec-97d1-b3a21b378dc0"
    }
   },
   "outputs": [
    {
     "name": "stdout",
     "output_type": "stream",
     "text": [
      "x_train shape: (465389, 53) y_train shape: (465389,)\n",
      "465389 train set\n",
      "57521 validation set\n",
      "58102 test set\n"
     ]
    }
   ],
   "source": [
    "# Ensemble de train et ensemble de test\n",
    "(x_train,x_test,y_train,y_test) = train_test_split(data,target,random_state=0,test_size=.1)\n",
    "\n",
    "# Ensemble de validation \n",
    "(x_train,x_valid,y_train,y_valid) = train_test_split(x_train,y_train,test_size=.11)\n",
    "\n",
    "# Résumé\n",
    "print(\"x_train shape:\", x_train.shape, \n",
    "      \"y_train shape:\", y_train.shape)\n",
    "print(x_train.shape[0], 'train set')\n",
    "print(x_valid.shape[0], 'validation set')\n",
    "print(x_test.shape[0], 'test set')"
   ]
  },
  {
   "cell_type": "markdown",
   "metadata": {
    "nbpresent": {
     "id": "9875c3a7-097b-4842-ae11-e4f4c09255f1"
    }
   },
   "source": [
    "## Test de différents modèles"
   ]
  },
  {
   "cell_type": "code",
   "execution_count": 127,
   "metadata": {
    "collapsed": false,
    "nbpresent": {
     "id": "991b1ee9-5af0-42a1-b543-dc406d893d71"
    }
   },
   "outputs": [],
   "source": [
    "from sklearn.metrics import confusion_matrix, classification_report\n",
    "from sklearn.linear_model import SGDClassifier\n",
    "from sklearn.neural_network import MLPClassifier\n",
    "from sklearn.neighbors import KNeighborsClassifier\n",
    "from sklearn.svm import SVC\n",
    "from sklearn.ensemble import RandomForestClassifier\n",
    "from sklearn.discriminant_analysis import QuadraticDiscriminantAnalysis as QDA\n",
    "import time"
   ]
  },
  {
   "cell_type": "code",
   "execution_count": 21,
   "metadata": {
    "collapsed": false,
    "nbpresent": {
     "id": "182461f9-3938-4187-b284-3bd6cfc544f6"
    }
   },
   "outputs": [],
   "source": [
    "def summarize(clf,x_valid,y_valid):\n",
    "    start = time.time()\n",
    "    predicted = clf.predict(x_valid)\n",
    "    \n",
    "    print('\\n Matrice de confusion :\\n',confusion_matrix(y_valid,predicted),'\\n')\n",
    "    print('\\n Rapport :\\n',classification_report(y_valid,predicted))\n",
    "\n",
    "    # Evaluate the model on test set\n",
    "    score = clf.score(x_valid, y_valid)\n",
    "    \n",
    "    end = time.time()\n",
    "    \n",
    "    return score,end-start"
   ]
  },
  {
   "cell_type": "raw",
   "metadata": {
    "collapsed": false,
    "nbpresent": {
     "id": "014c9f8c-3add-4557-8f14-a48ece2bf5df"
    }
   },
   "source": [
    "names = [\"Nearest Neighbors\",\"Random Forest\",\"Neural Net\",\"QDA\",\"SVM\"]\n",
    "\n",
    "classifiers = [KNeighborsClassifier(3),\n",
    "               RandomForestClassifier(max_depth=30, n_estimators=7, random_state=0,\n",
    "                                      max_features=data.shape[1],verbose=1),\n",
    "               MLPClassifier(hidden_layer_sizes=200,alpha=.00001,verbose=1,activation='logistic'),\n",
    "               QDA(),\n",
    "               SVC(gamma=.02,C=1000)]\n",
    "               \n",
    "for name, clf in zip(names, classifiers):\n",
    "    print(name,'\\n--------------------')\n",
    "    summarize(clf,x_valid,y_valid)"
   ]
  },
  {
   "cell_type": "markdown",
   "metadata": {},
   "source": [
    "### Regression logistique"
   ]
  },
  {
   "cell_type": "markdown",
   "metadata": {},
   "source": [
    "On cherche d'abord du côté de la regression logistique multinomiale. Comme elle est sensible aux trop grandes variances, on décide d'utiliser un paramètre de régularisation grâce à la pénalité *elastic net*. La loi a posteriori sachant que les données sont $(\\textbf{x},\\textbf{y}) = (\\textbf{x}^{(i)},\\textbf{y}^{(i)})_{i=1}^N$ est une loi multinomiale *(softmax)* \n",
    "$$\\Pr (\\widehat{y}=k \\vert \\textbf{w};\\textbf{x}) = \\frac{\\exp(w_{0,k} + \\textbf{w}_k .\\textbf{x})}{\\sum_{j=1}^7 \\exp(w_0 + \\textbf{w}_j . \\textbf{x})} $$ \n",
    "\n",
    "et sa fonction de coùt est donc donnée par la log-vraisemblance \n",
    "\n",
    "$$\\ell(\\textbf{w};\\textbf{x},\\textbf{y}) = \\left[\\frac{1}{N} \\sum_{i=1}^{N} \\left( \\sum_{j=1}^7 y^{(i)}_j (w_{0,j} + \\textbf{w}_j.\\textbf{x}^{(i)}) - \\log \\sum_{j=1}^7 e^{w_{0,j} + \\textbf{w}_j . \\textbf{x}^{(i)}} \\right) \\right] + \\lambda \\left[ \\frac{1 - \\alpha}{2} \\sum_{j=1}^7 \\vert \\vert \\textbf{w}_j \\vert \\vert^2 + \\alpha \\sum_{j=1}^7 \\vert \\vert \\textbf{w}_j \\vert \\vert \\right]$$\n",
    "\n",
    "où $N$ est le nombre d'observations. Le second terme de l'équation représente le terme de régularisation *elastic net*.\n",
    "\n",
    "La pénalité elastic net $\\alpha$ varie de 0 à 1. Quand $\\alpha=0$, on a une regularisation L2, quand $\\alpha=1$, on a une régularisation L1 (\"lasso\")."
   ]
  },
  {
   "cell_type": "code",
   "execution_count": 154,
   "metadata": {
    "collapsed": false
   },
   "outputs": [
    {
     "name": "stderr",
     "output_type": "stream",
     "text": [
      "INFO:root:Training for lambda = 1e-06\n",
      "INFO:root:Training Time : 10.720934867858887\n",
      "INFO:root:Testing\n",
      "INFO:root:Testing Time : 0.12170100212097168\n",
      "INFO:root:Training for lambda = 1.1090909090909092e-05\n"
     ]
    },
    {
     "name": "stdout",
     "output_type": "stream",
     "text": [
      "\n",
      " Matrice de confusion :\n",
      " [[11861  8674    19     0    18     0   399]\n",
      " [ 7612 19630   518     4    75   198    56]\n",
      " [    0   391  2144    26    15   978     0]\n",
      " [    0     0   172    44     0    38     0]\n",
      " [  161   616    83     0    57     0     0]\n",
      " [   95   456   476     8    69   603     0]\n",
      " [ 1057   207     5     0     0     0   756]] \n",
      "\n",
      "\n",
      " Rapport :\n",
      "              precision    recall  f1-score   support\n",
      "\n",
      "          1       0.57      0.57      0.57     20971\n",
      "          2       0.65      0.70      0.68     28093\n",
      "          3       0.63      0.60      0.62      3554\n",
      "          4       0.54      0.17      0.26       254\n",
      "          5       0.24      0.06      0.10       917\n",
      "          6       0.33      0.35      0.34      1707\n",
      "          7       0.62      0.37      0.47      2025\n",
      "\n",
      "avg / total       0.60      0.61      0.60     57521\n",
      "\n"
     ]
    },
    {
     "name": "stderr",
     "output_type": "stream",
     "text": [
      "INFO:root:Training Time : 12.807590007781982\n",
      "INFO:root:Testing\n",
      "/Users/kevinzagalo/.local/lib/python3.5/site-packages/sklearn/metrics/classification.py:1113: UndefinedMetricWarning:\n",
      "\n",
      "Precision and F-score are ill-defined and being set to 0.0 in labels with no predicted samples.\n",
      "\n",
      "INFO:root:Testing Time : 0.2079939842224121\n",
      "INFO:root:Training for lambda = 2.1181818181818184e-05\n"
     ]
    },
    {
     "name": "stdout",
     "output_type": "stream",
     "text": [
      "\n",
      " Matrice de confusion :\n",
      " [[ 9371 10976    19     0     0     0   605]\n",
      " [ 4440 22880   712     4     0     4    53]\n",
      " [    0   406  3012    26     0   110     0]\n",
      " [    0     0   185    44     0    25     0]\n",
      " [   97   737    83     0     0     0     0]\n",
      " [    7   613   979     8     0   100     0]\n",
      " [  553   278     5     0     0     0  1189]] \n",
      "\n",
      "\n",
      " Rapport :\n",
      "              precision    recall  f1-score   support\n",
      "\n",
      "          1       0.65      0.45      0.53     20971\n",
      "          2       0.64      0.81      0.72     28093\n",
      "          3       0.60      0.85      0.70      3554\n",
      "          4       0.54      0.17      0.26       254\n",
      "          5       0.00      0.00      0.00       917\n",
      "          6       0.42      0.06      0.10      1707\n",
      "          7       0.64      0.59      0.61      2025\n",
      "\n",
      "avg / total       0.62      0.64      0.61     57521\n",
      "\n"
     ]
    },
    {
     "name": "stderr",
     "output_type": "stream",
     "text": [
      "INFO:root:Training Time : 11.784823894500732\n",
      "INFO:root:Testing\n",
      "INFO:root:Testing Time : 0.1305840015411377\n",
      "INFO:root:Training for lambda = 3.127272727272727e-05\n"
     ]
    },
    {
     "name": "stdout",
     "output_type": "stream",
     "text": [
      "\n",
      " Matrice de confusion :\n",
      " [[ 9610 10833    19     0     0     0   509]\n",
      " [ 4706 22623   712     4     0     4    44]\n",
      " [    0   406  3109    26     0    13     0]\n",
      " [    0     0   192    44     0    18     0]\n",
      " [  108   726    83     0     0     0     0]\n",
      " [    7   613  1030     8     0    49     0]\n",
      " [  663   276     5     0     0     0  1081]] \n",
      "\n",
      "\n",
      " Rapport :\n",
      "              precision    recall  f1-score   support\n",
      "\n",
      "          1       0.64      0.46      0.53     20971\n",
      "          2       0.64      0.81      0.71     28093\n",
      "          3       0.60      0.87      0.71      3554\n",
      "          4       0.54      0.17      0.26       254\n",
      "          5       0.00      0.00      0.00       917\n",
      "          6       0.58      0.03      0.05      1707\n",
      "          7       0.66      0.53      0.59      2025\n",
      "\n",
      "avg / total       0.62      0.63      0.61     57521\n",
      "\n"
     ]
    },
    {
     "ename": "KeyboardInterrupt",
     "evalue": "",
     "output_type": "error",
     "traceback": [
      "\u001b[0;31m---------------------------------------------------------------------------\u001b[0m",
      "\u001b[0;31mKeyboardInterrupt\u001b[0m                         Traceback (most recent call last)",
      "\u001b[0;32m<ipython-input-154-aa891aa2c82b>\u001b[0m in \u001b[0;36m<module>\u001b[0;34m()\u001b[0m\n\u001b[1;32m      8\u001b[0m     \u001b[0mlogging\u001b[0m\u001b[0;34m.\u001b[0m\u001b[0minfo\u001b[0m\u001b[0;34m(\u001b[0m\u001b[0;34m\"Training for lambda = \"\u001b[0m \u001b[0;34m+\u001b[0m \u001b[0mstr\u001b[0m\u001b[0;34m(\u001b[0m\u001b[0mclf\u001b[0m\u001b[0;34m.\u001b[0m\u001b[0malpha\u001b[0m\u001b[0;34m)\u001b[0m\u001b[0;34m)\u001b[0m\u001b[0;34m\u001b[0m\u001b[0m\n\u001b[1;32m      9\u001b[0m     \u001b[0mstart\u001b[0m \u001b[0;34m=\u001b[0m \u001b[0mtime\u001b[0m\u001b[0;34m.\u001b[0m\u001b[0mtime\u001b[0m\u001b[0;34m(\u001b[0m\u001b[0;34m)\u001b[0m\u001b[0;34m\u001b[0m\u001b[0m\n\u001b[0;32m---> 10\u001b[0;31m     \u001b[0mclf\u001b[0m\u001b[0;34m.\u001b[0m\u001b[0mfit\u001b[0m\u001b[0;34m(\u001b[0m\u001b[0mx_train\u001b[0m\u001b[0;34m,\u001b[0m\u001b[0my_train\u001b[0m\u001b[0;34m)\u001b[0m\u001b[0;34m\u001b[0m\u001b[0m\n\u001b[0m\u001b[1;32m     11\u001b[0m     \u001b[0mend\u001b[0m \u001b[0;34m=\u001b[0m \u001b[0mtime\u001b[0m\u001b[0;34m.\u001b[0m\u001b[0mtime\u001b[0m\u001b[0;34m(\u001b[0m\u001b[0;34m)\u001b[0m\u001b[0;34m\u001b[0m\u001b[0m\n\u001b[1;32m     12\u001b[0m     \u001b[0mlogging\u001b[0m\u001b[0;34m.\u001b[0m\u001b[0minfo\u001b[0m\u001b[0;34m(\u001b[0m\u001b[0;34m'Training Time : '\u001b[0m \u001b[0;34m+\u001b[0m \u001b[0mstr\u001b[0m\u001b[0;34m(\u001b[0m\u001b[0mend\u001b[0m \u001b[0;34m-\u001b[0m \u001b[0mstart\u001b[0m\u001b[0;34m)\u001b[0m\u001b[0;34m)\u001b[0m\u001b[0;34m\u001b[0m\u001b[0m\n",
      "\u001b[0;32m/Users/kevinzagalo/.local/lib/python3.5/site-packages/sklearn/linear_model/stochastic_gradient.py\u001b[0m in \u001b[0;36mfit\u001b[0;34m(self, X, y, coef_init, intercept_init, sample_weight)\u001b[0m\n\u001b[1;32m    543\u001b[0m                          \u001b[0mloss\u001b[0m\u001b[0;34m=\u001b[0m\u001b[0mself\u001b[0m\u001b[0;34m.\u001b[0m\u001b[0mloss\u001b[0m\u001b[0;34m,\u001b[0m \u001b[0mlearning_rate\u001b[0m\u001b[0;34m=\u001b[0m\u001b[0mself\u001b[0m\u001b[0;34m.\u001b[0m\u001b[0mlearning_rate\u001b[0m\u001b[0;34m,\u001b[0m\u001b[0;34m\u001b[0m\u001b[0m\n\u001b[1;32m    544\u001b[0m                          \u001b[0mcoef_init\u001b[0m\u001b[0;34m=\u001b[0m\u001b[0mcoef_init\u001b[0m\u001b[0;34m,\u001b[0m \u001b[0mintercept_init\u001b[0m\u001b[0;34m=\u001b[0m\u001b[0mintercept_init\u001b[0m\u001b[0;34m,\u001b[0m\u001b[0;34m\u001b[0m\u001b[0m\n\u001b[0;32m--> 545\u001b[0;31m                          sample_weight=sample_weight)\n\u001b[0m\u001b[1;32m    546\u001b[0m \u001b[0;34m\u001b[0m\u001b[0m\n\u001b[1;32m    547\u001b[0m \u001b[0;34m\u001b[0m\u001b[0m\n",
      "\u001b[0;32m/Users/kevinzagalo/.local/lib/python3.5/site-packages/sklearn/linear_model/stochastic_gradient.py\u001b[0m in \u001b[0;36m_fit\u001b[0;34m(self, X, y, alpha, C, loss, learning_rate, coef_init, intercept_init, sample_weight)\u001b[0m\n\u001b[1;32m    413\u001b[0m \u001b[0;34m\u001b[0m\u001b[0m\n\u001b[1;32m    414\u001b[0m         self._partial_fit(X, y, alpha, C, loss, learning_rate, self.n_iter,\n\u001b[0;32m--> 415\u001b[0;31m                           classes, sample_weight, coef_init, intercept_init)\n\u001b[0m\u001b[1;32m    416\u001b[0m \u001b[0;34m\u001b[0m\u001b[0m\n\u001b[1;32m    417\u001b[0m         \u001b[0;32mreturn\u001b[0m \u001b[0mself\u001b[0m\u001b[0;34m\u001b[0m\u001b[0m\n",
      "\u001b[0;32m/Users/kevinzagalo/.local/lib/python3.5/site-packages/sklearn/linear_model/stochastic_gradient.py\u001b[0m in \u001b[0;36m_partial_fit\u001b[0;34m(self, X, y, alpha, C, loss, learning_rate, n_iter, classes, sample_weight, coef_init, intercept_init)\u001b[0m\n\u001b[1;32m    371\u001b[0m             self._fit_multiclass(X, y, alpha=alpha, C=C,\n\u001b[1;32m    372\u001b[0m                                  \u001b[0mlearning_rate\u001b[0m\u001b[0;34m=\u001b[0m\u001b[0mlearning_rate\u001b[0m\u001b[0;34m,\u001b[0m\u001b[0;34m\u001b[0m\u001b[0m\n\u001b[0;32m--> 373\u001b[0;31m                                  sample_weight=sample_weight, n_iter=n_iter)\n\u001b[0m\u001b[1;32m    374\u001b[0m         \u001b[0;32melif\u001b[0m \u001b[0mn_classes\u001b[0m \u001b[0;34m==\u001b[0m \u001b[0;36m2\u001b[0m\u001b[0;34m:\u001b[0m\u001b[0;34m\u001b[0m\u001b[0m\n\u001b[1;32m    375\u001b[0m             self._fit_binary(X, y, alpha=alpha, C=C,\n",
      "\u001b[0;32m/Users/kevinzagalo/.local/lib/python3.5/site-packages/sklearn/linear_model/stochastic_gradient.py\u001b[0m in \u001b[0;36m_fit_multiclass\u001b[0;34m(self, X, y, alpha, C, learning_rate, sample_weight, n_iter)\u001b[0m\n\u001b[1;32m    455\u001b[0m                                 \u001b[0mn_iter\u001b[0m\u001b[0;34m,\u001b[0m \u001b[0mself\u001b[0m\u001b[0;34m.\u001b[0m\u001b[0m_expanded_class_weight\u001b[0m\u001b[0;34m[\u001b[0m\u001b[0mi\u001b[0m\u001b[0;34m]\u001b[0m\u001b[0;34m,\u001b[0m \u001b[0;36m1.\u001b[0m\u001b[0;34m,\u001b[0m\u001b[0;34m\u001b[0m\u001b[0m\n\u001b[1;32m    456\u001b[0m                                 sample_weight)\n\u001b[0;32m--> 457\u001b[0;31m             for i in range(len(self.classes_)))\n\u001b[0m\u001b[1;32m    458\u001b[0m \u001b[0;34m\u001b[0m\u001b[0m\n\u001b[1;32m    459\u001b[0m         \u001b[0;32mfor\u001b[0m \u001b[0mi\u001b[0m\u001b[0;34m,\u001b[0m \u001b[0;34m(\u001b[0m\u001b[0m_\u001b[0m\u001b[0;34m,\u001b[0m \u001b[0mintercept\u001b[0m\u001b[0;34m)\u001b[0m \u001b[0;32min\u001b[0m \u001b[0menumerate\u001b[0m\u001b[0;34m(\u001b[0m\u001b[0mresult\u001b[0m\u001b[0;34m)\u001b[0m\u001b[0;34m:\u001b[0m\u001b[0;34m\u001b[0m\u001b[0m\n",
      "\u001b[0;32m/Users/kevinzagalo/.local/lib/python3.5/site-packages/sklearn/externals/joblib/parallel.py\u001b[0m in \u001b[0;36m__call__\u001b[0;34m(self, iterable)\u001b[0m\n\u001b[1;32m    756\u001b[0m             \u001b[0;31m# was dispatched. In particular this covers the edge\u001b[0m\u001b[0;34m\u001b[0m\u001b[0;34m\u001b[0m\u001b[0m\n\u001b[1;32m    757\u001b[0m             \u001b[0;31m# case of Parallel used with an exhausted iterator.\u001b[0m\u001b[0;34m\u001b[0m\u001b[0;34m\u001b[0m\u001b[0m\n\u001b[0;32m--> 758\u001b[0;31m             \u001b[0;32mwhile\u001b[0m \u001b[0mself\u001b[0m\u001b[0;34m.\u001b[0m\u001b[0mdispatch_one_batch\u001b[0m\u001b[0;34m(\u001b[0m\u001b[0miterator\u001b[0m\u001b[0;34m)\u001b[0m\u001b[0;34m:\u001b[0m\u001b[0;34m\u001b[0m\u001b[0m\n\u001b[0m\u001b[1;32m    759\u001b[0m                 \u001b[0mself\u001b[0m\u001b[0;34m.\u001b[0m\u001b[0m_iterating\u001b[0m \u001b[0;34m=\u001b[0m \u001b[0;32mTrue\u001b[0m\u001b[0;34m\u001b[0m\u001b[0m\n\u001b[1;32m    760\u001b[0m             \u001b[0;32melse\u001b[0m\u001b[0;34m:\u001b[0m\u001b[0;34m\u001b[0m\u001b[0m\n",
      "\u001b[0;32m/Users/kevinzagalo/.local/lib/python3.5/site-packages/sklearn/externals/joblib/parallel.py\u001b[0m in \u001b[0;36mdispatch_one_batch\u001b[0;34m(self, iterator)\u001b[0m\n\u001b[1;32m    606\u001b[0m                 \u001b[0;32mreturn\u001b[0m \u001b[0;32mFalse\u001b[0m\u001b[0;34m\u001b[0m\u001b[0m\n\u001b[1;32m    607\u001b[0m             \u001b[0;32melse\u001b[0m\u001b[0;34m:\u001b[0m\u001b[0;34m\u001b[0m\u001b[0m\n\u001b[0;32m--> 608\u001b[0;31m                 \u001b[0mself\u001b[0m\u001b[0;34m.\u001b[0m\u001b[0m_dispatch\u001b[0m\u001b[0;34m(\u001b[0m\u001b[0mtasks\u001b[0m\u001b[0;34m)\u001b[0m\u001b[0;34m\u001b[0m\u001b[0m\n\u001b[0m\u001b[1;32m    609\u001b[0m                 \u001b[0;32mreturn\u001b[0m \u001b[0;32mTrue\u001b[0m\u001b[0;34m\u001b[0m\u001b[0m\n\u001b[1;32m    610\u001b[0m \u001b[0;34m\u001b[0m\u001b[0m\n",
      "\u001b[0;32m/Users/kevinzagalo/.local/lib/python3.5/site-packages/sklearn/externals/joblib/parallel.py\u001b[0m in \u001b[0;36m_dispatch\u001b[0;34m(self, batch)\u001b[0m\n\u001b[1;32m    569\u001b[0m         \u001b[0mdispatch_timestamp\u001b[0m \u001b[0;34m=\u001b[0m \u001b[0mtime\u001b[0m\u001b[0;34m.\u001b[0m\u001b[0mtime\u001b[0m\u001b[0;34m(\u001b[0m\u001b[0;34m)\u001b[0m\u001b[0;34m\u001b[0m\u001b[0m\n\u001b[1;32m    570\u001b[0m         \u001b[0mcb\u001b[0m \u001b[0;34m=\u001b[0m \u001b[0mBatchCompletionCallBack\u001b[0m\u001b[0;34m(\u001b[0m\u001b[0mdispatch_timestamp\u001b[0m\u001b[0;34m,\u001b[0m \u001b[0mlen\u001b[0m\u001b[0;34m(\u001b[0m\u001b[0mbatch\u001b[0m\u001b[0;34m)\u001b[0m\u001b[0;34m,\u001b[0m \u001b[0mself\u001b[0m\u001b[0;34m)\u001b[0m\u001b[0;34m\u001b[0m\u001b[0m\n\u001b[0;32m--> 571\u001b[0;31m         \u001b[0mjob\u001b[0m \u001b[0;34m=\u001b[0m \u001b[0mself\u001b[0m\u001b[0;34m.\u001b[0m\u001b[0m_backend\u001b[0m\u001b[0;34m.\u001b[0m\u001b[0mapply_async\u001b[0m\u001b[0;34m(\u001b[0m\u001b[0mbatch\u001b[0m\u001b[0;34m,\u001b[0m \u001b[0mcallback\u001b[0m\u001b[0;34m=\u001b[0m\u001b[0mcb\u001b[0m\u001b[0;34m)\u001b[0m\u001b[0;34m\u001b[0m\u001b[0m\n\u001b[0m\u001b[1;32m    572\u001b[0m         \u001b[0mself\u001b[0m\u001b[0;34m.\u001b[0m\u001b[0m_jobs\u001b[0m\u001b[0;34m.\u001b[0m\u001b[0mappend\u001b[0m\u001b[0;34m(\u001b[0m\u001b[0mjob\u001b[0m\u001b[0;34m)\u001b[0m\u001b[0;34m\u001b[0m\u001b[0m\n\u001b[1;32m    573\u001b[0m \u001b[0;34m\u001b[0m\u001b[0m\n",
      "\u001b[0;32m/Users/kevinzagalo/.local/lib/python3.5/site-packages/sklearn/externals/joblib/_parallel_backends.py\u001b[0m in \u001b[0;36mapply_async\u001b[0;34m(self, func, callback)\u001b[0m\n\u001b[1;32m    107\u001b[0m     \u001b[0;32mdef\u001b[0m \u001b[0mapply_async\u001b[0m\u001b[0;34m(\u001b[0m\u001b[0mself\u001b[0m\u001b[0;34m,\u001b[0m \u001b[0mfunc\u001b[0m\u001b[0;34m,\u001b[0m \u001b[0mcallback\u001b[0m\u001b[0;34m=\u001b[0m\u001b[0;32mNone\u001b[0m\u001b[0;34m)\u001b[0m\u001b[0;34m:\u001b[0m\u001b[0;34m\u001b[0m\u001b[0m\n\u001b[1;32m    108\u001b[0m         \u001b[0;34m\"\"\"Schedule a func to be run\"\"\"\u001b[0m\u001b[0;34m\u001b[0m\u001b[0m\n\u001b[0;32m--> 109\u001b[0;31m         \u001b[0mresult\u001b[0m \u001b[0;34m=\u001b[0m \u001b[0mImmediateResult\u001b[0m\u001b[0;34m(\u001b[0m\u001b[0mfunc\u001b[0m\u001b[0;34m)\u001b[0m\u001b[0;34m\u001b[0m\u001b[0m\n\u001b[0m\u001b[1;32m    110\u001b[0m         \u001b[0;32mif\u001b[0m \u001b[0mcallback\u001b[0m\u001b[0;34m:\u001b[0m\u001b[0;34m\u001b[0m\u001b[0m\n\u001b[1;32m    111\u001b[0m             \u001b[0mcallback\u001b[0m\u001b[0;34m(\u001b[0m\u001b[0mresult\u001b[0m\u001b[0;34m)\u001b[0m\u001b[0;34m\u001b[0m\u001b[0m\n",
      "\u001b[0;32m/Users/kevinzagalo/.local/lib/python3.5/site-packages/sklearn/externals/joblib/_parallel_backends.py\u001b[0m in \u001b[0;36m__init__\u001b[0;34m(self, batch)\u001b[0m\n\u001b[1;32m    324\u001b[0m         \u001b[0;31m# Don't delay the application, to avoid keeping the input\u001b[0m\u001b[0;34m\u001b[0m\u001b[0;34m\u001b[0m\u001b[0m\n\u001b[1;32m    325\u001b[0m         \u001b[0;31m# arguments in memory\u001b[0m\u001b[0;34m\u001b[0m\u001b[0;34m\u001b[0m\u001b[0m\n\u001b[0;32m--> 326\u001b[0;31m         \u001b[0mself\u001b[0m\u001b[0;34m.\u001b[0m\u001b[0mresults\u001b[0m \u001b[0;34m=\u001b[0m \u001b[0mbatch\u001b[0m\u001b[0;34m(\u001b[0m\u001b[0;34m)\u001b[0m\u001b[0;34m\u001b[0m\u001b[0m\n\u001b[0m\u001b[1;32m    327\u001b[0m \u001b[0;34m\u001b[0m\u001b[0m\n\u001b[1;32m    328\u001b[0m     \u001b[0;32mdef\u001b[0m \u001b[0mget\u001b[0m\u001b[0;34m(\u001b[0m\u001b[0mself\u001b[0m\u001b[0;34m)\u001b[0m\u001b[0;34m:\u001b[0m\u001b[0;34m\u001b[0m\u001b[0m\n",
      "\u001b[0;32m/Users/kevinzagalo/.local/lib/python3.5/site-packages/sklearn/externals/joblib/parallel.py\u001b[0m in \u001b[0;36m__call__\u001b[0;34m(self)\u001b[0m\n\u001b[1;32m    129\u001b[0m \u001b[0;34m\u001b[0m\u001b[0m\n\u001b[1;32m    130\u001b[0m     \u001b[0;32mdef\u001b[0m \u001b[0m__call__\u001b[0m\u001b[0;34m(\u001b[0m\u001b[0mself\u001b[0m\u001b[0;34m)\u001b[0m\u001b[0;34m:\u001b[0m\u001b[0;34m\u001b[0m\u001b[0m\n\u001b[0;32m--> 131\u001b[0;31m         \u001b[0;32mreturn\u001b[0m \u001b[0;34m[\u001b[0m\u001b[0mfunc\u001b[0m\u001b[0;34m(\u001b[0m\u001b[0;34m*\u001b[0m\u001b[0margs\u001b[0m\u001b[0;34m,\u001b[0m \u001b[0;34m**\u001b[0m\u001b[0mkwargs\u001b[0m\u001b[0;34m)\u001b[0m \u001b[0;32mfor\u001b[0m \u001b[0mfunc\u001b[0m\u001b[0;34m,\u001b[0m \u001b[0margs\u001b[0m\u001b[0;34m,\u001b[0m \u001b[0mkwargs\u001b[0m \u001b[0;32min\u001b[0m \u001b[0mself\u001b[0m\u001b[0;34m.\u001b[0m\u001b[0mitems\u001b[0m\u001b[0;34m]\u001b[0m\u001b[0;34m\u001b[0m\u001b[0m\n\u001b[0m\u001b[1;32m    132\u001b[0m \u001b[0;34m\u001b[0m\u001b[0m\n\u001b[1;32m    133\u001b[0m     \u001b[0;32mdef\u001b[0m \u001b[0m__len__\u001b[0m\u001b[0;34m(\u001b[0m\u001b[0mself\u001b[0m\u001b[0;34m)\u001b[0m\u001b[0;34m:\u001b[0m\u001b[0;34m\u001b[0m\u001b[0m\n",
      "\u001b[0;32m/Users/kevinzagalo/.local/lib/python3.5/site-packages/sklearn/externals/joblib/parallel.py\u001b[0m in \u001b[0;36m<listcomp>\u001b[0;34m(.0)\u001b[0m\n\u001b[1;32m    129\u001b[0m \u001b[0;34m\u001b[0m\u001b[0m\n\u001b[1;32m    130\u001b[0m     \u001b[0;32mdef\u001b[0m \u001b[0m__call__\u001b[0m\u001b[0;34m(\u001b[0m\u001b[0mself\u001b[0m\u001b[0;34m)\u001b[0m\u001b[0;34m:\u001b[0m\u001b[0;34m\u001b[0m\u001b[0m\n\u001b[0;32m--> 131\u001b[0;31m         \u001b[0;32mreturn\u001b[0m \u001b[0;34m[\u001b[0m\u001b[0mfunc\u001b[0m\u001b[0;34m(\u001b[0m\u001b[0;34m*\u001b[0m\u001b[0margs\u001b[0m\u001b[0;34m,\u001b[0m \u001b[0;34m**\u001b[0m\u001b[0mkwargs\u001b[0m\u001b[0;34m)\u001b[0m \u001b[0;32mfor\u001b[0m \u001b[0mfunc\u001b[0m\u001b[0;34m,\u001b[0m \u001b[0margs\u001b[0m\u001b[0;34m,\u001b[0m \u001b[0mkwargs\u001b[0m \u001b[0;32min\u001b[0m \u001b[0mself\u001b[0m\u001b[0;34m.\u001b[0m\u001b[0mitems\u001b[0m\u001b[0;34m]\u001b[0m\u001b[0;34m\u001b[0m\u001b[0m\n\u001b[0m\u001b[1;32m    132\u001b[0m \u001b[0;34m\u001b[0m\u001b[0m\n\u001b[1;32m    133\u001b[0m     \u001b[0;32mdef\u001b[0m \u001b[0m__len__\u001b[0m\u001b[0;34m(\u001b[0m\u001b[0mself\u001b[0m\u001b[0;34m)\u001b[0m\u001b[0;34m:\u001b[0m\u001b[0;34m\u001b[0m\u001b[0m\n",
      "\u001b[0;32m/Users/kevinzagalo/.local/lib/python3.5/site-packages/sklearn/linear_model/stochastic_gradient.py\u001b[0m in \u001b[0;36mfit_binary\u001b[0;34m(est, i, X, y, alpha, C, learning_rate, n_iter, pos_weight, neg_weight, sample_weight)\u001b[0m\n\u001b[1;32m    276\u001b[0m                          \u001b[0mpos_weight\u001b[0m\u001b[0;34m,\u001b[0m \u001b[0mneg_weight\u001b[0m\u001b[0;34m,\u001b[0m\u001b[0;34m\u001b[0m\u001b[0m\n\u001b[1;32m    277\u001b[0m                          \u001b[0mlearning_rate_type\u001b[0m\u001b[0;34m,\u001b[0m \u001b[0mest\u001b[0m\u001b[0;34m.\u001b[0m\u001b[0meta0\u001b[0m\u001b[0;34m,\u001b[0m\u001b[0;34m\u001b[0m\u001b[0m\n\u001b[0;32m--> 278\u001b[0;31m                          est.power_t, est.t_, intercept_decay)\n\u001b[0m\u001b[1;32m    279\u001b[0m \u001b[0;34m\u001b[0m\u001b[0m\n\u001b[1;32m    280\u001b[0m     \u001b[0;32melse\u001b[0m\u001b[0;34m:\u001b[0m\u001b[0;34m\u001b[0m\u001b[0m\n",
      "\u001b[0;31mKeyboardInterrupt\u001b[0m: "
     ]
    }
   ],
   "source": [
    "Lambda = np.linspace(1e-6,1e-3,100)\n",
    "\n",
    "SDG = [SGDClassifier(loss='log',penalty='elasticnet',random_state=0,alpha=a,l1_ratio=.3) for a in Lambda]\n",
    "SDG_score = []\n",
    "\n",
    "for clf in SDG:\n",
    "    # Apprentissage\n",
    "    logging.info(\"Training for lambda = \" + str(clf.alpha))\n",
    "    start = time.time()\n",
    "    clf.fit(x_train,y_train)\n",
    "    end = time.time()\n",
    "    logging.info('Training Time : ' + str(end - start))\n",
    "\n",
    "    # Test\n",
    "    logging.info(\"Testing\") \n",
    "    score,test_time = summarize(clf,x_valid,y_valid)\n",
    "    SDG_score.append(score)\n",
    "    logging.info('Testing Time : ' + str(test_time))"
   ]
  },
  {
   "cell_type": "code",
   "execution_count": 153,
   "metadata": {
    "collapsed": false
   },
   "outputs": [
    {
     "ename": "ValueError",
     "evalue": "x and y must be the same size",
     "output_type": "error",
     "traceback": [
      "\u001b[0;31m---------------------------------------------------------------------------\u001b[0m",
      "\u001b[0;31mValueError\u001b[0m                                Traceback (most recent call last)",
      "\u001b[0;32m<ipython-input-153-3a64a2c41aaa>\u001b[0m in \u001b[0;36m<module>\u001b[0;34m()\u001b[0m\n\u001b[0;32m----> 1\u001b[0;31m \u001b[0mplt\u001b[0m\u001b[0;34m.\u001b[0m\u001b[0mscatter\u001b[0m\u001b[0;34m(\u001b[0m\u001b[0mLambda\u001b[0m\u001b[0;34m,\u001b[0m\u001b[0mSDG_score\u001b[0m\u001b[0;34m)\u001b[0m\u001b[0;34m\u001b[0m\u001b[0m\n\u001b[0m\u001b[1;32m      2\u001b[0m \u001b[0mplt\u001b[0m\u001b[0;34m.\u001b[0m\u001b[0mplot\u001b[0m\u001b[0;34m(\u001b[0m\u001b[0mLambda\u001b[0m\u001b[0;34m,\u001b[0m\u001b[0mSDG_score\u001b[0m\u001b[0;34m)\u001b[0m\u001b[0;34m\u001b[0m\u001b[0m\n\u001b[1;32m      3\u001b[0m \u001b[0mplt\u001b[0m\u001b[0;34m.\u001b[0m\u001b[0mtitle\u001b[0m\u001b[0;34m(\u001b[0m\u001b[0;34m'Accuracy by lambda'\u001b[0m\u001b[0;34m)\u001b[0m\u001b[0;34m\u001b[0m\u001b[0m\n\u001b[1;32m      4\u001b[0m \u001b[0mplt\u001b[0m\u001b[0;34m.\u001b[0m\u001b[0mshow\u001b[0m\u001b[0;34m(\u001b[0m\u001b[0;34m)\u001b[0m\u001b[0;34m\u001b[0m\u001b[0m\n",
      "\u001b[0;32m/Users/kevinzagalo/anaconda/lib/python3.5/site-packages/matplotlib/pyplot.py\u001b[0m in \u001b[0;36mscatter\u001b[0;34m(x, y, s, c, marker, cmap, norm, vmin, vmax, alpha, linewidths, verts, edgecolors, data, **kwargs)\u001b[0m\n\u001b[1;32m   2791\u001b[0m         \u001b[0mx\u001b[0m\u001b[0;34m=\u001b[0m\u001b[0mx\u001b[0m\u001b[0;34m,\u001b[0m \u001b[0my\u001b[0m\u001b[0;34m=\u001b[0m\u001b[0my\u001b[0m\u001b[0;34m,\u001b[0m \u001b[0ms\u001b[0m\u001b[0;34m=\u001b[0m\u001b[0ms\u001b[0m\u001b[0;34m,\u001b[0m \u001b[0mc\u001b[0m\u001b[0;34m=\u001b[0m\u001b[0mc\u001b[0m\u001b[0;34m,\u001b[0m \u001b[0mmarker\u001b[0m\u001b[0;34m=\u001b[0m\u001b[0mmarker\u001b[0m\u001b[0;34m,\u001b[0m \u001b[0mcmap\u001b[0m\u001b[0;34m=\u001b[0m\u001b[0mcmap\u001b[0m\u001b[0;34m,\u001b[0m \u001b[0mnorm\u001b[0m\u001b[0;34m=\u001b[0m\u001b[0mnorm\u001b[0m\u001b[0;34m,\u001b[0m\u001b[0;34m\u001b[0m\u001b[0m\n\u001b[1;32m   2792\u001b[0m         \u001b[0mvmin\u001b[0m\u001b[0;34m=\u001b[0m\u001b[0mvmin\u001b[0m\u001b[0;34m,\u001b[0m \u001b[0mvmax\u001b[0m\u001b[0;34m=\u001b[0m\u001b[0mvmax\u001b[0m\u001b[0;34m,\u001b[0m \u001b[0malpha\u001b[0m\u001b[0;34m=\u001b[0m\u001b[0malpha\u001b[0m\u001b[0;34m,\u001b[0m \u001b[0mlinewidths\u001b[0m\u001b[0;34m=\u001b[0m\u001b[0mlinewidths\u001b[0m\u001b[0;34m,\u001b[0m\u001b[0;34m\u001b[0m\u001b[0m\n\u001b[0;32m-> 2793\u001b[0;31m         verts=verts, edgecolors=edgecolors, data=data, **kwargs)\n\u001b[0m\u001b[1;32m   2794\u001b[0m     \u001b[0msci\u001b[0m\u001b[0;34m(\u001b[0m\u001b[0m__ret\u001b[0m\u001b[0;34m)\u001b[0m\u001b[0;34m\u001b[0m\u001b[0m\n\u001b[1;32m   2795\u001b[0m     \u001b[0;32mreturn\u001b[0m \u001b[0m__ret\u001b[0m\u001b[0;34m\u001b[0m\u001b[0m\n",
      "\u001b[0;32m/Users/kevinzagalo/anaconda/lib/python3.5/site-packages/matplotlib/__init__.py\u001b[0m in \u001b[0;36minner\u001b[0;34m(ax, data, *args, **kwargs)\u001b[0m\n\u001b[1;32m   1783\u001b[0m                         \u001b[0;34m\"the Matplotlib list!)\"\u001b[0m \u001b[0;34m%\u001b[0m \u001b[0;34m(\u001b[0m\u001b[0mlabel_namer\u001b[0m\u001b[0;34m,\u001b[0m \u001b[0mfunc\u001b[0m\u001b[0;34m.\u001b[0m\u001b[0m__name__\u001b[0m\u001b[0;34m)\u001b[0m\u001b[0;34m,\u001b[0m\u001b[0;34m\u001b[0m\u001b[0m\n\u001b[1;32m   1784\u001b[0m                         RuntimeWarning, stacklevel=2)\n\u001b[0;32m-> 1785\u001b[0;31m             \u001b[0;32mreturn\u001b[0m \u001b[0mfunc\u001b[0m\u001b[0;34m(\u001b[0m\u001b[0max\u001b[0m\u001b[0;34m,\u001b[0m \u001b[0;34m*\u001b[0m\u001b[0margs\u001b[0m\u001b[0;34m,\u001b[0m \u001b[0;34m**\u001b[0m\u001b[0mkwargs\u001b[0m\u001b[0;34m)\u001b[0m\u001b[0;34m\u001b[0m\u001b[0m\n\u001b[0m\u001b[1;32m   1786\u001b[0m \u001b[0;34m\u001b[0m\u001b[0m\n\u001b[1;32m   1787\u001b[0m         inner.__doc__ = _add_data_doc(inner.__doc__,\n",
      "\u001b[0;32m/Users/kevinzagalo/anaconda/lib/python3.5/site-packages/matplotlib/axes/_axes.py\u001b[0m in \u001b[0;36mscatter\u001b[0;34m(self, x, y, s, c, marker, cmap, norm, vmin, vmax, alpha, linewidths, verts, edgecolors, **kwargs)\u001b[0m\n\u001b[1;32m   4163\u001b[0m         \u001b[0my\u001b[0m \u001b[0;34m=\u001b[0m \u001b[0mnp\u001b[0m\u001b[0;34m.\u001b[0m\u001b[0mma\u001b[0m\u001b[0;34m.\u001b[0m\u001b[0mravel\u001b[0m\u001b[0;34m(\u001b[0m\u001b[0my\u001b[0m\u001b[0;34m)\u001b[0m\u001b[0;34m\u001b[0m\u001b[0m\n\u001b[1;32m   4164\u001b[0m         \u001b[0;32mif\u001b[0m \u001b[0mx\u001b[0m\u001b[0;34m.\u001b[0m\u001b[0msize\u001b[0m \u001b[0;34m!=\u001b[0m \u001b[0my\u001b[0m\u001b[0;34m.\u001b[0m\u001b[0msize\u001b[0m\u001b[0;34m:\u001b[0m\u001b[0;34m\u001b[0m\u001b[0m\n\u001b[0;32m-> 4165\u001b[0;31m             \u001b[0;32mraise\u001b[0m \u001b[0mValueError\u001b[0m\u001b[0;34m(\u001b[0m\u001b[0;34m\"x and y must be the same size\"\u001b[0m\u001b[0;34m)\u001b[0m\u001b[0;34m\u001b[0m\u001b[0m\n\u001b[0m\u001b[1;32m   4166\u001b[0m \u001b[0;34m\u001b[0m\u001b[0m\n\u001b[1;32m   4167\u001b[0m         \u001b[0;32mif\u001b[0m \u001b[0ms\u001b[0m \u001b[0;32mis\u001b[0m \u001b[0;32mNone\u001b[0m\u001b[0;34m:\u001b[0m\u001b[0;34m\u001b[0m\u001b[0m\n",
      "\u001b[0;31mValueError\u001b[0m: x and y must be the same size"
     ]
    }
   ],
   "source": [
    "plt.scatter(Lambda,SDG_score)\n",
    "plt.plot(Lambda,SDG_score)\n",
    "plt.title('Accuracy by lambda')\n",
    "plt.show()"
   ]
  },
  {
   "cell_type": "markdown",
   "metadata": {
    "collapsed": true,
    "nbpresent": {
     "id": "4a49b226-44c7-4f86-8f83-9b5e6f1a4cbe"
    }
   },
   "source": [
    "### k-plus proches voisins"
   ]
  },
  {
   "cell_type": "markdown",
   "metadata": {},
   "source": [
    "C'est un algorithme très lent, car il calcule la distance entre chaque point et les autres points, à chaque itération. En effet, la règle de calcul pour les k-plus proches voisins est $$\\widehat{y} = argmax_{c} \\sum_{x^{(i)} \\in V_k} w_i \\delta_{y^{(i)},c} $$ où $V_k$ est le voisinage des $k$ points les plus proches de nos données. Nous nous contenterons de l'entrainer sur un ensemble de 100 000 données."
   ]
  },
  {
   "cell_type": "code",
   "execution_count": 136,
   "metadata": {
    "collapsed": true,
    "nbpresent": {
     "id": "bcf270cd-f57f-4f21-b513-672d288a6dc3"
    }
   },
   "outputs": [],
   "source": [
    "K = range(1,20)\n",
    "\n",
    "kNN = [KNeighborsClassifier(k) for k in K]"
   ]
  },
  {
   "cell_type": "code",
   "execution_count": 135,
   "metadata": {
    "collapsed": false,
    "scrolled": true
   },
   "outputs": [
    {
     "name": "stderr",
     "output_type": "stream",
     "text": [
      "INFO:root:Training for k = 1\n",
      "INFO:root:Training Time : 59.5906457901001\n",
      "INFO:root:Testing\n",
      "INFO:root:Testing Time : 49.889599084854126\n",
      "INFO:root:Training for k = 2\n",
      "INFO:root:Training Time : 43.90127396583557\n",
      "INFO:root:Testing\n",
      "INFO:root:Testing Time : 49.6484580039978\n",
      "INFO:root:Training for k = 3\n",
      "INFO:root:Training Time : 44.94198703765869\n",
      "INFO:root:Testing\n",
      "INFO:root:Testing Time : 43.702364921569824\n",
      "INFO:root:Training for k = 4\n",
      "INFO:root:Training Time : 34.39916014671326\n",
      "INFO:root:Testing\n",
      "INFO:root:Testing Time : 40.55118203163147\n",
      "INFO:root:Training for k = 5\n",
      "INFO:root:Training Time : 35.11395001411438\n",
      "INFO:root:Testing\n",
      "INFO:root:Testing Time : 40.48883605003357\n",
      "INFO:root:Training for k = 6\n",
      "INFO:root:Training Time : 35.00551199913025\n",
      "INFO:root:Testing\n",
      "INFO:root:Testing Time : 40.58297801017761\n",
      "INFO:root:Training for k = 7\n",
      "INFO:root:Training Time : 34.458909034729004\n",
      "INFO:root:Testing\n",
      "INFO:root:Testing Time : 42.48847484588623\n",
      "INFO:root:Training for k = 8\n",
      "INFO:root:Training Time : 34.98024010658264\n",
      "INFO:root:Testing\n",
      "INFO:root:Testing Time : 40.67291808128357\n",
      "INFO:root:Training for k = 9\n",
      "INFO:root:Training Time : 34.312532901763916\n",
      "INFO:root:Testing\n",
      "INFO:root:Testing Time : 40.82979702949524\n",
      "INFO:root:Training for k = 10\n",
      "INFO:root:Training Time : 33.98224711418152\n",
      "INFO:root:Testing\n",
      "INFO:root:Testing Time : 40.739766120910645\n",
      "INFO:root:Training for k = 11\n",
      "INFO:root:Training Time : 34.08190894126892\n",
      "INFO:root:Testing\n",
      "INFO:root:Testing Time : 41.257766008377075\n",
      "INFO:root:Training for k = 12\n",
      "INFO:root:Training Time : 34.7160279750824\n",
      "INFO:root:Testing\n",
      "INFO:root:Testing Time : 41.19653511047363\n",
      "INFO:root:Training for k = 13\n",
      "INFO:root:Training Time : 35.17551112174988\n",
      "INFO:root:Testing\n",
      "INFO:root:Testing Time : 41.18763613700867\n",
      "INFO:root:Training for k = 14\n",
      "INFO:root:Training Time : 34.126747846603394\n",
      "INFO:root:Testing\n",
      "INFO:root:Testing Time : 40.3695011138916\n",
      "INFO:root:Training for k = 15\n",
      "INFO:root:Training Time : 33.506311893463135\n",
      "INFO:root:Testing\n",
      "INFO:root:Testing Time : 40.54206204414368\n",
      "INFO:root:Training for k = 16\n",
      "INFO:root:Training Time : 35.0947539806366\n",
      "INFO:root:Testing\n",
      "INFO:root:Testing Time : 40.846721172332764\n",
      "INFO:root:Training for k = 17\n",
      "INFO:root:Training Time : 34.05363702774048\n",
      "INFO:root:Testing\n",
      "INFO:root:Testing Time : 40.60291886329651\n",
      "INFO:root:Training for k = 18\n",
      "INFO:root:Training Time : 33.37775707244873\n",
      "INFO:root:Testing\n",
      "INFO:root:Testing Time : 40.853379011154175\n",
      "INFO:root:Training for k = 19\n",
      "INFO:root:Training Time : 33.653696060180664\n",
      "INFO:root:Testing\n",
      "INFO:root:Testing Time : 40.765947103500366\n"
     ]
    }
   ],
   "source": [
    "kNN_score = []\n",
    "\n",
    "for clf in kNN:\n",
    "    \n",
    "    # Apprentissage\n",
    "    logging.info(\"Training for k = \" + str(clf.n_neighbors))\n",
    "    start = time.time()\n",
    "    clf.fit(x_train[:100000],y_train[:100000])\n",
    "    end = time.time()\n",
    "    logging.info('Training Time : ' + str(end - start))\n",
    "    \n",
    "    # Test\n",
    "    logging.info(\"Testing\")\n",
    "    start = time.time()\n",
    "    score = clf.score(x_valid[:10000],y_valid[:10000])\n",
    "    end = time.time()\n",
    "    kNN_score.append(score)\n",
    "    logging.info('Testing Time : ' + str(end-start))"
   ]
  },
  {
   "cell_type": "code",
   "execution_count": 137,
   "metadata": {
    "collapsed": false
   },
   "outputs": [
    {
     "data": {
      "image/png": "[encoded data removed]",
      "text/plain": [
       "<Figure size 432x288 with 1 Axes>"
      ]
     },
     "metadata": {},
     "output_type": "display_data"
    }
   ],
   "source": [
    "plt.scatter(K,kNN_score)\n",
    "plt.plot(K,kNN_score)\n",
    "plt.title('Accuracy by k')\n",
    "plt.show()"
   ]
  },
  {
   "cell_type": "markdown",
   "metadata": {
    "nbpresent": {
     "id": "0c5e276c-77a2-42a4-af2e-7100a6ca9927"
    }
   },
   "source": [
    "### Random Forest"
   ]
  },
  {
   "cell_type": "markdown",
   "metadata": {
    "nbpresent": {
     "id": "35e8d2d6-8937-46bb-bc05-b557346e4a16"
    }
   },
   "source": [
    "#### Variations du paramètre n_estimators"
   ]
  },
  {
   "cell_type": "raw",
   "metadata": {
    "collapsed": false,
    "nbpresent": {
     "id": "809546a9-843c-4cf4-baae-dd34524b61b5"
    }
   },
   "source": [
    "N_estimators = range(1,21)\n",
    "\n",
    "# Collection de classifier en fonction du parametre n_estimators\n",
    "RFC1=[RandomForestClassifier(max_depth=50,n_estimators=n,\n",
    "                             verbose=1,n_jobs=5, random_state=0,\n",
    "                             max_features=data.shape[1]) for n in N_estimators]"
   ]
  },
  {
   "cell_type": "raw",
   "metadata": {
    "collapsed": false,
    "nbpresent": {
     "id": "fa1996e1-385a-43ce-8444-6854e9507d91"
    },
    "scrolled": true
   },
   "source": [
    "RFC1_score=[]\n",
    "\n",
    "for clf in RFC1:\n",
    "\n",
    "    # Apprentissage\n",
    "    logging.info(\"Training for n_estimators = \" + str(clf.n_estimators))\n",
    "    start = time.time()\n",
    "    clf.fit(x_train,y_train)\n",
    "    end = time.time()\n",
    "    logging.info('Training Time : ' + str(end - start))\n",
    "\n",
    "    # Test\n",
    "    logging.info(\"Testing\")\n",
    "    score,test_time = summarize(clf,x_valid,y_valid)\n",
    "    RFC1_score.append(score)\n",
    "    logging.info('Testing Time : ' + str(test_time) + '\\nAccuracy : ' + str(score))"
   ]
  },
  {
   "cell_type": "raw",
   "metadata": {
    "collapsed": false,
    "nbpresent": {
     "id": "440bd24f-7dd2-4fed-a449-6eb4763f4b58"
    }
   },
   "source": [
    "plt.scatter(N_estimators,RFC1_score)\n",
    "plt.plot(N_estimators,RFC1_score)\n",
    "plt.title('Accuracy by n_estimators')\n",
    "plt.show()"
   ]
  },
  {
   "cell_type": "markdown",
   "metadata": {
    "nbpresent": {
     "id": "87894f59-5c43-443c-93a5-4da9e5e2624b"
    }
   },
   "source": [
    "#### Variations du paramètre max_depth"
   ]
  },
  {
   "cell_type": "raw",
   "metadata": {
    "nbpresent": {
     "id": "ab844092-a8b7-4a96-bba6-2b888d80f02c"
    }
   },
   "source": [
    "Depth = range(10,101,10)\n",
    "\n",
    "# Collection de classifier en fonction du parametre max entre 1 et r\n",
    "RFC2=[RandomForestClassifier(max_depth=depth,n_estimators=15,\n",
    "                             verbose=1,n_jobs=5,random_state=0,\n",
    "                             max_features=data.shape[1]) for depth in Depth]"
   ]
  },
  {
   "cell_type": "raw",
   "metadata": {
    "nbpresent": {
     "id": "ef178561-c97f-40c4-ba0e-80178d6df166"
    }
   },
   "source": [
    "RFC2_score=[]\n",
    "\n",
    "for clf in RFC2:\n",
    "    \n",
    "    # Apprentissage\n",
    "    logging.info(\"Training for max_depth = \" + str(clf.max_depth))\n",
    "    start = time.time()\n",
    "    clf.fit(x_train,y_train)\n",
    "    end = time.time()\n",
    "    logging.info('Training Time : ' + str(end - start))\n",
    "    \n",
    "    # Test\n",
    "    logging.info(\"Testing\") \n",
    "    score,test_time = summarize(clf,x_valid,y_valid)\n",
    "    RFC2_score.append(score)\n",
    "    logging.info('Testing Time : ' + str(test_time) + '\\nAccuracy : ' + str(score))"
   ]
  },
  {
   "cell_type": "raw",
   "metadata": {
    "nbpresent": {
     "id": "559f8392-d039-4172-83e0-e142b1c4df4a"
    }
   },
   "source": [
    "plt.scatter(Depth,RFC2_score)\n",
    "plt.plot(Depth,RFC2_score)\n",
    "plt.title('Accuracy by max_depth')\n",
    "plt.show()"
   ]
  },
  {
   "cell_type": "markdown",
   "metadata": {
    "nbpresent": {
     "id": "ed4973e3-0d36-486c-aedd-1692dc0cd2a3"
    }
   },
   "source": [
    "On voit qu'on atteint un seuil à $max\\_depth = 50$. On tente de tracer toutes les courbes sur une même figure."
   ]
  },
  {
   "cell_type": "code",
   "execution_count": 26,
   "metadata": {
    "collapsed": false,
    "nbpresent": {
     "id": "a85b20ee-d3bd-4ad4-acca-7e221ff05548"
    },
    "scrolled": true
   },
   "outputs": [
    {
     "name": "stderr",
     "output_type": "stream",
     "text": [
      "INFO:root:Training for n_estimators = 1 and max_depth = 10\n",
      "[Parallel(n_jobs=5)]: Done   1 out of   1 | elapsed:    3.7s finished\n",
      "INFO:root:Training Time : 3.857619047164917\n",
      "INFO:root:Testing\n",
      "[Parallel(n_jobs=1)]: Done   1 out of   1 | elapsed:    0.0s finished\n",
      "INFO:root:Testing Time : 0.0328521728515625\n",
      "Accuracy : [0.6420959301820205]\n",
      "INFO:root:Training for n_estimators = 2 and max_depth = 10\n",
      "[Parallel(n_jobs=5)]: Done   2 out of   2 | elapsed:    4.3s remaining:    0.0s\n",
      "[Parallel(n_jobs=5)]: Done   2 out of   2 | elapsed:    4.3s finished\n",
      "INFO:root:Training Time : 4.53318190574646\n",
      "INFO:root:Testing\n",
      "[Parallel(n_jobs=2)]: Done   2 out of   2 | elapsed:    0.0s remaining:    0.0s\n",
      "[Parallel(n_jobs=2)]: Done   2 out of   2 | elapsed:    0.0s finished\n",
      "INFO:root:Testing Time : 0.12666606903076172\n",
      "Accuracy : [0.6420959301820205, 0.6480415848125033]\n",
      "INFO:root:Training for n_estimators = 3 and max_depth = 10\n",
      "[Parallel(n_jobs=5)]: Done   3 out of   3 | elapsed:    5.8s finished\n",
      "INFO:root:Training Time : 5.938509941101074\n",
      "INFO:root:Testing\n",
      "[Parallel(n_jobs=3)]: Done   3 out of   3 | elapsed:    0.0s finished\n",
      "INFO:root:Testing Time : 0.1299610137939453\n",
      "Accuracy : [0.6420959301820205, 0.6480415848125033, 0.64376488586777]\n",
      "INFO:root:Training for n_estimators = 4 and max_depth = 10\n",
      "[Parallel(n_jobs=5)]: Done   4 out of   4 | elapsed:    6.7s finished\n",
      "INFO:root:Training Time : 6.902298927307129\n",
      "INFO:root:Testing\n",
      "[Parallel(n_jobs=4)]: Done   2 out of   4 | elapsed:    0.0s remaining:    0.0s\n",
      "[Parallel(n_jobs=4)]: Done   4 out of   4 | elapsed:    0.0s finished\n",
      "INFO:root:Testing Time : 0.1340799331665039\n",
      "Accuracy : [0.6420959301820205, 0.6480415848125033, 0.64376488586777, 0.6442168946993272]\n",
      "INFO:root:Training for n_estimators = 5 and max_depth = 10\n",
      "[Parallel(n_jobs=5)]: Done   2 out of   5 | elapsed:    9.6s remaining:   14.3s\n",
      "[Parallel(n_jobs=5)]: Done   5 out of   5 | elapsed:    9.7s finished\n",
      "INFO:root:Training Time : 9.919147968292236\n",
      "INFO:root:Testing\n",
      "[Parallel(n_jobs=5)]: Done   2 out of   5 | elapsed:    0.0s remaining:    0.0s\n",
      "[Parallel(n_jobs=5)]: Done   5 out of   5 | elapsed:    0.0s finished\n",
      "INFO:root:Testing Time : 0.13199591636657715\n",
      "Accuracy : [0.6420959301820205, 0.6480415848125033, 0.64376488586777, 0.6442168946993272, 0.6441473548790876]\n",
      "INFO:root:Training for n_estimators = 6 and max_depth = 10\n",
      "[Parallel(n_jobs=5)]: Done   4 out of   6 | elapsed:   11.0s remaining:    5.5s\n",
      "[Parallel(n_jobs=5)]: Done   6 out of   6 | elapsed:   16.6s finished\n",
      "INFO:root:Training Time : 16.80367398262024\n",
      "INFO:root:Testing\n",
      "[Parallel(n_jobs=5)]: Done   4 out of   6 | elapsed:    0.0s remaining:    0.0s\n",
      "[Parallel(n_jobs=5)]: Done   6 out of   6 | elapsed:    0.1s finished\n",
      "INFO:root:Testing Time : 0.14790606498718262\n",
      "Accuracy : [0.6420959301820205, 0.6480415848125033, 0.64376488586777, 0.6442168946993272, 0.6441473548790876, 0.644408129204986]\n",
      "INFO:root:Training for n_estimators = 7 and max_depth = 10\n",
      "[Parallel(n_jobs=5)]: Done   7 out of   7 | elapsed:   21.8s finished\n",
      "INFO:root:Training Time : 22.064180850982666\n",
      "INFO:root:Testing\n",
      "[Parallel(n_jobs=5)]: Done   7 out of   7 | elapsed:    0.0s finished\n",
      "INFO:root:Testing Time : 0.14278602600097656\n",
      "Accuracy : [0.6420959301820205, 0.6480415848125033, 0.64376488586777, 0.6442168946993272, 0.6441473548790876, 0.644408129204986, 0.6442690495645069]\n",
      "INFO:root:Training for n_estimators = 8 and max_depth = 10\n",
      "[Parallel(n_jobs=5)]: Done   8 out of   8 | elapsed:   17.6s remaining:    0.0s\n",
      "[Parallel(n_jobs=5)]: Done   8 out of   8 | elapsed:   17.6s finished\n",
      "INFO:root:Training Time : 17.74744701385498\n",
      "INFO:root:Testing\n",
      "[Parallel(n_jobs=5)]: Done   8 out of   8 | elapsed:    0.0s remaining:    0.0s\n",
      "[Parallel(n_jobs=5)]: Done   8 out of   8 | elapsed:    0.0s finished\n",
      "INFO:root:Testing Time : 0.14377403259277344\n",
      "Accuracy : [0.6420959301820205, 0.6480415848125033, 0.64376488586777, 0.6442168946993272, 0.6441473548790876, 0.644408129204986, 0.6442690495645069, 0.6438691955981294]\n",
      "INFO:root:Training for n_estimators = 9 and max_depth = 10\n",
      "[Parallel(n_jobs=5)]: Done   9 out of   9 | elapsed:   19.5s finished\n",
      "INFO:root:Training Time : 19.663252115249634\n",
      "INFO:root:Testing\n",
      "[Parallel(n_jobs=5)]: Done   9 out of   9 | elapsed:    0.0s finished\n",
      "INFO:root:Testing Time : 0.13896703720092773\n",
      "Accuracy : [0.6420959301820205, 0.6480415848125033, 0.64376488586777, 0.6442168946993272, 0.6441473548790876, 0.644408129204986, 0.6442690495645069, 0.6438691955981294, 0.6439561203734289]\n",
      "INFO:root:Training for n_estimators = 10 and max_depth = 10\n",
      "[Parallel(n_jobs=5)]: Done  10 out of  10 | elapsed:   21.7s finished\n",
      "INFO:root:Training Time : 21.93781304359436\n",
      "INFO:root:Testing\n",
      "[Parallel(n_jobs=5)]: Done  10 out of  10 | elapsed:    0.0s finished\n",
      "INFO:root:Testing Time : 0.16231393814086914\n",
      "Accuracy : [0.6420959301820205, 0.6480415848125033, 0.64376488586777, 0.6442168946993272, 0.6441473548790876, 0.644408129204986, 0.6442690495645069, 0.6438691955981294, 0.6439561203734289, 0.6440604301037882]\n",
      "INFO:root:Training for n_estimators = 11 and max_depth = 10\n",
      "[Parallel(n_jobs=5)]: Done  11 out of  11 | elapsed:   25.8s finished\n",
      "INFO:root:Training Time : 26.023192882537842\n",
      "INFO:root:Testing\n",
      "[Parallel(n_jobs=5)]: Done  11 out of  11 | elapsed:    0.0s finished\n",
      "INFO:root:Testing Time : 0.1538558006286621\n",
      "Accuracy : [0.6420959301820205, 0.6480415848125033, 0.64376488586777, 0.6442168946993272, 0.6441473548790876, 0.644408129204986, 0.6442690495645069, 0.6438691955981294, 0.6439561203734289, 0.6440604301037882, 0.6440604301037882]\n",
      "INFO:root:Training for n_estimators = 12 and max_depth = 10\n",
      "[Parallel(n_jobs=5)]: Done  12 out of  12 | elapsed:   26.4s finished\n",
      "INFO:root:Training Time : 26.68538188934326\n",
      "INFO:root:Testing\n",
      "[Parallel(n_jobs=5)]: Done  12 out of  12 | elapsed:    0.0s finished\n",
      "INFO:root:Testing Time : 0.15559816360473633\n",
      "Accuracy : [0.6420959301820205, 0.6480415848125033, 0.64376488586777, 0.6442168946993272, 0.6441473548790876, 0.644408129204986, 0.6442690495645069, 0.6438691955981294, 0.6439561203734289, 0.6440604301037882, 0.6440604301037882, 0.644095200013908]\n",
      "INFO:root:Training for n_estimators = 13 and max_depth = 10\n",
      "[Parallel(n_jobs=5)]: Done  13 out of  13 | elapsed:   30.7s finished\n",
      "INFO:root:Training Time : 30.93319010734558\n",
      "INFO:root:Testing\n",
      "[Parallel(n_jobs=5)]: Done  13 out of  13 | elapsed:    0.1s finished\n",
      "INFO:root:Testing Time : 0.15553617477416992\n",
      "Accuracy : [0.6420959301820205, 0.6480415848125033, 0.64376488586777, 0.6442168946993272, 0.6441473548790876, 0.644408129204986, 0.6442690495645069, 0.6438691955981294, 0.6439561203734289, 0.6440604301037882, 0.6440604301037882, 0.644095200013908, 0.6442516646094469]\n",
      "INFO:root:Training for n_estimators = 14 and max_depth = 10\n",
      "[Parallel(n_jobs=5)]: Done  14 out of  14 | elapsed:   35.3s finished\n",
      "INFO:root:Training Time : 35.684226989746094\n",
      "INFO:root:Testing\n",
      "[Parallel(n_jobs=5)]: Done  14 out of  14 | elapsed:    0.1s finished\n",
      "INFO:root:Testing Time : 0.16363191604614258\n",
      "Accuracy : [0.6420959301820205, 0.6480415848125033, 0.64376488586777, 0.6442168946993272, 0.6441473548790876, 0.644408129204986, 0.6442690495645069, 0.6438691955981294, 0.6439561203734289, 0.6440604301037882, 0.6440604301037882, 0.644095200013908, 0.6442516646094469, 0.6454338415535196]\n",
      "INFO:root:Training for n_estimators = 15 and max_depth = 10\n",
      "[Parallel(n_jobs=5)]: Done  15 out of  15 | elapsed:   35.8s finished\n",
      "INFO:root:Training Time : 36.03054594993591\n",
      "INFO:root:Testing\n",
      "[Parallel(n_jobs=5)]: Done  15 out of  15 | elapsed:    0.1s finished\n",
      "INFO:root:Testing Time : 0.1549999713897705\n",
      "Accuracy : [0.6420959301820205, 0.6480415848125033, 0.64376488586777, 0.6442168946993272, 0.6441473548790876, 0.644408129204986, 0.6442690495645069, 0.6438691955981294, 0.6439561203734289, 0.6440604301037882, 0.6440604301037882, 0.644095200013908, 0.6442516646094469, 0.6454338415535196, 0.645520766328819]\n",
      "INFO:root:Training for n_estimators = 1 and max_depth = 20\n",
      "[Parallel(n_jobs=5)]: Done   1 out of   1 | elapsed:    8.1s finished\n",
      "INFO:root:Training Time : 8.31101393699646\n",
      "INFO:root:Testing\n",
      "[Parallel(n_jobs=1)]: Done   1 out of   1 | elapsed:    0.0s finished\n",
      "INFO:root:Testing Time : 0.05937695503234863\n",
      "Accuracy : [0.6876792823490552]\n",
      "INFO:root:Training for n_estimators = 2 and max_depth = 20\n",
      "[Parallel(n_jobs=5)]: Done   2 out of   2 | elapsed:   10.4s remaining:    0.0s\n",
      "[Parallel(n_jobs=5)]: Done   2 out of   2 | elapsed:   10.4s finished\n",
      "INFO:root:Training Time : 10.674849033355713\n",
      "INFO:root:Testing\n",
      "[Parallel(n_jobs=2)]: Done   2 out of   2 | elapsed:    0.0s remaining:    0.0s\n",
      "[Parallel(n_jobs=2)]: Done   2 out of   2 | elapsed:    0.0s finished\n",
      "INFO:root:Testing Time : 0.12930798530578613\n",
      "Accuracy : [0.6876792823490552, 0.6935032422941186]\n",
      "INFO:root:Training for n_estimators = 3 and max_depth = 20\n",
      "[Parallel(n_jobs=5)]: Done   3 out of   3 | elapsed:   10.8s finished\n",
      "INFO:root:Training Time : 10.896460056304932\n",
      "INFO:root:Testing\n",
      "[Parallel(n_jobs=3)]: Done   3 out of   3 | elapsed:    0.0s finished\n",
      "INFO:root:Testing Time : 0.13730192184448242\n",
      "Accuracy : [0.6876792823490552, 0.6935032422941186, 0.6971888527668156]\n",
      "INFO:root:Training for n_estimators = 4 and max_depth = 20\n",
      "[Parallel(n_jobs=5)]: Done   4 out of   4 | elapsed:   15.6s finished\n",
      "INFO:root:Training Time : 15.798393964767456\n",
      "INFO:root:Testing\n",
      "[Parallel(n_jobs=4)]: Done   2 out of   4 | elapsed:    0.0s remaining:    0.0s\n",
      "[Parallel(n_jobs=4)]: Done   4 out of   4 | elapsed:    0.0s finished\n",
      "INFO:root:Testing Time : 0.14009499549865723\n",
      "Accuracy : [0.6876792823490552, 0.6935032422941186, 0.6971888527668156, 0.6987534987222058]\n",
      "INFO:root:Training for n_estimators = 5 and max_depth = 20\n",
      "[Parallel(n_jobs=5)]: Done   2 out of   5 | elapsed:   19.6s remaining:   29.5s\n",
      "[Parallel(n_jobs=5)]: Done   5 out of   5 | elapsed:   19.7s finished\n",
      "INFO:root:Training Time : 19.907203912734985\n",
      "INFO:root:Testing\n",
      "[Parallel(n_jobs=5)]: Done   2 out of   5 | elapsed:    0.0s remaining:    0.0s\n",
      "[Parallel(n_jobs=5)]: Done   5 out of   5 | elapsed:    0.0s finished\n",
      "INFO:root:Testing Time : 0.13451385498046875\n",
      "Accuracy : [0.6876792823490552, 0.6935032422941186, 0.6971888527668156, 0.6987534987222058, 0.6992924323290625]\n",
      "INFO:root:Training for n_estimators = 6 and max_depth = 20\n",
      "[Parallel(n_jobs=5)]: Done   4 out of   6 | elapsed:   18.7s remaining:    9.4s\n",
      "[Parallel(n_jobs=5)]: Done   6 out of   6 | elapsed:   25.1s finished\n",
      "INFO:root:Training Time : 25.254343032836914\n",
      "INFO:root:Testing\n",
      "[Parallel(n_jobs=5)]: Done   4 out of   6 | elapsed:    0.0s remaining:    0.0s\n",
      "[Parallel(n_jobs=5)]: Done   6 out of   6 | elapsed:    0.0s finished\n",
      "INFO:root:Testing Time : 0.13936805725097656\n",
      "Accuracy : [0.6876792823490552, 0.6935032422941186, 0.6971888527668156, 0.6987534987222058, 0.6992924323290625, 0.7004050694528955]\n",
      "INFO:root:Training for n_estimators = 7 and max_depth = 20\n",
      "[Parallel(n_jobs=5)]: Done   7 out of   7 | elapsed:   24.8s finished\n",
      "INFO:root:Training Time : 24.90117311477661\n",
      "INFO:root:Testing\n",
      "[Parallel(n_jobs=5)]: Done   7 out of   7 | elapsed:    0.0s finished\n",
      "INFO:root:Testing Time : 0.13475894927978516\n",
      "Accuracy : [0.6876792823490552, 0.6935032422941186, 0.6971888527668156, 0.6987534987222058, 0.6992924323290625, 0.7004050694528955, 0.7013612419811894]\n",
      "INFO:root:Training for n_estimators = 8 and max_depth = 20\n",
      "[Parallel(n_jobs=5)]: Done   8 out of   8 | elapsed:   27.3s remaining:    0.0s\n",
      "[Parallel(n_jobs=5)]: Done   8 out of   8 | elapsed:   27.3s finished\n",
      "INFO:root:Training Time : 27.47772192955017\n",
      "INFO:root:Testing\n",
      "[Parallel(n_jobs=5)]: Done   8 out of   8 | elapsed:    0.1s remaining:    0.0s\n",
      "[Parallel(n_jobs=5)]: Done   8 out of   8 | elapsed:    0.1s finished\n",
      "INFO:root:Testing Time : 0.13950395584106445\n",
      "Accuracy : [0.6876792823490552, 0.6935032422941186, 0.6971888527668156, 0.6987534987222058, 0.6992924323290625, 0.7004050694528955, 0.7013612419811894, 0.7018654056779263]\n",
      "INFO:root:Training for n_estimators = 9 and max_depth = 20\n",
      "[Parallel(n_jobs=5)]: Done   9 out of   9 | elapsed:   30.5s finished\n",
      "INFO:root:Training Time : 30.690134048461914\n",
      "INFO:root:Testing\n",
      "[Parallel(n_jobs=5)]: Done   9 out of   9 | elapsed:    0.1s finished\n",
      "INFO:root:Testing Time : 0.14452505111694336\n",
      "Accuracy : [0.6876792823490552, 0.6935032422941186, 0.6971888527668156, 0.6987534987222058, 0.6992924323290625, 0.7004050694528955, 0.7013612419811894, 0.7018654056779263, 0.7013786269362494]\n",
      "INFO:root:Training for n_estimators = 10 and max_depth = 20\n",
      "[Parallel(n_jobs=5)]: Done  10 out of  10 | elapsed:   34.0s finished\n",
      "INFO:root:Training Time : 34.197267055511475\n",
      "INFO:root:Testing\n",
      "[Parallel(n_jobs=5)]: Done  10 out of  10 | elapsed:    0.1s finished\n",
      "INFO:root:Testing Time : 0.14752793312072754\n",
      "Accuracy : [0.6876792823490552, 0.6935032422941186, 0.6971888527668156, 0.6987534987222058, 0.6992924323290625, 0.7004050694528955, 0.7013612419811894, 0.7018654056779263, 0.7013786269362494, 0.7014829366666088]\n",
      "INFO:root:Training for n_estimators = 11 and max_depth = 20\n",
      "[Parallel(n_jobs=5)]: Done  11 out of  11 | elapsed:   40.2s finished\n",
      "INFO:root:Training Time : 40.43016004562378\n",
      "INFO:root:Testing\n",
      "[Parallel(n_jobs=5)]: Done  11 out of  11 | elapsed:    0.1s finished\n",
      "INFO:root:Testing Time : 0.14680719375610352\n",
      "Accuracy : [0.6876792823490552, 0.6935032422941186, 0.6971888527668156, 0.6987534987222058, 0.6992924323290625, 0.7004050694528955, 0.7013612419811894, 0.7018654056779263, 0.7013786269362494, 0.7014829366666088, 0.7017437109925071]\n",
      "INFO:root:Training for n_estimators = 12 and max_depth = 20\n",
      "[Parallel(n_jobs=5)]: Done  12 out of  12 | elapsed:   41.9s finished\n",
      "INFO:root:Training Time : 42.173287868499756\n",
      "INFO:root:Testing\n",
      "[Parallel(n_jobs=5)]: Done  12 out of  12 | elapsed:    0.1s finished\n",
      "INFO:root:Testing Time : 0.1469728946685791\n",
      "Accuracy : [0.6876792823490552, 0.6935032422941186, 0.6971888527668156, 0.6987534987222058, 0.6992924323290625, 0.7004050694528955, 0.7013612419811894, 0.7018654056779263, 0.7013786269362494, 0.7014829366666088, 0.7017437109925071, 0.7017089410823873]\n",
      "INFO:root:Training for n_estimators = 13 and max_depth = 20\n",
      "[Parallel(n_jobs=5)]: Done  13 out of  13 | elapsed:   45.7s finished\n",
      "INFO:root:Training Time : 45.89718985557556\n",
      "INFO:root:Testing\n",
      "[Parallel(n_jobs=5)]: Done  13 out of  13 | elapsed:    0.1s finished\n",
      "INFO:root:Testing Time : 0.14745807647705078\n",
      "Accuracy : [0.6876792823490552, 0.6935032422941186, 0.6971888527668156, 0.6987534987222058, 0.6992924323290625, 0.7004050694528955, 0.7013612419811894, 0.7018654056779263, 0.7013786269362494, 0.7014829366666088, 0.7017437109925071, 0.7017089410823873, 0.702074025138645]\n",
      "INFO:root:Training for n_estimators = 14 and max_depth = 20\n",
      "[Parallel(n_jobs=5)]: Done  14 out of  14 | elapsed:   48.0s finished\n",
      "INFO:root:Training Time : 48.271316051483154\n",
      "INFO:root:Testing\n",
      "[Parallel(n_jobs=5)]: Done  14 out of  14 | elapsed:    0.1s finished\n",
      "INFO:root:Testing Time : 0.1522989273071289\n",
      "Accuracy : [0.6876792823490552, 0.6935032422941186, 0.6971888527668156, 0.6987534987222058, 0.6992924323290625, 0.7004050694528955, 0.7013612419811894, 0.7018654056779263, 0.7013786269362494, 0.7014829366666088, 0.7017437109925071, 0.7017089410823873, 0.702074025138645, 0.7017784809026268]\n",
      "INFO:root:Training for n_estimators = 15 and max_depth = 20\n",
      "[Parallel(n_jobs=5)]: Done  15 out of  15 | elapsed:   52.8s finished\n",
      "INFO:root:Training Time : 53.03584599494934\n",
      "INFO:root:Testing\n",
      "[Parallel(n_jobs=5)]: Done  15 out of  15 | elapsed:    0.1s finished\n",
      "INFO:root:Testing Time : 0.14583802223205566\n",
      "Accuracy : [0.6876792823490552, 0.6935032422941186, 0.6971888527668156, 0.6987534987222058, 0.6992924323290625, 0.7004050694528955, 0.7013612419811894, 0.7018654056779263, 0.7013786269362494, 0.7014829366666088, 0.7017437109925071, 0.7017089410823873, 0.702074025138645, 0.7017784809026268, 0.7016567862172076]\n",
      "INFO:root:Training for n_estimators = 1 and max_depth = 30\n",
      "[Parallel(n_jobs=5)]: Done   1 out of   1 | elapsed:    8.2s finished\n",
      "INFO:root:Training Time : 8.39357590675354\n",
      "INFO:root:Testing\n",
      "[Parallel(n_jobs=1)]: Done   1 out of   1 | elapsed:    0.0s finished\n",
      "INFO:root:Testing Time : 0.04227495193481445\n",
      "Accuracy : [0.718207263434224]\n",
      "INFO:root:Training for n_estimators = 2 and max_depth = 30\n",
      "[Parallel(n_jobs=5)]: Done   2 out of   2 | elapsed:   11.7s remaining:    0.0s\n",
      "[Parallel(n_jobs=5)]: Done   2 out of   2 | elapsed:   11.7s finished\n",
      "INFO:root:Training Time : 11.95467209815979\n",
      "INFO:root:Testing\n",
      "[Parallel(n_jobs=2)]: Done   2 out of   2 | elapsed:    0.0s remaining:    0.0s\n",
      "[Parallel(n_jobs=2)]: Done   2 out of   2 | elapsed:    0.0s finished\n",
      "INFO:root:Testing Time : 0.13533711433410645\n",
      "Accuracy : [0.718207263434224, 0.7289859355713566]\n",
      "INFO:root:Training for n_estimators = 3 and max_depth = 30\n",
      "[Parallel(n_jobs=5)]: Done   3 out of   3 | elapsed:   15.4s finished\n",
      "INFO:root:Training Time : 15.620128870010376\n",
      "INFO:root:Testing\n",
      "[Parallel(n_jobs=3)]: Done   3 out of   3 | elapsed:    0.0s finished\n",
      "INFO:root:Testing Time : 0.12948989868164062\n",
      "Accuracy : [0.718207263434224, 0.7289859355713566, 0.7363050016515708]\n",
      "INFO:root:Training for n_estimators = 4 and max_depth = 30\n",
      "[Parallel(n_jobs=5)]: Done   4 out of   4 | elapsed:   16.5s finished\n",
      "INFO:root:Training Time : 16.66897201538086\n",
      "INFO:root:Testing\n",
      "[Parallel(n_jobs=4)]: Done   2 out of   4 | elapsed:    0.0s remaining:    0.0s\n",
      "[Parallel(n_jobs=4)]: Done   4 out of   4 | elapsed:    0.0s finished\n",
      "INFO:root:Testing Time : 0.13354110717773438\n",
      "Accuracy : [0.718207263434224, 0.7289859355713566, 0.7363050016515708, 0.7385650458093566]\n",
      "INFO:root:Training for n_estimators = 5 and max_depth = 30\n",
      "[Parallel(n_jobs=5)]: Done   2 out of   5 | elapsed:   20.7s remaining:   31.1s\n",
      "[Parallel(n_jobs=5)]: Done   5 out of   5 | elapsed:   20.7s finished\n",
      "INFO:root:Training Time : 20.95653510093689\n",
      "INFO:root:Testing\n",
      "[Parallel(n_jobs=5)]: Done   2 out of   5 | elapsed:    0.0s remaining:    0.1s\n",
      "[Parallel(n_jobs=5)]: Done   5 out of   5 | elapsed:    0.1s finished\n",
      "INFO:root:Testing Time : 0.13051199913024902\n",
      "Accuracy : [0.718207263434224, 0.7289859355713566, 0.7363050016515708, 0.7385650458093566, 0.7387736652700753]\n",
      "INFO:root:Training for n_estimators = 6 and max_depth = 30\n",
      "[Parallel(n_jobs=5)]: Done   4 out of   6 | elapsed:   28.0s remaining:   14.0s\n",
      "[Parallel(n_jobs=5)]: Done   6 out of   6 | elapsed:   38.2s finished\n",
      "INFO:root:Training Time : 38.405604124069214\n",
      "INFO:root:Testing\n",
      "[Parallel(n_jobs=5)]: Done   4 out of   6 | elapsed:    0.0s remaining:    0.0s\n",
      "[Parallel(n_jobs=5)]: Done   6 out of   6 | elapsed:    0.1s finished\n",
      "INFO:root:Testing Time : 0.13644003868103027\n",
      "Accuracy : [0.718207263434224, 0.7289859355713566, 0.7363050016515708, 0.7385650458093566, 0.7387736652700753, 0.742650510248431]\n",
      "INFO:root:Training for n_estimators = 7 and max_depth = 30\n",
      "[Parallel(n_jobs=5)]: Done   7 out of   7 | elapsed:   34.1s finished\n",
      "INFO:root:Training Time : 34.294569969177246\n",
      "INFO:root:Testing\n",
      "[Parallel(n_jobs=5)]: Done   7 out of   7 | elapsed:    0.1s finished\n",
      "INFO:root:Testing Time : 0.1377420425415039\n",
      "Accuracy : [0.718207263434224, 0.7289859355713566, 0.7363050016515708, 0.7385650458093566, 0.7387736652700753, 0.742650510248431, 0.7431894438552876]\n",
      "INFO:root:Training for n_estimators = 8 and max_depth = 30\n",
      "[Parallel(n_jobs=5)]: Done   8 out of   8 | elapsed:   34.5s remaining:    0.0s\n",
      "[Parallel(n_jobs=5)]: Done   8 out of   8 | elapsed:   34.5s finished\n",
      "INFO:root:Training Time : 34.716612815856934\n",
      "INFO:root:Testing\n",
      "[Parallel(n_jobs=5)]: Done   8 out of   8 | elapsed:    0.1s remaining:    0.0s\n",
      "[Parallel(n_jobs=5)]: Done   8 out of   8 | elapsed:    0.1s finished\n",
      "INFO:root:Testing Time : 0.1331181526184082\n",
      "Accuracy : [0.718207263434224, 0.7289859355713566, 0.7363050016515708, 0.7385650458093566, 0.7387736652700753, 0.742650510248431, 0.7431894438552876, 0.7440586916082822]\n",
      "INFO:root:Training for n_estimators = 9 and max_depth = 30\n",
      "[Parallel(n_jobs=5)]: Done   9 out of   9 | elapsed:   40.2s finished\n",
      "INFO:root:Training Time : 40.40141797065735\n",
      "INFO:root:Testing\n",
      "[Parallel(n_jobs=5)]: Done   9 out of   9 | elapsed:    0.1s finished\n",
      "INFO:root:Testing Time : 0.13563203811645508\n",
      "Accuracy : [0.718207263434224, 0.7289859355713566, 0.7363050016515708, 0.7385650458093566, 0.7387736652700753, 0.742650510248431, 0.7431894438552876, 0.7440586916082822, 0.7447193199005581]\n",
      "INFO:root:Training for n_estimators = 10 and max_depth = 30\n",
      "[Parallel(n_jobs=5)]: Done  10 out of  10 | elapsed:   40.9s finished\n",
      "INFO:root:Training Time : 41.02619004249573\n",
      "INFO:root:Testing\n",
      "[Parallel(n_jobs=5)]: Done  10 out of  10 | elapsed:    0.1s finished\n",
      "INFO:root:Testing Time : 0.25171685218811035\n",
      "Accuracy : [0.718207263434224, 0.7289859355713566, 0.7363050016515708, 0.7385650458093566, 0.7387736652700753, 0.742650510248431, 0.7431894438552876, 0.7440586916082822, 0.7447193199005581, 0.7445454703499591]\n",
      "INFO:root:Training for n_estimators = 11 and max_depth = 30\n",
      "[Parallel(n_jobs=5)]: Done  11 out of  11 | elapsed:   47.7s finished\n",
      "INFO:root:Training Time : 47.993183851242065\n",
      "INFO:root:Testing\n",
      "[Parallel(n_jobs=5)]: Done  11 out of  11 | elapsed:    0.1s finished\n",
      "INFO:root:Testing Time : 0.25258684158325195\n",
      "Accuracy : [0.718207263434224, 0.7289859355713566, 0.7363050016515708, 0.7385650458093566, 0.7387736652700753, 0.742650510248431, 0.7431894438552876, 0.7440586916082822, 0.7447193199005581, 0.7445454703499591, 0.7451191738669356]\n",
      "INFO:root:Training for n_estimators = 12 and max_depth = 30\n",
      "[Parallel(n_jobs=5)]: Done  12 out of  12 | elapsed:   49.9s finished\n",
      "INFO:root:Training Time : 50.11714005470276\n",
      "INFO:root:Testing\n",
      "[Parallel(n_jobs=5)]: Done  12 out of  12 | elapsed:    0.1s finished\n",
      "INFO:root:Testing Time : 0.2563130855560303\n",
      "Accuracy : [0.718207263434224, 0.7289859355713566, 0.7363050016515708, 0.7385650458093566, 0.7387736652700753, 0.742650510248431, 0.7431894438552876, 0.7440586916082822, 0.7447193199005581, 0.7445454703499591, 0.7451191738669356, 0.7445454703499591]\n",
      "INFO:root:Training for n_estimators = 13 and max_depth = 30\n",
      "[Parallel(n_jobs=5)]: Done  13 out of  13 | elapsed:   55.0s finished\n",
      "INFO:root:Training Time : 55.208712100982666\n",
      "INFO:root:Testing\n",
      "[Parallel(n_jobs=5)]: Done  13 out of  13 | elapsed:    0.1s finished\n",
      "INFO:root:Testing Time : 0.2497718334197998\n",
      "Accuracy : [0.718207263434224, 0.7289859355713566, 0.7363050016515708, 0.7385650458093566, 0.7387736652700753, 0.742650510248431, 0.7431894438552876, 0.7440586916082822, 0.7447193199005581, 0.7445454703499591, 0.7451191738669356, 0.7445454703499591, 0.7447367048556179]\n",
      "INFO:root:Training for n_estimators = 14 and max_depth = 30\n",
      "[Parallel(n_jobs=5)]: Done  14 out of  14 | elapsed:   56.9s finished\n",
      "INFO:root:Training Time : 57.09654712677002\n",
      "INFO:root:Testing\n",
      "[Parallel(n_jobs=5)]: Done  14 out of  14 | elapsed:    0.1s finished\n",
      "INFO:root:Testing Time : 0.25371313095092773\n",
      "Accuracy : [0.718207263434224, 0.7289859355713566, 0.7363050016515708, 0.7385650458093566, 0.7387736652700753, 0.742650510248431, 0.7431894438552876, 0.7440586916082822, 0.7447193199005581, 0.7445454703499591, 0.7451191738669356, 0.7445454703499591, 0.7447367048556179, 0.7448410145859773]\n",
      "INFO:root:Training for n_estimators = 15 and max_depth = 30\n",
      "[Parallel(n_jobs=5)]: Done  15 out of  15 | elapsed:  1.0min finished\n",
      "INFO:root:Training Time : 61.818275928497314\n",
      "INFO:root:Testing\n",
      "[Parallel(n_jobs=5)]: Done  15 out of  15 | elapsed:    0.1s finished\n",
      "INFO:root:Testing Time : 0.26076292991638184\n",
      "Accuracy : [0.718207263434224, 0.7289859355713566, 0.7363050016515708, 0.7385650458093566, 0.7387736652700753, 0.742650510248431, 0.7431894438552876, 0.7440586916082822, 0.7447193199005581, 0.7445454703499591, 0.7451191738669356, 0.7445454703499591, 0.7447367048556179, 0.7448410145859773, 0.7451713287321152]\n",
      "INFO:root:Training for n_estimators = 1 and max_depth = 40\n",
      "[Parallel(n_jobs=5)]: Done   1 out of   1 | elapsed:    9.0s finished\n",
      "INFO:root:Training Time : 9.169260025024414\n",
      "INFO:root:Testing\n",
      "[Parallel(n_jobs=1)]: Done   1 out of   1 | elapsed:    0.0s finished\n",
      "INFO:root:Testing Time : 0.03808903694152832\n",
      "Accuracy : [0.7366005458875888]\n",
      "INFO:root:Training for n_estimators = 2 and max_depth = 40\n",
      "[Parallel(n_jobs=5)]: Done   2 out of   2 | elapsed:   12.0s remaining:    0.0s\n",
      "[Parallel(n_jobs=5)]: Done   2 out of   2 | elapsed:   12.0s finished\n",
      "INFO:root:Training Time : 12.205806970596313\n",
      "INFO:root:Testing\n",
      "[Parallel(n_jobs=2)]: Done   2 out of   2 | elapsed:    0.0s remaining:    0.0s\n",
      "[Parallel(n_jobs=2)]: Done   2 out of   2 | elapsed:    0.0s finished\n",
      "INFO:root:Testing Time : 0.12828707695007324\n",
      "Accuracy : [0.7366005458875888, 0.7483006206428956]\n",
      "INFO:root:Training for n_estimators = 3 and max_depth = 40\n",
      "[Parallel(n_jobs=5)]: Done   3 out of   3 | elapsed:   13.8s finished\n",
      "INFO:root:Training Time : 14.000673055648804\n",
      "INFO:root:Testing\n",
      "[Parallel(n_jobs=3)]: Done   3 out of   3 | elapsed:    0.0s finished\n",
      "INFO:root:Testing Time : 0.12463784217834473\n",
      "Accuracy : [0.7366005458875888, 0.7483006206428956, 0.7586098989934111]\n",
      "INFO:root:Training for n_estimators = 4 and max_depth = 40\n",
      "[Parallel(n_jobs=5)]: Done   4 out of   4 | elapsed:   17.7s finished\n",
      "INFO:root:Training Time : 17.87681007385254\n",
      "INFO:root:Testing\n",
      "[Parallel(n_jobs=4)]: Done   2 out of   4 | elapsed:    0.0s remaining:    0.0s\n",
      "[Parallel(n_jobs=4)]: Done   4 out of   4 | elapsed:    0.1s finished\n",
      "INFO:root:Testing Time : 0.1272430419921875\n",
      "Accuracy : [0.7366005458875888, 0.7483006206428956, 0.7586098989934111, 0.7604005493645799]\n",
      "INFO:root:Training for n_estimators = 5 and max_depth = 40\n",
      "[Parallel(n_jobs=5)]: Done   2 out of   5 | elapsed:   21.8s remaining:   32.7s\n",
      "[Parallel(n_jobs=5)]: Done   5 out of   5 | elapsed:   21.9s finished\n",
      "INFO:root:Training Time : 22.111627101898193\n",
      "INFO:root:Testing\n",
      "[Parallel(n_jobs=5)]: Done   2 out of   5 | elapsed:    0.1s remaining:    0.1s\n",
      "[Parallel(n_jobs=5)]: Done   5 out of   5 | elapsed:    0.1s finished\n",
      "INFO:root:Testing Time : 0.13428688049316406\n",
      "Accuracy : [0.7366005458875888, 0.7483006206428956, 0.7586098989934111, 0.7604005493645799, 0.7630256775786235]\n",
      "INFO:root:Training for n_estimators = 6 and max_depth = 40\n",
      "[Parallel(n_jobs=5)]: Done   4 out of   6 | elapsed:   22.4s remaining:   11.2s\n",
      "[Parallel(n_jobs=5)]: Done   6 out of   6 | elapsed:   29.5s finished\n",
      "INFO:root:Training Time : 29.686352968215942\n",
      "INFO:root:Testing\n",
      "[Parallel(n_jobs=5)]: Done   4 out of   6 | elapsed:    0.1s remaining:    0.0s\n",
      "[Parallel(n_jobs=5)]: Done   6 out of   6 | elapsed:    0.1s finished\n",
      "INFO:root:Testing Time : 0.1315929889678955\n",
      "Accuracy : [0.7366005458875888, 0.7483006206428956, 0.7586098989934111, 0.7604005493645799, 0.7630256775786235, 0.7672154517480573]\n",
      "INFO:root:Training for n_estimators = 7 and max_depth = 40\n",
      "[Parallel(n_jobs=5)]: Done   7 out of   7 | elapsed:   33.9s finished\n",
      "INFO:root:Training Time : 34.03510403633118\n",
      "INFO:root:Testing\n",
      "[Parallel(n_jobs=5)]: Done   7 out of   7 | elapsed:    0.1s finished\n",
      "INFO:root:Testing Time : 0.13767290115356445\n",
      "Accuracy : [0.7366005458875888, 0.7483006206428956, 0.7586098989934111, 0.7604005493645799, 0.7630256775786235, 0.7672154517480573, 0.7683280888718903]\n",
      "INFO:root:Training for n_estimators = 8 and max_depth = 40\n",
      "[Parallel(n_jobs=5)]: Done   8 out of   8 | elapsed:   35.6s remaining:    0.0s\n",
      "[Parallel(n_jobs=5)]: Done   8 out of   8 | elapsed:   35.6s finished\n",
      "INFO:root:Training Time : 35.772814989089966\n",
      "INFO:root:Testing\n",
      "[Parallel(n_jobs=5)]: Done   8 out of   8 | elapsed:    0.1s remaining:    0.0s\n",
      "[Parallel(n_jobs=5)]: Done   8 out of   8 | elapsed:    0.1s finished\n",
      "INFO:root:Testing Time : 0.1368730068206787\n",
      "Accuracy : [0.7366005458875888, 0.7483006206428956, 0.7586098989934111, 0.7604005493645799, 0.7630256775786235, 0.7672154517480573, 0.7683280888718903, 0.7704142834790773]\n",
      "INFO:root:Training for n_estimators = 9 and max_depth = 40\n",
      "[Parallel(n_jobs=5)]: Done   9 out of   9 | elapsed:   38.8s finished\n",
      "INFO:root:Training Time : 38.973570108413696\n",
      "INFO:root:Testing\n",
      "[Parallel(n_jobs=5)]: Done   9 out of   9 | elapsed:    0.1s finished\n",
      "INFO:root:Testing Time : 0.23613381385803223\n",
      "Accuracy : [0.7366005458875888, 0.7483006206428956, 0.7586098989934111, 0.7604005493645799, 0.7630256775786235, 0.7672154517480573, 0.7683280888718903, 0.7704142834790773, 0.7707793675353349]\n",
      "INFO:root:Training for n_estimators = 10 and max_depth = 40\n",
      "[Parallel(n_jobs=5)]: Done  10 out of  10 | elapsed:   49.3s finished\n",
      "INFO:root:Training Time : 49.47857713699341\n",
      "INFO:root:Testing\n",
      "[Parallel(n_jobs=5)]: Done  10 out of  10 | elapsed:    0.1s finished\n",
      "INFO:root:Testing Time : 0.252025842666626\n",
      "Accuracy : [0.7366005458875888, 0.7483006206428956, 0.7586098989934111, 0.7604005493645799, 0.7630256775786235, 0.7672154517480573, 0.7683280888718903, 0.7704142834790773, 0.7707793675353349, 0.7707272126701552]\n",
      "INFO:root:Training for n_estimators = 11 and max_depth = 40\n",
      "[Parallel(n_jobs=5)]: Done  11 out of  11 | elapsed:   51.7s finished\n",
      "INFO:root:Training Time : 52.01014494895935\n",
      "INFO:root:Testing\n",
      "[Parallel(n_jobs=5)]: Done  11 out of  11 | elapsed:    0.1s finished\n",
      "INFO:root:Testing Time : 0.25291013717651367\n",
      "Accuracy : [0.7366005458875888, 0.7483006206428956, 0.7586098989934111, 0.7604005493645799, 0.7630256775786235, 0.7672154517480573, 0.7683280888718903, 0.7704142834790773, 0.7707793675353349, 0.7707272126701552, 0.7717007701535091]\n",
      "INFO:root:Training for n_estimators = 12 and max_depth = 40\n",
      "[Parallel(n_jobs=5)]: Done  12 out of  12 | elapsed:   56.9s finished\n",
      "INFO:root:Training Time : 57.14171004295349\n",
      "INFO:root:Testing\n",
      "[Parallel(n_jobs=5)]: Done  12 out of  12 | elapsed:    0.2s finished\n",
      "INFO:root:Testing Time : 0.252777099609375\n",
      "Accuracy : [0.7366005458875888, 0.7483006206428956, 0.7586098989934111, 0.7604005493645799, 0.7630256775786235, 0.7672154517480573, 0.7683280888718903, 0.7704142834790773, 0.7707793675353349, 0.7707272126701552, 0.7717007701535091, 0.7712139914118322]\n",
      "INFO:root:Training for n_estimators = 13 and max_depth = 40\n",
      "[Parallel(n_jobs=5)]: Done  13 out of  13 | elapsed:   57.6s finished\n",
      "INFO:root:Training Time : 58.00086498260498\n",
      "INFO:root:Testing\n",
      "[Parallel(n_jobs=5)]: Done  13 out of  13 | elapsed:    0.2s finished\n",
      "INFO:root:Testing Time : 0.25754308700561523\n",
      "Accuracy : [0.7366005458875888, 0.7483006206428956, 0.7586098989934111, 0.7604005493645799, 0.7630256775786235, 0.7672154517480573, 0.7683280888718903, 0.7704142834790773, 0.7707793675353349, 0.7707272126701552, 0.7717007701535091, 0.7712139914118322, 0.771735540063629]\n",
      "INFO:root:Training for n_estimators = 14 and max_depth = 40\n",
      "[Parallel(n_jobs=5)]: Done  14 out of  14 | elapsed:  1.0min finished\n",
      "INFO:root:Training Time : 62.70926094055176\n",
      "INFO:root:Testing\n",
      "[Parallel(n_jobs=5)]: Done  14 out of  14 | elapsed:    0.2s finished\n",
      "INFO:root:Testing Time : 0.266420841217041\n",
      "Accuracy : [0.7366005458875888, 0.7483006206428956, 0.7586098989934111, 0.7604005493645799, 0.7630256775786235, 0.7672154517480573, 0.7683280888718903, 0.7704142834790773, 0.7707793675353349, 0.7707272126701552, 0.7717007701535091, 0.7712139914118322, 0.771735540063629, 0.7722223188053059]\n",
      "INFO:root:Training for n_estimators = 15 and max_depth = 40\n",
      "[Parallel(n_jobs=5)]: Done  15 out of  15 | elapsed:  1.1min finished\n",
      "INFO:root:Training Time : 66.2744951248169\n",
      "INFO:root:Testing\n",
      "[Parallel(n_jobs=5)]: Done  15 out of  15 | elapsed:    0.2s finished\n",
      "INFO:root:Testing Time : 0.26025390625\n",
      "Accuracy : [0.7366005458875888, 0.7483006206428956, 0.7586098989934111, 0.7604005493645799, 0.7630256775786235, 0.7672154517480573, 0.7683280888718903, 0.7704142834790773, 0.7707793675353349, 0.7707272126701552, 0.7717007701535091, 0.7712139914118322, 0.771735540063629, 0.7722223188053059, 0.7727438674571027]\n",
      "INFO:root:Training for n_estimators = 1 and max_depth = 50\n",
      "[Parallel(n_jobs=5)]: Done   1 out of   1 | elapsed:    9.3s finished\n",
      "INFO:root:Training Time : 9.572553157806396\n",
      "INFO:root:Testing\n",
      "[Parallel(n_jobs=1)]: Done   1 out of   1 | elapsed:    0.0s finished\n",
      "INFO:root:Testing Time : 0.04454779624938965\n",
      "Accuracy : [0.748404930373255]\n",
      "INFO:root:Training for n_estimators = 2 and max_depth = 50\n",
      "[Parallel(n_jobs=5)]: Done   2 out of   2 | elapsed:   10.8s remaining:    0.0s\n",
      "[Parallel(n_jobs=5)]: Done   2 out of   2 | elapsed:   10.8s finished\n",
      "INFO:root:Training Time : 10.948132038116455\n",
      "INFO:root:Testing\n",
      "[Parallel(n_jobs=2)]: Done   2 out of   2 | elapsed:    0.0s remaining:    0.0s\n",
      "[Parallel(n_jobs=2)]: Done   2 out of   2 | elapsed:    0.0s finished\n",
      "INFO:root:Testing Time : 0.13154006004333496\n",
      "Accuracy : [0.748404930373255, 0.7567670937570626]\n",
      "INFO:root:Training for n_estimators = 3 and max_depth = 50\n",
      "[Parallel(n_jobs=5)]: Done   3 out of   3 | elapsed:   14.4s finished\n",
      "INFO:root:Training Time : 14.61033821105957\n",
      "INFO:root:Testing\n",
      "[Parallel(n_jobs=3)]: Done   3 out of   3 | elapsed:    0.1s finished\n",
      "INFO:root:Testing Time : 0.12884902954101562\n",
      "Accuracy : [0.748404930373255, 0.7567670937570626, 0.769492880860903]\n",
      "INFO:root:Training for n_estimators = 4 and max_depth = 50\n",
      "[Parallel(n_jobs=5)]: Done   4 out of   4 | elapsed:   18.2s finished\n",
      "INFO:root:Training Time : 18.401227951049805\n",
      "INFO:root:Testing\n",
      "[Parallel(n_jobs=4)]: Done   2 out of   4 | elapsed:    0.0s remaining:    0.0s\n",
      "[Parallel(n_jobs=4)]: Done   4 out of   4 | elapsed:    0.1s finished\n",
      "INFO:root:Testing Time : 0.14361810684204102\n",
      "Accuracy : [0.748404930373255, 0.7567670937570626, 0.769492880860903, 0.7721353940300064]\n",
      "INFO:root:Training for n_estimators = 5 and max_depth = 50\n",
      "[Parallel(n_jobs=5)]: Done   2 out of   5 | elapsed:   22.1s remaining:   33.2s\n",
      "[Parallel(n_jobs=5)]: Done   5 out of   5 | elapsed:   22.2s finished\n",
      "INFO:root:Training Time : 22.322951793670654\n",
      "INFO:root:Testing\n",
      "[Parallel(n_jobs=5)]: Done   2 out of   5 | elapsed:    0.1s remaining:    0.1s\n",
      "[Parallel(n_jobs=5)]: Done   5 out of   5 | elapsed:    0.1s finished\n",
      "INFO:root:Testing Time : 0.13138580322265625\n",
      "Accuracy : [0.748404930373255, 0.7567670937570626, 0.769492880860903, 0.7721353940300064, 0.7760991637836616]\n",
      "INFO:root:Training for n_estimators = 6 and max_depth = 50\n",
      "[Parallel(n_jobs=5)]: Done   4 out of   6 | elapsed:   23.3s remaining:   11.7s\n",
      "[Parallel(n_jobs=5)]: Done   6 out of   6 | elapsed:   30.5s finished\n",
      "INFO:root:Training Time : 30.736881017684937\n",
      "INFO:root:Testing\n",
      "[Parallel(n_jobs=5)]: Done   4 out of   6 | elapsed:    0.1s remaining:    0.0s\n",
      "[Parallel(n_jobs=5)]: Done   6 out of   6 | elapsed:    0.1s finished\n",
      "INFO:root:Testing Time : 0.1350250244140625\n",
      "Accuracy : [0.748404930373255, 0.7567670937570626, 0.769492880860903, 0.7721353940300064, 0.7760991637836616, 0.7783592079414474]\n",
      "INFO:root:Training for n_estimators = 7 and max_depth = 50\n",
      "[Parallel(n_jobs=5)]: Done   7 out of   7 | elapsed:   33.5s finished\n",
      "INFO:root:Training Time : 33.678631067276\n",
      "INFO:root:Testing\n",
      "[Parallel(n_jobs=5)]: Done   7 out of   7 | elapsed:    0.1s finished\n",
      "INFO:root:Testing Time : 0.13071084022521973\n",
      "Accuracy : [0.748404930373255, 0.7567670937570626, 0.769492880860903, 0.7721353940300064, 0.7760991637836616, 0.7783592079414474, 0.7802367830879157]\n",
      "INFO:root:Training for n_estimators = 8 and max_depth = 50\n",
      "[Parallel(n_jobs=5)]: Done   8 out of   8 | elapsed:   36.7s remaining:    0.0s\n",
      "[Parallel(n_jobs=5)]: Done   8 out of   8 | elapsed:   36.7s finished\n",
      "INFO:root:Training Time : 36.94060301780701\n",
      "INFO:root:Testing\n",
      "[Parallel(n_jobs=5)]: Done   8 out of   8 | elapsed:    0.2s remaining:    0.0s\n",
      "[Parallel(n_jobs=5)]: Done   8 out of   8 | elapsed:    0.2s finished\n",
      "INFO:root:Testing Time : 0.329024076461792\n",
      "Accuracy : [0.748404930373255, 0.7567670937570626, 0.769492880860903, 0.7721353940300064, 0.7760991637836616, 0.7783592079414474, 0.7802367830879157, 0.780358477773335]\n",
      "INFO:root:Training for n_estimators = 9 and max_depth = 50\n",
      "[Parallel(n_jobs=5)]: Done   9 out of   9 | elapsed:   42.5s finished\n",
      "INFO:root:Training Time : 42.69424390792847\n",
      "INFO:root:Testing\n",
      "[Parallel(n_jobs=5)]: Done   9 out of   9 | elapsed:    0.1s finished\n",
      "INFO:root:Testing Time : 0.2432708740234375\n",
      "Accuracy : [0.748404930373255, 0.7567670937570626, 0.769492880860903, 0.7721353940300064, 0.7760991637836616, 0.7783592079414474, 0.7802367830879157, 0.780358477773335, 0.7815754246275274]\n",
      "INFO:root:Training for n_estimators = 10 and max_depth = 50\n",
      "[Parallel(n_jobs=5)]: Done  10 out of  10 | elapsed:   44.2s finished\n",
      "INFO:root:Training Time : 44.38383603096008\n",
      "INFO:root:Testing\n",
      "[Parallel(n_jobs=5)]: Done  10 out of  10 | elapsed:    0.1s finished\n",
      "INFO:root:Testing Time : 0.2565610408782959\n",
      "Accuracy : [0.748404930373255, 0.7567670937570626, 0.769492880860903, 0.7721353940300064, 0.7760991637836616, 0.7783592079414474, 0.7802367830879157, 0.780358477773335, 0.7815754246275274, 0.7814189600319883]\n",
      "INFO:root:Training for n_estimators = 11 and max_depth = 50\n",
      "[Parallel(n_jobs=5)]: Done  11 out of  11 | elapsed:   54.2s finished\n",
      "INFO:root:Training Time : 54.501582860946655\n",
      "INFO:root:Testing\n",
      "[Parallel(n_jobs=5)]: Done  11 out of  11 | elapsed:    0.1s finished\n",
      "INFO:root:Testing Time : 0.2583470344543457\n",
      "Accuracy : [0.748404930373255, 0.7567670937570626, 0.769492880860903, 0.7721353940300064, 0.7760991637836616, 0.7783592079414474, 0.7802367830879157, 0.780358477773335, 0.7815754246275274, 0.7814189600319883, 0.7822534378748631]\n",
      "INFO:root:Training for n_estimators = 12 and max_depth = 50\n",
      "[Parallel(n_jobs=5)]: Done  12 out of  12 | elapsed:   55.8s finished\n",
      "INFO:root:Training Time : 56.1318359375\n",
      "INFO:root:Testing\n",
      "[Parallel(n_jobs=5)]: Done  12 out of  12 | elapsed:    0.2s finished\n",
      "INFO:root:Testing Time : 0.255504846572876\n",
      "Accuracy : [0.748404930373255, 0.7567670937570626, 0.769492880860903, 0.7721353940300064, 0.7760991637836616, 0.7783592079414474, 0.7802367830879157, 0.780358477773335, 0.7815754246275274, 0.7814189600319883, 0.7822534378748631, 0.7816101945376471]\n",
      "INFO:root:Training for n_estimators = 13 and max_depth = 50\n",
      "[Parallel(n_jobs=5)]: Done  13 out of  13 | elapsed:  1.1min finished\n",
      "INFO:root:Training Time : 67.7127730846405\n",
      "INFO:root:Testing\n",
      "[Parallel(n_jobs=5)]: Done  13 out of  13 | elapsed:    0.2s finished\n",
      "INFO:root:Testing Time : 0.3483290672302246\n",
      "Accuracy : [0.748404930373255, 0.7567670937570626, 0.769492880860903, 0.7721353940300064, 0.7760991637836616, 0.7783592079414474, 0.7802367830879157, 0.780358477773335, 0.7815754246275274, 0.7814189600319883, 0.7822534378748631, 0.7816101945376471, 0.7819405086837851]\n",
      "INFO:root:Training for n_estimators = 14 and max_depth = 50\n",
      "[Parallel(n_jobs=5)]: Done  14 out of  14 | elapsed:  1.2min finished\n",
      "INFO:root:Training Time : 69.88370490074158\n",
      "INFO:root:Testing\n",
      "[Parallel(n_jobs=5)]: Done  14 out of  14 | elapsed:    0.2s finished\n",
      "INFO:root:Testing Time : 0.25557899475097656\n",
      "Accuracy : [0.748404930373255, 0.7567670937570626, 0.769492880860903, 0.7721353940300064, 0.7760991637836616, 0.7783592079414474, 0.7802367830879157, 0.780358477773335, 0.7815754246275274, 0.7814189600319883, 0.7822534378748631, 0.7816101945376471, 0.7819405086837851, 0.7825489821108812]\n",
      "INFO:root:Training for n_estimators = 15 and max_depth = 50\n",
      "[Parallel(n_jobs=5)]: Done  15 out of  15 | elapsed:  1.2min finished\n",
      "INFO:root:Training Time : 74.7084391117096\n",
      "INFO:root:Testing\n",
      "[Parallel(n_jobs=5)]: Done  15 out of  15 | elapsed:    0.2s finished\n",
      "INFO:root:Testing Time : 0.25269389152526855\n",
      "Accuracy : [0.748404930373255, 0.7567670937570626, 0.769492880860903, 0.7721353940300064, 0.7760991637836616, 0.7783592079414474, 0.7802367830879157, 0.780358477773335, 0.7815754246275274, 0.7814189600319883, 0.7822534378748631, 0.7816101945376471, 0.7819405086837851, 0.7825489821108812, 0.7829488360772587]\n"
     ]
    }
   ],
   "source": [
    "RFC_scores=[]\n",
    "Depth = range(10,51,10)\n",
    "N_estimators = range(1,16)\n",
    "\n",
    "RFC_lib = [[RandomForestClassifier(max_depth=depth,n_estimators=n,\n",
    "                             verbose=1,n_jobs=5, random_state=0,\n",
    "                             max_features=data.shape[1]) for n in N_estimators] for depth in Depth]\n",
    "\n",
    "for RFC in RFC_lib:\n",
    "    score=[]\n",
    "\n",
    "    for clf in RFC:\n",
    "        # Apprentissage\n",
    "        logging.info(\"Training for n_estimators = \" + str(clf.n_estimators) + \" and max_depth = \" + str(clf.max_depth))\n",
    "        start = time.time()\n",
    "        clf.fit(x_train,y_train)\n",
    "        end = time.time()\n",
    "        logging.info('Training Time : ' + str(end - start))\n",
    "\n",
    "        # scoring\n",
    "        logging.info(\"Testing\")\n",
    "        start = time.time()\n",
    "        score0 = clf.score(x_valid,y_valid)\n",
    "        end = time.time()\n",
    "        score.append(score0)\n",
    "        logging.info('Testing Time : ' + str(end-start) + '\\nAccuracy : ' + str(score0))\n",
    "        \n",
    "    RFC_scores.append(score)"
   ]
  },
  {
   "cell_type": "code",
   "execution_count": 39,
   "metadata": {
    "collapsed": false,
    "nbpresent": {
     "id": "9b411976-6c57-491e-9993-da86fb9b78ee"
    }
   },
   "outputs": [
    {
     "data": {
      "image/png": "[encoded data removed]",
      "text/plain": [
       "<Figure size 432x288 with 1 Axes>"
      ]
     },
     "metadata": {},
     "output_type": "display_data"
    }
   ],
   "source": [
    "for depth,scores in zip(Depth,RFC_scores):\n",
    "    plt.scatter(N_estimators,scores,label='max_depth = '+str(depth))\n",
    "    plt.plot(N_estimators,scores)\n",
    "plt.title('Accuracy by n_estimators and max_depth')\n",
    "plt.legend()\n",
    "plt.show()"
   ]
  },
  {
   "cell_type": "markdown",
   "metadata": {
    "nbpresent": {
     "id": "5d49a9cb-3290-4dfa-b275-2434169c0767"
    }
   },
   "source": [
    "### Multi-layer perceptron"
   ]
  },
  {
   "cell_type": "markdown",
   "metadata": {
    "nbpresent": {
     "id": "b580c578-7826-49cd-b11c-ac0bc8f34593"
    }
   },
   "source": [
    "#### With sklearn"
   ]
  },
  {
   "cell_type": "code",
   "execution_count": 84,
   "metadata": {
    "collapsed": false,
    "nbpresent": {
     "id": "c12f9aab-446f-479e-bad6-547b0ce53bac"
    }
   },
   "outputs": [
    {
     "name": "stderr",
     "output_type": "stream",
     "text": [
      "INFO:root:Training for alpha = 0.01\n"
     ]
    },
    {
     "name": "stdout",
     "output_type": "stream",
     "text": [
      "Iteration 1, loss = 0.82531232\n",
      "Iteration 2, loss = 0.77922151\n",
      "Iteration 3, loss = 0.77447581\n",
      "Iteration 4, loss = 0.77257719\n",
      "Iteration 5, loss = 0.77157970\n",
      "Iteration 6, loss = 0.77081831\n",
      "Iteration 7, loss = 0.77034157\n",
      "Iteration 8, loss = 0.76993347\n",
      "Iteration 9, loss = 0.76965324\n",
      "Iteration 10, loss = 0.76941529\n",
      "Iteration 11, loss = 0.76924448\n",
      "Iteration 12, loss = 0.76902801\n",
      "Iteration 13, loss = 0.76889966\n",
      "Iteration 14, loss = 0.76878304\n",
      "Iteration 15, loss = 0.76860754\n",
      "Iteration 16, loss = 0.76841347\n",
      "Iteration 17, loss = 0.76853124\n",
      "Iteration 18, loss = 0.76834739\n"
     ]
    },
    {
     "name": "stderr",
     "output_type": "stream",
     "text": [
      "INFO:root:Training Time : 131.20818185806274\n",
      "INFO:root:Testing\n"
     ]
    },
    {
     "name": "stdout",
     "output_type": "stream",
     "text": [
      "Iteration 19, loss = 0.76838673\n",
      "Training loss did not improve more than tol=0.000100 for two consecutive epochs. Stopping.\n",
      "\n",
      " Matrice de confusion :\n",
      " [[ 9793 10597    19     0     0     1   561]\n",
      " [ 3984 23329   716     4     0     8    52]\n",
      " [    0   398  3112    34     0    10     0]\n",
      " [    0     0   195    59     0     0     0]\n",
      " [   68   766    83     0     0     0     0]\n",
      " [   37   570  1045    20     0    35     0]\n",
      " [  537   296     5     0     0     0  1187]] \n",
      "\n",
      "\n",
      " Rapport :\n",
      "              precision    recall  f1-score   support\n",
      "\n",
      "          1       0.68      0.47      0.55     20971\n",
      "          2       0.65      0.83      0.73     28093\n",
      "          3       0.60      0.88      0.71      3554\n",
      "          4       0.50      0.23      0.32       254\n",
      "          5       0.00      0.00      0.00       917\n",
      "          6       0.65      0.02      0.04      1707\n",
      "          7       0.66      0.59      0.62      2025\n",
      "\n",
      "avg / total       0.65      0.65      0.63     57521\n",
      "\n"
     ]
    },
    {
     "name": "stderr",
     "output_type": "stream",
     "text": [
      "/Users/kevinzagalo/.local/lib/python3.5/site-packages/sklearn/metrics/classification.py:1113: UndefinedMetricWarning:\n",
      "\n",
      "Precision and F-score are ill-defined and being set to 0.0 in labels with no predicted samples.\n",
      "\n",
      "INFO:root:Testing Time : 0.673469066619873\n",
      " Accuracy : 0.6521965890718172\n"
     ]
    }
   ],
   "source": [
    "Alpha = [.01]\n",
    "\n",
    "# Collection de classifier en fonction du parametre n_estimators\n",
    "MLP=[MLPClassifier(hidden_layer_sizes=[112,56,28,14,7],alpha=a,activation='tanh',verbose=1,random_state=0) for a in Alpha]\n",
    "                       \n",
    "MLP_score=[]\n",
    "\n",
    "for clf in MLP:\n",
    "\n",
    "    # Apprentissage\n",
    "    logging.info(\"Training for alpha = \" + str(clf.alpha))\n",
    "    start = time.time()\n",
    "    clf.fit(x_train,y_train)\n",
    "    end = time.time()\n",
    "    logging.info('Training Time : ' + str(end - start))\n",
    "\n",
    "    # Test\n",
    "    logging.info(\"Testing\")\n",
    "    score,test_time = summarize(clf,x_valid,y_valid)\n",
    "    MLP_score.append(score)\n",
    "    logging.info('Testing Time : ' + str(test_time) + '\\n Accuracy : ' + str(score))"
   ]
  },
  {
   "cell_type": "code",
   "execution_count": 74,
   "metadata": {
    "collapsed": false,
    "nbpresent": {
     "id": "f375315b-a5e2-4578-80f8-2adef78fb28a"
    }
   },
   "outputs": [
    {
     "data": {
      "text/plain": [
       "0.8452536284092818"
      ]
     },
     "execution_count": 74,
     "metadata": {},
     "output_type": "execute_result"
    }
   ],
   "source": [
    "mlp=MLP[0]\n",
    "mlp.loss_"
   ]
  },
  {
   "cell_type": "markdown",
   "metadata": {
    "nbpresent": {
     "id": "f69f2573-9d39-4919-b3a7-67917e2004ff"
    }
   },
   "source": [
    "### With keras"
   ]
  },
  {
   "cell_type": "code",
   "execution_count": 65,
   "metadata": {
    "collapsed": false,
    "nbpresent": {
     "id": "88b7e4a7-c27d-4f35-893b-6f415ded1bb6"
    }
   },
   "outputs": [],
   "source": [
    "from keras.models import Sequential\n",
    "from keras.layers import Dense\n",
    "from keras.wrappers.scikit_learn import KerasClassifier\n",
    "from keras.utils import np_utils\n",
    "from sklearn.model_selection import cross_val_score, KFold, StratifiedKFold\n",
    "from sklearn.preprocessing import LabelEncoder\n",
    "from sklearn.pipeline import Pipeline"
   ]
  },
  {
   "cell_type": "code",
   "execution_count": 66,
   "metadata": {
    "collapsed": false,
    "nbpresent": {
     "id": "4b9ae9c0-72fa-4b4b-b4f1-3ce4b53058cb"
    }
   },
   "outputs": [],
   "source": [
    "# define baseline model\n",
    "def baseline_model():\n",
    "    # create model\n",
    "    model = Sequential()\n",
    "    model.add(Dense(14, input_dim=x_train.shape[1], activation='relu'))\n",
    "    model.add(Dense(max(labels), activation='softmax'))\n",
    "\n",
    "    # Compile model\n",
    "    model.compile(loss='categorical_crossentropy', optimizer='adam', metrics=['accuracy'])\n",
    "    \n",
    "    return model"
   ]
  },
  {
   "cell_type": "code",
   "execution_count": 67,
   "metadata": {
    "collapsed": true,
    "nbpresent": {
     "id": "185fcd86-665e-4191-ab53-6341c676c698"
    }
   },
   "outputs": [],
   "source": [
    "# encode class values as integers\n",
    "encoder = LabelEncoder()\n",
    "encoder.fit(y_train[:50000])\n",
    "encoded_Y = encoder.transform(y_train[:50000])"
   ]
  },
  {
   "cell_type": "code",
   "execution_count": 68,
   "metadata": {
    "collapsed": false,
    "nbpresent": {
     "id": "d349d4f8-1bef-45bf-8974-eaf2909e7690"
    }
   },
   "outputs": [
    {
     "name": "stdout",
     "output_type": "stream",
     "text": [
      "Results: 64.86% (0.52%)\n"
     ]
    }
   ],
   "source": [
    "# evaluate model with standardized dataset\n",
    "estimator = KerasClassifier(build_fn=baseline_model, epochs=10, batch_size=5, verbose=0)\n",
    "kfold = StratifiedKFold(n_splits=10, shuffle=True, random_state=0)\n",
    "results = cross_val_score(estimator, x_train[:50000], encoded_Y, cv=kfold)\n",
    "print(\"Results: %.2f%% (%.2f%%)\" % (results.mean()*100, results.std()*100))"
   ]
  },
  {
   "cell_type": "code",
   "execution_count": null,
   "metadata": {
    "collapsed": false,
    "nbpresent": {
     "id": "a8aba0ff-a84f-40b7-a702-b1abda864680"
    }
   },
   "outputs": [],
   "source": []
  },
  {
   "cell_type": "code",
   "execution_count": null,
   "metadata": {
    "collapsed": true,
    "nbpresent": {
     "id": "a56ae8e5-c2a1-4325-b4df-dd2edc3046bc"
    }
   },
   "outputs": [],
   "source": []
  }
 ],
 "metadata": {
  "anaconda-cloud": {},
  "kernelspec": {
   "display_name": "Python [default]",
   "language": "python",
   "name": "python3"
  },
  "language_info": {
   "codemirror_mode": {
    "name": "ipython",
    "version": 3
   },
   "file_extension": ".py",
   "mimetype": "text/x-python",
   "name": "python",
   "nbconvert_exporter": "python",
   "pygments_lexer": "ipython3",
   "version": "3.5.6"
  },
  "nbpresent": {
   "slides": {
    "0770d637-e8c1-472c-af5d-add4a6f284b6": {
     "id": "0770d637-e8c1-472c-af5d-add4a6f284b6",
     "prev": "822996cd-90e1-45d0-8343-8b7fd2585c7d",
     "regions": {
      "4f08223d-acb8-4116-bff6-aafa6d122309": {
       "attrs": {
        "height": 0.8,
        "width": 0.8,
        "x": 0.1,
        "y": 0.1
       },
       "content": {
        "cell": "e7e428bc-1bc4-4be8-8a0c-354a35f0ef24",
        "part": "whole"
       },
       "id": "4f08223d-acb8-4116-bff6-aafa6d122309"
      }
     }
    },
    "14e61d4e-c341-44d3-b09f-fddacd55ebcc": {
     "id": "14e61d4e-c341-44d3-b09f-fddacd55ebcc",
     "prev": "50e8fd77-71ca-4969-af94-27684b39075b",
     "regions": {
      "795a122d-7f1a-42c5-be41-6496b2f52b86": {
       "attrs": {
        "height": 0.8,
        "width": 0.8,
        "x": 0.1,
        "y": 0.1
       },
       "content": {
        "cell": "014c9f8c-3add-4557-8f14-a48ece2bf5df",
        "part": "whole"
       },
       "id": "795a122d-7f1a-42c5-be41-6496b2f52b86"
      }
     }
    },
    "18e29038-f802-45cb-8743-4ebde143bcfd": {
     "id": "18e29038-f802-45cb-8743-4ebde143bcfd",
     "prev": "19658081-e9b6-44b1-821d-83db1157aa2e",
     "regions": {
      "c89e965f-e9d1-418a-82a7-1848c485c825": {
       "attrs": {
        "height": 0.8,
        "width": 0.8,
        "x": 0.1,
        "y": 0.1
       },
       "content": {
        "cell": "510335cd-9646-47cd-a826-a0bd5c71dfe4",
        "part": "whole"
       },
       "id": "c89e965f-e9d1-418a-82a7-1848c485c825"
      }
     }
    },
    "19658081-e9b6-44b1-821d-83db1157aa2e": {
     "id": "19658081-e9b6-44b1-821d-83db1157aa2e",
     "prev": "5b7b74e9-a713-4bf8-9b53-faebe6bbd965",
     "regions": {
      "52910d2f-2a63-4ca9-ad5d-e0d598091a89": {
       "attrs": {
        "height": 0.8,
        "width": 0.8,
        "x": 0.1,
        "y": 0.1
       },
       "content": {
        "cell": "0f957556-b03f-4fe7-8713-23f086414d38",
        "part": "whole"
       },
       "id": "52910d2f-2a63-4ca9-ad5d-e0d598091a89"
      }
     }
    },
    "1d9a875e-d009-48cd-8448-087ab92cc409": {
     "id": "1d9a875e-d009-48cd-8448-087ab92cc409",
     "prev": "f63d84f6-263c-4852-956a-19ef1d963774",
     "regions": {
      "7b2e9829-a10f-4e54-ad59-b0ce1a1e4e53": {
       "attrs": {
        "height": 0.8,
        "width": 0.8,
        "x": 0.1,
        "y": 0.1
       },
       "content": {
        "cell": "4b439da3-e77d-423c-98d9-9cf23b117629",
        "part": "whole"
       },
       "id": "7b2e9829-a10f-4e54-ad59-b0ce1a1e4e53"
      }
     }
    },
    "236ca5c3-344c-4a81-9afb-4f69f215b617": {
     "id": "236ca5c3-344c-4a81-9afb-4f69f215b617",
     "prev": "9fca293c-fb97-4535-abdb-c0dc7a59886e",
     "regions": {
      "ce7982d5-3dec-4dac-8f2a-13a7b5801dd2": {
       "attrs": {
        "height": 0.8,
        "width": 0.8,
        "x": 0.1,
        "y": 0.1
       },
       "content": {
        "cell": "6c33a9c9-e26c-4006-9c96-0fc4b9a5387a",
        "part": "whole"
       },
       "id": "ce7982d5-3dec-4dac-8f2a-13a7b5801dd2"
      }
     }
    },
    "2549db01-167f-48df-995f-06c8976dd0d7": {
     "id": "2549db01-167f-48df-995f-06c8976dd0d7",
     "prev": "f91f0bac-1e74-4c5a-ae74-af0a2e690f76",
     "regions": {
      "a7480606-09d2-41fc-8e10-19e4d788faf6": {
       "attrs": {
        "height": 0.8,
        "width": 0.8,
        "x": 0.1,
        "y": 0.1
       },
       "content": {
        "cell": "6b854055-854b-4135-b73d-4349a3979903",
        "part": "whole"
       },
       "id": "a7480606-09d2-41fc-8e10-19e4d788faf6"
      }
     }
    },
    "287d8b26-c175-4d67-8586-668b9b8cade6": {
     "id": "287d8b26-c175-4d67-8586-668b9b8cade6",
     "prev": "2549db01-167f-48df-995f-06c8976dd0d7",
     "regions": {
      "85c89645-f2fa-4b89-90f3-e4de5f2a4021": {
       "attrs": {
        "height": 0.8,
        "width": 0.8,
        "x": 0.1,
        "y": 0.1
       },
       "content": {
        "cell": "164bbe0c-b86f-4dec-97d1-b3a21b378dc0",
        "part": "whole"
       },
       "id": "85c89645-f2fa-4b89-90f3-e4de5f2a4021"
      }
     }
    },
    "306aaf0c-4817-4d61-bb6f-aeeffe82153f": {
     "id": "306aaf0c-4817-4d61-bb6f-aeeffe82153f",
     "prev": "861c4ac2-270f-4274-a00b-287f770d88f1",
     "regions": {
      "9b151ce1-7133-4b18-b487-9d676bc085cc": {
       "attrs": {
        "height": 0.8,
        "width": 0.8,
        "x": 0.1,
        "y": 0.1
       },
       "content": {
        "cell": "e485508c-1682-4d22-9186-a82d4f78b16d",
        "part": "whole"
       },
       "id": "9b151ce1-7133-4b18-b487-9d676bc085cc"
      }
     }
    },
    "317388aa-56b9-4bee-ade4-5b11f90e8ed9": {
     "id": "317388aa-56b9-4bee-ade4-5b11f90e8ed9",
     "prev": "5f713795-9eb0-45ff-9543-22612dbae3f0",
     "regions": {
      "4bedc34a-7704-4882-94dd-e8dab844d74f": {
       "attrs": {
        "height": 0.8,
        "width": 0.8,
        "x": 0.1,
        "y": 0.1
       },
       "content": {
        "cell": "74ae5c86-6561-4f5d-bd36-90e025e3732e",
        "part": "whole"
       },
       "id": "4bedc34a-7704-4882-94dd-e8dab844d74f"
      }
     }
    },
    "3952bf1a-b25e-4ae7-8fad-0262d57ef607": {
     "id": "3952bf1a-b25e-4ae7-8fad-0262d57ef607",
     "prev": "5b63c8c4-79d9-4edf-8340-65e6f4694e57",
     "regions": {
      "8dbf9efc-ac3f-4475-bc63-f75346d6d64f": {
       "attrs": {
        "height": 0.8,
        "width": 0.8,
        "x": 0.1,
        "y": 0.1
       },
       "content": {
        "cell": "991b1ee9-5af0-42a1-b543-dc406d893d71",
        "part": "whole"
       },
       "id": "8dbf9efc-ac3f-4475-bc63-f75346d6d64f"
      }
     }
    },
    "3c744aae-7634-4c3c-812e-2d87cc62ed56": {
     "id": "3c744aae-7634-4c3c-812e-2d87cc62ed56",
     "prev": "8b295513-f50e-4437-a53d-852130392252",
     "regions": {
      "fe9f4645-1c84-4a7e-ae85-7051f33195ce": {
       "attrs": {
        "height": 0.8,
        "width": 0.8,
        "x": 0.1,
        "y": 0.1
       },
       "content": {
        "cell": "35e8d2d6-8937-46bb-bc05-b557346e4a16",
        "part": "whole"
       },
       "id": "fe9f4645-1c84-4a7e-ae85-7051f33195ce"
      }
     }
    },
    "3de58a1e-98ea-40a4-83cb-7f95e28fa098": {
     "id": "3de58a1e-98ea-40a4-83cb-7f95e28fa098",
     "prev": "afc16d56-a4ab-4a3b-bf02-59c23caf0098",
     "regions": {
      "43901bb4-4d74-432e-b691-daf03039dd8e": {
       "attrs": {
        "height": 0.8,
        "width": 0.8,
        "x": 0.1,
        "y": 0.1
       },
       "content": {
        "cell": "7f85e021-b8c4-43b7-bad4-b257e48a50f7",
        "part": "whole"
       },
       "id": "43901bb4-4d74-432e-b691-daf03039dd8e"
      }
     }
    },
    "4600b108-c1e6-4159-98c3-32e830df3189": {
     "id": "4600b108-c1e6-4159-98c3-32e830df3189",
     "prev": "468049ee-9def-4de4-a1c0-d2e42db6d9b3",
     "regions": {
      "51e4bff3-c079-4ceb-b467-6bdaa5d4355d": {
       "attrs": {
        "height": 0.8,
        "width": 0.8,
        "x": 0.1,
        "y": 0.1
       },
       "content": {
        "cell": "dbbc0a3e-a2e1-4141-8e41-a0b22a4a06be",
        "part": "whole"
       },
       "id": "51e4bff3-c079-4ceb-b467-6bdaa5d4355d"
      }
     }
    },
    "468049ee-9def-4de4-a1c0-d2e42db6d9b3": {
     "id": "468049ee-9def-4de4-a1c0-d2e42db6d9b3",
     "prev": "98cc32da-a643-44ab-8fa9-bb045c7bcba6",
     "regions": {
      "84dfacd0-8c85-4ed0-8fa1-98128d93fa49": {
       "attrs": {
        "height": 0.8,
        "width": 0.8,
        "x": 0.1,
        "y": 0.1
       },
       "content": {
        "cell": "46b0f545-6ebd-4390-aa74-d604e68c6e2c",
        "part": "whole"
       },
       "id": "84dfacd0-8c85-4ed0-8fa1-98128d93fa49"
      }
     }
    },
    "4d8b578d-56eb-4f63-b2d7-aeb34260d289": {
     "id": "4d8b578d-56eb-4f63-b2d7-aeb34260d289",
     "prev": "51673bae-f72f-4be3-8464-9d546277588c",
     "regions": {
      "f76ffea2-bb5c-4b89-94cd-ec5c5eff5249": {
       "attrs": {
        "height": 0.8,
        "width": 0.8,
        "x": 0.1,
        "y": 0.1
       },
       "content": {
        "cell": "492240e7-b62b-44d6-99b0-906249176d55",
        "part": "whole"
       },
       "id": "f76ffea2-bb5c-4b89-94cd-ec5c5eff5249"
      }
     }
    },
    "5045d891-7cd4-4198-9d0f-037ad0bc1834": {
     "id": "5045d891-7cd4-4198-9d0f-037ad0bc1834",
     "prev": "3c744aae-7634-4c3c-812e-2d87cc62ed56",
     "regions": {
      "63361108-43e6-43f7-af3e-6b96f13920ed": {
       "attrs": {
        "height": 0.8,
        "width": 0.8,
        "x": 0.1,
        "y": 0.1
       },
       "content": {
        "cell": "809546a9-843c-4cf4-baae-dd34524b61b5",
        "part": "whole"
       },
       "id": "63361108-43e6-43f7-af3e-6b96f13920ed"
      }
     }
    },
    "50e8fd77-71ca-4969-af94-27684b39075b": {
     "id": "50e8fd77-71ca-4969-af94-27684b39075b",
     "prev": "3952bf1a-b25e-4ae7-8fad-0262d57ef607",
     "regions": {
      "0243dcfb-a4c2-476a-8d0f-85a323476c3c": {
       "attrs": {
        "height": 0.8,
        "width": 0.8,
        "x": 0.1,
        "y": 0.1
       },
       "content": {
        "cell": "182461f9-3938-4187-b284-3bd6cfc544f6",
        "part": "whole"
       },
       "id": "0243dcfb-a4c2-476a-8d0f-85a323476c3c"
      }
     }
    },
    "515f0579-d9e9-4f53-8888-29f76e784704": {
     "id": "515f0579-d9e9-4f53-8888-29f76e784704",
     "prev": "a8acd4a4-0962-47f0-a064-f0c88fd96cac",
     "regions": {
      "3c8687d3-fde0-43fe-8c68-f3bf6274208c": {
       "attrs": {
        "height": 0.8,
        "width": 0.8,
        "x": 0.1,
        "y": 0.1
       },
       "content": {
        "cell": "88b7e4a7-c27d-4f35-893b-6f415ded1bb6",
        "part": "whole"
       },
       "id": "3c8687d3-fde0-43fe-8c68-f3bf6274208c"
      }
     }
    },
    "51673bae-f72f-4be3-8464-9d546277588c": {
     "id": "51673bae-f72f-4be3-8464-9d546277588c",
     "prev": "ae2fac7d-4a7f-4e90-9c66-cbf139d2deb0",
     "regions": {
      "70938bfc-4124-43f7-8691-d5649768db93": {
       "attrs": {
        "height": 0.8,
        "width": 0.8,
        "x": 0.1,
        "y": 0.1
       },
       "content": {
        "cell": "05821bfd-4ff1-4976-8c22-4fa10cb2d017",
        "part": "whole"
       },
       "id": "70938bfc-4124-43f7-8691-d5649768db93"
      }
     }
    },
    "57d561b3-ad60-467b-9f0a-bcfc7548d0b1": {
     "id": "57d561b3-ad60-467b-9f0a-bcfc7548d0b1",
     "prev": "4600b108-c1e6-4159-98c3-32e830df3189",
     "regions": {
      "eaafac30-6bb8-4489-b707-c3d4d671213e": {
       "attrs": {
        "height": 0.8,
        "width": 0.8,
        "x": 0.1,
        "y": 0.1
       },
       "content": {
        "cell": "20022511-20e5-46d8-a6c2-caa52fc1a949",
        "part": "whole"
       },
       "id": "eaafac30-6bb8-4489-b707-c3d4d671213e"
      }
     }
    },
    "5b63c8c4-79d9-4edf-8340-65e6f4694e57": {
     "id": "5b63c8c4-79d9-4edf-8340-65e6f4694e57",
     "prev": "287d8b26-c175-4d67-8586-668b9b8cade6",
     "regions": {
      "b79082e9-5660-49b7-9df3-4297ca6fe4b2": {
       "attrs": {
        "height": 0.8,
        "width": 0.8,
        "x": 0.1,
        "y": 0.1
       },
       "content": {
        "cell": "9875c3a7-097b-4842-ae11-e4f4c09255f1",
        "part": "whole"
       },
       "id": "b79082e9-5660-49b7-9df3-4297ca6fe4b2"
      }
     }
    },
    "5b7b74e9-a713-4bf8-9b53-faebe6bbd965": {
     "id": "5b7b74e9-a713-4bf8-9b53-faebe6bbd965",
     "prev": "82cea278-2a92-49d9-b47b-b9afc8d96372",
     "regions": {
      "bccdc052-c54d-4c45-a41b-f1ddfe65f3f6": {
       "attrs": {
        "height": 0.8,
        "width": 0.8,
        "x": 0.1,
        "y": 0.1
       },
       "content": {
        "cell": "2a4d650a-5e58-4c3e-99e3-3acda115566b",
        "part": "whole"
       },
       "id": "bccdc052-c54d-4c45-a41b-f1ddfe65f3f6"
      }
     }
    },
    "5ee492bb-f3fc-4b39-b039-5e1613685456": {
     "id": "5ee492bb-f3fc-4b39-b039-5e1613685456",
     "prev": "affe08ef-6125-4b6a-b99b-fec13d60db12",
     "regions": {
      "282242f2-5710-4e92-83ed-185f62b787cf": {
       "attrs": {
        "height": 0.8,
        "width": 0.8,
        "x": 0.1,
        "y": 0.1
       },
       "content": {
        "cell": "185fcd86-665e-4191-ab53-6341c676c698",
        "part": "whole"
       },
       "id": "282242f2-5710-4e92-83ed-185f62b787cf"
      }
     }
    },
    "5f713795-9eb0-45ff-9543-22612dbae3f0": {
     "id": "5f713795-9eb0-45ff-9543-22612dbae3f0",
     "prev": "306aaf0c-4817-4d61-bb6f-aeeffe82153f",
     "regions": {
      "203eff7a-e6ca-448f-9d2c-c2efff643616": {
       "attrs": {
        "height": 0.8,
        "width": 0.8,
        "x": 0.1,
        "y": 0.1
       },
       "content": {
        "cell": "9d07a0eb-4bba-4fdc-80a0-c0622188eb80",
        "part": "whole"
       },
       "id": "203eff7a-e6ca-448f-9d2c-c2efff643616"
      }
     }
    },
    "64070e57-1f72-441a-9a99-6afd1dd51843": {
     "id": "64070e57-1f72-441a-9a99-6afd1dd51843",
     "prev": "e724268d-3a03-4dd6-b3a8-e4354e4ff727",
     "regions": {
      "451c5dcf-ce37-4959-b4a4-6f229bd1907d": {
       "attrs": {
        "height": 0.8,
        "width": 0.8,
        "x": 0.1,
        "y": 0.1
       },
       "content": {
        "cell": "559f8392-d039-4172-83e0-e142b1c4df4a",
        "part": "whole"
       },
       "id": "451c5dcf-ce37-4959-b4a4-6f229bd1907d"
      }
     }
    },
    "65a27ef8-af50-4789-87d5-435759626840": {
     "id": "65a27ef8-af50-4789-87d5-435759626840",
     "prev": "6c5d5926-4d46-4d6f-84be-334aed8a8eb4",
     "regions": {
      "ba843c32-59ee-450d-8ad7-2fe786ab5eed": {
       "attrs": {
        "height": 0.8,
        "width": 0.8,
        "x": 0.1,
        "y": 0.1
       },
       "content": {
        "cell": "440bd24f-7dd2-4fed-a449-6eb4763f4b58",
        "part": "whole"
       },
       "id": "ba843c32-59ee-450d-8ad7-2fe786ab5eed"
      }
     }
    },
    "66d52aba-bcf9-4edc-8edf-605f8ab5ea96": {
     "id": "66d52aba-bcf9-4edc-8edf-605f8ab5ea96",
     "prev": "8de5550d-3d6c-4f03-ab85-63bc8b288413",
     "regions": {
      "7288e2b2-7bf9-4cd4-bcbb-80f6c966165a": {
       "attrs": {
        "height": 0.8,
        "width": 0.8,
        "x": 0.1,
        "y": 0.1
       },
       "content": {
        "cell": "ab844092-a8b7-4a96-bba6-2b888d80f02c",
        "part": "whole"
       },
       "id": "7288e2b2-7bf9-4cd4-bcbb-80f6c966165a"
      }
     }
    },
    "6c5d5926-4d46-4d6f-84be-334aed8a8eb4": {
     "id": "6c5d5926-4d46-4d6f-84be-334aed8a8eb4",
     "prev": "5045d891-7cd4-4198-9d0f-037ad0bc1834",
     "regions": {
      "c9f08ea2-7ee5-4f3b-9817-9a71fb1d1603": {
       "attrs": {
        "height": 0.8,
        "width": 0.8,
        "x": 0.1,
        "y": 0.1
       },
       "content": {
        "cell": "fa1996e1-385a-43ce-8444-6854e9507d91",
        "part": "whole"
       },
       "id": "c9f08ea2-7ee5-4f3b-9817-9a71fb1d1603"
      }
     }
    },
    "6eca1cc3-b4f2-4bb6-9988-dc0ad9ed2c15": {
     "id": "6eca1cc3-b4f2-4bb6-9988-dc0ad9ed2c15",
     "prev": "14e61d4e-c341-44d3-b09f-fddacd55ebcc",
     "regions": {
      "a68cd43d-1d88-408f-b286-c547a4e22327": {
       "attrs": {
        "height": 0.8,
        "width": 0.8,
        "x": 0.1,
        "y": 0.1
       },
       "content": {
        "cell": "4a49b226-44c7-4f86-8f83-9b5e6f1a4cbe",
        "part": "whole"
       },
       "id": "a68cd43d-1d88-408f-b286-c547a4e22327"
      }
     }
    },
    "7cbad818-e82b-4e46-8f22-ccc255a5da1b": {
     "id": "7cbad818-e82b-4e46-8f22-ccc255a5da1b",
     "prev": "e245ec64-34b3-4031-b9b7-120922a83c58",
     "regions": {
      "0132b20a-02a9-4d67-835d-f5444d099f66": {
       "attrs": {
        "height": 0.8,
        "width": 0.8,
        "x": 0.1,
        "y": 0.1
       },
       "content": {
        "cell": "0d3fb2f7-326e-4dcb-a111-6dc08d6f502f",
        "part": "whole"
       },
       "id": "0132b20a-02a9-4d67-835d-f5444d099f66"
      }
     }
    },
    "7ff4a7c8-30ce-49d4-a620-8949ebc1ee49": {
     "id": "7ff4a7c8-30ce-49d4-a620-8949ebc1ee49",
     "prev": "4d8b578d-56eb-4f63-b2d7-aeb34260d289",
     "regions": {
      "c3cdb178-7a2c-458f-a0da-4eb53d574a4e": {
       "attrs": {
        "height": 0.8,
        "width": 0.8,
        "x": 0.1,
        "y": 0.1
       },
       "content": {
        "cell": "d59b2102-fe89-4bb4-91a8-0ba56fc89934",
        "part": "whole"
       },
       "id": "c3cdb178-7a2c-458f-a0da-4eb53d574a4e"
      }
     }
    },
    "822996cd-90e1-45d0-8343-8b7fd2585c7d": {
     "id": "822996cd-90e1-45d0-8343-8b7fd2585c7d",
     "prev": "e35b720b-3d17-4655-ad7e-8fca019f6a01",
     "regions": {
      "3bc668e1-4b2a-42c7-ad57-179cd8d9fe77": {
       "attrs": {
        "height": 0.8,
        "width": 0.8,
        "x": 0.1,
        "y": 0.1
       },
       "content": {
        "cell": "af23b3ba-9887-45d9-8a80-cbebef9e7d81",
        "part": "whole"
       },
       "id": "3bc668e1-4b2a-42c7-ad57-179cd8d9fe77"
      }
     }
    },
    "82cea278-2a92-49d9-b47b-b9afc8d96372": {
     "id": "82cea278-2a92-49d9-b47b-b9afc8d96372",
     "prev": "7cbad818-e82b-4e46-8f22-ccc255a5da1b",
     "regions": {
      "37f405c0-f5d7-4899-866f-4b4ec29e4798": {
       "attrs": {
        "height": 0.8,
        "width": 0.8,
        "x": 0.1,
        "y": 0.1
       },
       "content": {
        "cell": "9d6d1afb-d22b-4f2c-8dd5-7691b074466f",
        "part": "whole"
       },
       "id": "37f405c0-f5d7-4899-866f-4b4ec29e4798"
      }
     }
    },
    "861c4ac2-270f-4274-a00b-287f770d88f1": {
     "id": "861c4ac2-270f-4274-a00b-287f770d88f1",
     "prev": null,
     "regions": {
      "d5fb1003-7d4d-47d3-8363-d4df7372fb1c": {
       "attrs": {
        "height": 0.8,
        "width": 0.8,
        "x": 0.1,
        "y": 0.1
       },
       "content": {
        "cell": "11e63810-66a1-42f7-90a4-7686228ac70a",
        "part": "whole"
       },
       "id": "d5fb1003-7d4d-47d3-8363-d4df7372fb1c"
      }
     }
    },
    "8b295513-f50e-4437-a53d-852130392252": {
     "id": "8b295513-f50e-4437-a53d-852130392252",
     "prev": "3de58a1e-98ea-40a4-83cb-7f95e28fa098",
     "regions": {
      "41faaeff-d9c6-4fb3-b12e-49d55f0092ac": {
       "attrs": {
        "height": 0.8,
        "width": 0.8,
        "x": 0.1,
        "y": 0.1
       },
       "content": {
        "cell": "0c5e276c-77a2-42a4-af2e-7100a6ca9927",
        "part": "whole"
       },
       "id": "41faaeff-d9c6-4fb3-b12e-49d55f0092ac"
      }
     }
    },
    "8c847fd4-2c71-4b7f-bf84-deaf37a6922e": {
     "id": "8c847fd4-2c71-4b7f-bf84-deaf37a6922e",
     "prev": "1d9a875e-d009-48cd-8448-087ab92cc409",
     "regions": {
      "2491d8a9-3634-4891-86f1-d34e3313e1ed": {
       "attrs": {
        "height": 0.8,
        "width": 0.8,
        "x": 0.1,
        "y": 0.1
       },
       "content": {
        "cell": "c96051c5-a541-4fec-b673-7df9b3ca279e",
        "part": "whole"
       },
       "id": "2491d8a9-3634-4891-86f1-d34e3313e1ed"
      }
     }
    },
    "8de5550d-3d6c-4f03-ab85-63bc8b288413": {
     "id": "8de5550d-3d6c-4f03-ab85-63bc8b288413",
     "prev": "65a27ef8-af50-4789-87d5-435759626840",
     "regions": {
      "41dc223e-8759-42ef-8212-d93f30ba4743": {
       "attrs": {
        "height": 0.8,
        "width": 0.8,
        "x": 0.1,
        "y": 0.1
       },
       "content": {
        "cell": "87894f59-5c43-443c-93a5-4da9e5e2624b",
        "part": "whole"
       },
       "id": "41dc223e-8759-42ef-8212-d93f30ba4743"
      }
     }
    },
    "94a828b9-df30-4a6f-8b3b-55031542b9e7": {
     "id": "94a828b9-df30-4a6f-8b3b-55031542b9e7",
     "prev": "8c847fd4-2c71-4b7f-bf84-deaf37a6922e",
     "regions": {
      "63477f95-1957-4906-8363-a5caca86a0f3": {
       "attrs": {
        "height": 0.8,
        "width": 0.8,
        "x": 0.1,
        "y": 0.1
       },
       "content": {
        "cell": "5ac70b47-6434-4523-b788-f435b89870fa",
        "part": "whole"
       },
       "id": "63477f95-1957-4906-8363-a5caca86a0f3"
      }
     }
    },
    "98cc32da-a643-44ab-8fa9-bb045c7bcba6": {
     "id": "98cc32da-a643-44ab-8fa9-bb045c7bcba6",
     "prev": "b62056c2-d971-48bb-8582-c28f4712e452",
     "regions": {
      "ff0bb3dc-c4cf-48e7-9653-55810f5fa89a": {
       "attrs": {
        "height": 0.8,
        "width": 0.8,
        "x": 0.1,
        "y": 0.1
       },
       "content": {
        "cell": "6930e240-353a-41d4-9a78-0c4035c33292",
        "part": "whole"
       },
       "id": "ff0bb3dc-c4cf-48e7-9653-55810f5fa89a"
      }
     }
    },
    "9fca293c-fb97-4535-abdb-c0dc7a59886e": {
     "id": "9fca293c-fb97-4535-abdb-c0dc7a59886e",
     "prev": "c4d2c20d-68a1-452e-9c08-f258635b3ef1",
     "regions": {
      "e1d1fbe5-aee7-40cc-8264-732ebe30f12b": {
       "attrs": {
        "height": 0.8,
        "width": 0.8,
        "x": 0.1,
        "y": 0.1
       },
       "content": {
        "cell": "bcec43c9-e676-4cdb-883d-a9853ef24fcb",
        "part": "whole"
       },
       "id": "e1d1fbe5-aee7-40cc-8264-732ebe30f12b"
      }
     }
    },
    "a78df9f2-eee3-4466-81b8-570318674e16": {
     "id": "a78df9f2-eee3-4466-81b8-570318674e16",
     "prev": "236ca5c3-344c-4a81-9afb-4f69f215b617",
     "regions": {
      "26dff031-072a-4674-8d10-da1698263e38": {
       "attrs": {
        "height": 0.8,
        "width": 0.8,
        "x": 0.1,
        "y": 0.1
       },
       "content": {
        "cell": "e8728c69-4b58-43f9-81be-42d7d8626c75",
        "part": "whole"
       },
       "id": "26dff031-072a-4674-8d10-da1698263e38"
      }
     }
    },
    "a8acd4a4-0962-47f0-a064-f0c88fd96cac": {
     "id": "a8acd4a4-0962-47f0-a064-f0c88fd96cac",
     "prev": "cb735c23-21de-4199-a160-3ae8f76e1788",
     "regions": {
      "4e461ca3-ae43-43d9-bd56-e7e0acda64af": {
       "attrs": {
        "height": 0.8,
        "width": 0.8,
        "x": 0.1,
        "y": 0.1
       },
       "content": {
        "cell": "f69f2573-9d39-4919-b3a7-67917e2004ff",
        "part": "whole"
       },
       "id": "4e461ca3-ae43-43d9-bd56-e7e0acda64af"
      }
     }
    },
    "ad294c26-2b99-4df3-ac28-53c0188f2667": {
     "id": "ad294c26-2b99-4df3-ac28-53c0188f2667",
     "prev": "b7c9bdc1-1ec1-47b5-9d18-68803f723553",
     "regions": {
      "51439890-07bf-48c0-8598-2e706916cd97": {
       "attrs": {
        "height": 0.8,
        "width": 0.8,
        "x": 0.1,
        "y": 0.1
       },
       "content": {
        "cell": "c12f9aab-446f-479e-bad6-547b0ce53bac",
        "part": "whole"
       },
       "id": "51439890-07bf-48c0-8598-2e706916cd97"
      }
     }
    },
    "ae2fac7d-4a7f-4e90-9c66-cbf139d2deb0": {
     "id": "ae2fac7d-4a7f-4e90-9c66-cbf139d2deb0",
     "prev": "ee570b41-86de-4b47-b87b-5207b020f657",
     "regions": {
      "b0aa1103-25b4-4feb-8caf-771ff08c3198": {
       "attrs": {
        "height": 0.8,
        "width": 0.8,
        "x": 0.1,
        "y": 0.1
       },
       "content": {
        "cell": "0ab6b15b-a264-48b4-82dd-bfda8da5d361",
        "part": "whole"
       },
       "id": "b0aa1103-25b4-4feb-8caf-771ff08c3198"
      }
     }
    },
    "afc16d56-a4ab-4a3b-bf02-59c23caf0098": {
     "id": "afc16d56-a4ab-4a3b-bf02-59c23caf0098",
     "prev": "b696f408-912f-43b4-88aa-34c9fc03ec8b",
     "regions": {
      "e13b0abc-21b1-43ee-87e7-169f29228c84": {
       "attrs": {
        "height": 0.8,
        "width": 0.8,
        "x": 0.1,
        "y": 0.1
       },
       "content": {
        "cell": "a0a8bca0-b670-4d53-b570-868c8553552f",
        "part": "whole"
       },
       "id": "e13b0abc-21b1-43ee-87e7-169f29228c84"
      }
     }
    },
    "affe08ef-6125-4b6a-b99b-fec13d60db12": {
     "id": "affe08ef-6125-4b6a-b99b-fec13d60db12",
     "prev": "515f0579-d9e9-4f53-8888-29f76e784704",
     "regions": {
      "044e8ea8-218c-446e-a4e2-fe1411f7a3ea": {
       "attrs": {
        "height": 0.8,
        "width": 0.8,
        "x": 0.1,
        "y": 0.1
       },
       "content": {
        "cell": "4b9ae9c0-72fa-4b4b-b4f1-3ce4b53058cb",
        "part": "whole"
       },
       "id": "044e8ea8-218c-446e-a4e2-fe1411f7a3ea"
      }
     }
    },
    "b052f45d-b6bb-4062-87dd-3f00b031dc4f": {
     "id": "b052f45d-b6bb-4062-87dd-3f00b031dc4f",
     "prev": "6eca1cc3-b4f2-4bb6-9988-dc0ad9ed2c15",
     "regions": {
      "af39429c-1dd0-4576-a5b1-88c81bec36b1": {
       "attrs": {
        "height": 0.8,
        "width": 0.8,
        "x": 0.1,
        "y": 0.1
       },
       "content": {
        "cell": "bcf270cd-f57f-4f21-b513-672d288a6dc3",
        "part": "whole"
       },
       "id": "af39429c-1dd0-4576-a5b1-88c81bec36b1"
      }
     }
    },
    "b62056c2-d971-48bb-8582-c28f4712e452": {
     "id": "b62056c2-d971-48bb-8582-c28f4712e452",
     "prev": "efa8d5e4-3071-45b4-89fa-9439479d8b2d",
     "regions": {
      "be5d5d65-cc06-47b4-ab35-841f47966f45": {
       "attrs": {
        "height": 0.8,
        "width": 0.8,
        "x": 0.1,
        "y": 0.1
       },
       "content": {
        "cell": "d74353b5-65fb-4ae4-ae53-b464e9176069",
        "part": "whole"
       },
       "id": "be5d5d65-cc06-47b4-ab35-841f47966f45"
      }
     }
    },
    "b696f408-912f-43b4-88aa-34c9fc03ec8b": {
     "id": "b696f408-912f-43b4-88aa-34c9fc03ec8b",
     "prev": "f19af57f-9d63-4a51-ad58-7f6967fcf01a",
     "regions": {
      "b2a2b4d4-db2d-43ae-a684-6b251113ffc9": {
       "attrs": {
        "height": 0.8,
        "width": 0.8,
        "x": 0.1,
        "y": 0.1
       },
       "content": {
        "cell": "209a2fe4-3665-4c22-bd8b-32c3f53621a6",
        "part": "whole"
       },
       "id": "b2a2b4d4-db2d-43ae-a684-6b251113ffc9"
      }
     }
    },
    "b7c9bdc1-1ec1-47b5-9d18-68803f723553": {
     "id": "b7c9bdc1-1ec1-47b5-9d18-68803f723553",
     "prev": "fa7c16c1-3cf7-4f92-a6f8-5b3194e4b7cc",
     "regions": {
      "dbe48d32-bb93-47de-8eed-cb7d6411b345": {
       "attrs": {
        "height": 0.8,
        "width": 0.8,
        "x": 0.1,
        "y": 0.1
       },
       "content": {
        "cell": "b580c578-7826-49cd-b11c-ac0bc8f34593",
        "part": "whole"
       },
       "id": "dbe48d32-bb93-47de-8eed-cb7d6411b345"
      }
     }
    },
    "bdf38d51-a1f6-4db1-9504-b4b7d96a8816": {
     "id": "bdf38d51-a1f6-4db1-9504-b4b7d96a8816",
     "prev": "cb918039-5a32-4613-99ec-e27522f81ed4",
     "regions": {
      "59edca20-125b-4f4e-92e0-c01778b9fb50": {
       "attrs": {
        "height": 0.8,
        "width": 0.8,
        "x": 0.1,
        "y": 0.1
       },
       "content": {
        "cell": "a8aba0ff-a84f-40b7-a702-b1abda864680",
        "part": "whole"
       },
       "id": "59edca20-125b-4f4e-92e0-c01778b9fb50"
      }
     }
    },
    "be516fbf-46ca-4255-9973-a31c8ce699c3": {
     "id": "be516fbf-46ca-4255-9973-a31c8ce699c3",
     "prev": "f612d6c6-482b-4d8f-87c0-b5e270ab67a3",
     "regions": {
      "33fd1b2c-1834-472f-ab40-985569809540": {
       "attrs": {
        "height": 0.8,
        "width": 0.8,
        "x": 0.1,
        "y": 0.1
       },
       "content": {
        "cell": "a85b20ee-d3bd-4ad4-acca-7e221ff05548",
        "part": "whole"
       },
       "id": "33fd1b2c-1834-472f-ab40-985569809540"
      }
     }
    },
    "c4d2c20d-68a1-452e-9c08-f258635b3ef1": {
     "id": "c4d2c20d-68a1-452e-9c08-f258635b3ef1",
     "prev": "317388aa-56b9-4bee-ade4-5b11f90e8ed9",
     "regions": {
      "649b5465-b6d7-4744-b5ff-288ae9cd63ef": {
       "attrs": {
        "height": 0.8,
        "width": 0.8,
        "x": 0.1,
        "y": 0.1
       },
       "content": {
        "cell": "4401b5f1-4162-48a9-8676-6eed068f5b8b",
        "part": "whole"
       },
       "id": "649b5465-b6d7-4744-b5ff-288ae9cd63ef"
      }
     }
    },
    "ca376860-e503-4b37-bb80-427feb8634f7": {
     "id": "ca376860-e503-4b37-bb80-427feb8634f7",
     "prev": "bdf38d51-a1f6-4db1-9504-b4b7d96a8816",
     "regions": {
      "ba444fcc-8885-4e3f-becd-e8d0dd25657a": {
       "attrs": {
        "height": 0.8,
        "width": 0.8,
        "x": 0.1,
        "y": 0.1
       },
       "content": {
        "cell": "a56ae8e5-c2a1-4325-b4df-dd2edc3046bc",
        "part": "whole"
       },
       "id": "ba444fcc-8885-4e3f-becd-e8d0dd25657a"
      }
     }
    },
    "cb735c23-21de-4199-a160-3ae8f76e1788": {
     "id": "cb735c23-21de-4199-a160-3ae8f76e1788",
     "prev": "ad294c26-2b99-4df3-ac28-53c0188f2667",
     "regions": {
      "9dfd7a91-3418-439d-b837-4d4ae336cb80": {
       "attrs": {
        "height": 0.8,
        "width": 0.8,
        "x": 0.1,
        "y": 0.1
       },
       "content": {
        "cell": "f375315b-a5e2-4578-80f8-2adef78fb28a",
        "part": "whole"
       },
       "id": "9dfd7a91-3418-439d-b837-4d4ae336cb80"
      }
     }
    },
    "cb918039-5a32-4613-99ec-e27522f81ed4": {
     "id": "cb918039-5a32-4613-99ec-e27522f81ed4",
     "prev": "5ee492bb-f3fc-4b39-b039-5e1613685456",
     "regions": {
      "f8daa988-8ddf-4b74-8fe4-9645fc2e41e1": {
       "attrs": {
        "height": 0.8,
        "width": 0.8,
        "x": 0.1,
        "y": 0.1
       },
       "content": {
        "cell": "d349d4f8-1bef-45bf-8974-eaf2909e7690",
        "part": "whole"
       },
       "id": "f8daa988-8ddf-4b74-8fe4-9645fc2e41e1"
      }
     }
    },
    "e147513a-1c55-44fb-9382-960e835bf515": {
     "id": "e147513a-1c55-44fb-9382-960e835bf515",
     "prev": "7ff4a7c8-30ce-49d4-a620-8949ebc1ee49",
     "regions": {
      "3b9ba400-dea7-4663-8614-3bf04890e434": {
       "attrs": {
        "height": 0.8,
        "width": 0.8,
        "x": 0.1,
        "y": 0.1
       },
       "content": {
        "cell": "b744fca5-fb11-42c0-9913-f1e1d073685c",
        "part": "whole"
       },
       "id": "3b9ba400-dea7-4663-8614-3bf04890e434"
      }
     }
    },
    "e245ec64-34b3-4031-b9b7-120922a83c58": {
     "id": "e245ec64-34b3-4031-b9b7-120922a83c58",
     "prev": "a78df9f2-eee3-4466-81b8-570318674e16",
     "regions": {
      "df97bf16-3616-4feb-95d3-3546f040b691": {
       "attrs": {
        "height": 0.8,
        "width": 0.8,
        "x": 0.1,
        "y": 0.1
       },
       "content": {
        "cell": "7d4b98bb-5148-40a4-8488-43c0eb19a4df",
        "part": "whole"
       },
       "id": "df97bf16-3616-4feb-95d3-3546f040b691"
      }
     }
    },
    "e35b720b-3d17-4655-ad7e-8fca019f6a01": {
     "id": "e35b720b-3d17-4655-ad7e-8fca019f6a01",
     "prev": "94a828b9-df30-4a6f-8b3b-55031542b9e7",
     "regions": {
      "d489a0d8-5f7d-4c2f-9c1c-290442c7c488": {
       "attrs": {
        "height": 0.8,
        "width": 0.8,
        "x": 0.1,
        "y": 0.1
       },
       "content": {
        "cell": "5359f40f-08e8-4d06-8389-c3fc13507d56",
        "part": "whole"
       },
       "id": "d489a0d8-5f7d-4c2f-9c1c-290442c7c488"
      }
     }
    },
    "e4f0157f-aee2-4efb-96e5-df3dba1b4bef": {
     "id": "e4f0157f-aee2-4efb-96e5-df3dba1b4bef",
     "prev": "57d561b3-ad60-467b-9f0a-bcfc7548d0b1",
     "regions": {
      "a7733014-946a-4a7d-9c9d-0c84f00d16fc": {
       "attrs": {
        "height": 0.8,
        "width": 0.8,
        "x": 0.1,
        "y": 0.1
       },
       "content": {
        "cell": "d475f97f-3b0c-49ef-b20a-5c346d605e46",
        "part": "whole"
       },
       "id": "a7733014-946a-4a7d-9c9d-0c84f00d16fc"
      }
     }
    },
    "e724268d-3a03-4dd6-b3a8-e4354e4ff727": {
     "id": "e724268d-3a03-4dd6-b3a8-e4354e4ff727",
     "prev": "66d52aba-bcf9-4edc-8edf-605f8ab5ea96",
     "regions": {
      "6685616a-e367-4c29-9974-f4559aa47877": {
       "attrs": {
        "height": 0.8,
        "width": 0.8,
        "x": 0.1,
        "y": 0.1
       },
       "content": {
        "cell": "ef178561-c97f-40c4-ba0e-80178d6df166",
        "part": "whole"
       },
       "id": "6685616a-e367-4c29-9974-f4559aa47877"
      }
     }
    },
    "ea22b97f-9e52-4b6a-ad9a-0e008ae016b6": {
     "id": "ea22b97f-9e52-4b6a-ad9a-0e008ae016b6",
     "prev": "be516fbf-46ca-4255-9973-a31c8ce699c3",
     "regions": {
      "e177350f-5357-46a5-880f-faf1cab57b2b": {
       "attrs": {
        "height": 0.8,
        "width": 0.8,
        "x": 0.1,
        "y": 0.1
       },
       "content": {
        "cell": "9b411976-6c57-491e-9993-da86fb9b78ee",
        "part": "whole"
       },
       "id": "e177350f-5357-46a5-880f-faf1cab57b2b"
      }
     }
    },
    "ee570b41-86de-4b47-b87b-5207b020f657": {
     "id": "ee570b41-86de-4b47-b87b-5207b020f657",
     "prev": "18e29038-f802-45cb-8743-4ebde143bcfd",
     "regions": {
      "c4cce05a-20eb-4da3-a985-bfe515e6f9a3": {
       "attrs": {
        "height": 0.8,
        "width": 0.8,
        "x": 0.1,
        "y": 0.1
       },
       "content": {
        "cell": "678b5fcf-1ebc-48b6-b92a-8068ee1070bb",
        "part": "whole"
       },
       "id": "c4cce05a-20eb-4da3-a985-bfe515e6f9a3"
      }
     }
    },
    "efa8d5e4-3071-45b4-89fa-9439479d8b2d": {
     "id": "efa8d5e4-3071-45b4-89fa-9439479d8b2d",
     "prev": "e147513a-1c55-44fb-9382-960e835bf515",
     "regions": {
      "9be92850-91e2-493a-b541-e71057f152b6": {
       "attrs": {
        "height": 0.8,
        "width": 0.8,
        "x": 0.1,
        "y": 0.1
       },
       "content": {
        "cell": "b59d5ae0-f25d-4cde-8ffc-5796a08bc5fc",
        "part": "whole"
       },
       "id": "9be92850-91e2-493a-b541-e71057f152b6"
      }
     }
    },
    "f19af57f-9d63-4a51-ad58-7f6967fcf01a": {
     "id": "f19af57f-9d63-4a51-ad58-7f6967fcf01a",
     "prev": "b052f45d-b6bb-4062-87dd-3f00b031dc4f",
     "regions": {
      "986a5b6e-3e2a-43da-9074-567fda5e8aa8": {
       "attrs": {
        "height": 0.8,
        "width": 0.8,
        "x": 0.1,
        "y": 0.1
       },
       "content": {
        "cell": "b2cd0e40-15e5-4921-8954-93df2b10f8f6",
        "part": "whole"
       },
       "id": "986a5b6e-3e2a-43da-9074-567fda5e8aa8"
      }
     }
    },
    "f612d6c6-482b-4d8f-87c0-b5e270ab67a3": {
     "id": "f612d6c6-482b-4d8f-87c0-b5e270ab67a3",
     "prev": "64070e57-1f72-441a-9a99-6afd1dd51843",
     "regions": {
      "1dba54fa-46c2-4f88-807a-ab3e8e0843a9": {
       "attrs": {
        "height": 0.8,
        "width": 0.8,
        "x": 0.1,
        "y": 0.1
       },
       "content": {
        "cell": "ed4973e3-0d36-486c-aedd-1692dc0cd2a3",
        "part": "whole"
       },
       "id": "1dba54fa-46c2-4f88-807a-ab3e8e0843a9"
      }
     }
    },
    "f63d84f6-263c-4852-956a-19ef1d963774": {
     "id": "f63d84f6-263c-4852-956a-19ef1d963774",
     "prev": "e4f0157f-aee2-4efb-96e5-df3dba1b4bef",
     "regions": {
      "52a4b97c-aa59-4c12-9869-a9f807ec9571": {
       "attrs": {
        "height": 0.8,
        "width": 0.8,
        "x": 0.1,
        "y": 0.1
       },
       "content": {
        "cell": "3cdb6f0c-657d-4b2e-8a12-a74d1cb6e534",
        "part": "whole"
       },
       "id": "52a4b97c-aa59-4c12-9869-a9f807ec9571"
      }
     }
    },
    "f91f0bac-1e74-4c5a-ae74-af0a2e690f76": {
     "id": "f91f0bac-1e74-4c5a-ae74-af0a2e690f76",
     "prev": "0770d637-e8c1-472c-af5d-add4a6f284b6",
     "regions": {
      "3c3ca986-302b-419d-8a10-8df8a178692b": {
       "attrs": {
        "height": 0.8,
        "width": 0.8,
        "x": 0.1,
        "y": 0.1
       },
       "content": {
        "cell": "1299fa74-9e97-45d6-97b0-c2feb61f401d",
        "part": "whole"
       },
       "id": "3c3ca986-302b-419d-8a10-8df8a178692b"
      }
     }
    },
    "fa7c16c1-3cf7-4f92-a6f8-5b3194e4b7cc": {
     "id": "fa7c16c1-3cf7-4f92-a6f8-5b3194e4b7cc",
     "prev": "ea22b97f-9e52-4b6a-ad9a-0e008ae016b6",
     "regions": {
      "db1aeb85-4b11-4217-897d-670793ce6fe2": {
       "attrs": {
        "height": 0.8,
        "width": 0.8,
        "x": 0.1,
        "y": 0.1
       },
       "content": {
        "cell": "5d49a9cb-3290-4dfa-b275-2434169c0767",
        "part": "whole"
       },
       "id": "db1aeb85-4b11-4217-897d-670793ce6fe2"
      }
     }
    }
   },
   "themes": {}
  }
 },
 "nbformat": 4,
 "nbformat_minor": 2
}

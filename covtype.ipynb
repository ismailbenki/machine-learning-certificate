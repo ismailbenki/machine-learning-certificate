{
 "cells": [
  {
   "cell_type": "markdown",
   "metadata": {
    "nbpresent": {
     "id": "b6cf2708-8411-41a2-a39d-3b3aaa63a4d5"
    },
    "slideshow": {
     "slide_type": "slide"
    }
   },
   "source": [
    "# Forest Cover Type Prediction\n",
    "*Kevin Zagalo, Ismail Benkirane*\n",
    "\n",
    "Le but de ce projet est de modifier les données et construire une methode pour classifier des forêts en 7 types, avec des données de 581 012 instances et 54 attributs, sans données manquantes. Les types de forêts sont les suivants :\n",
    "      - Spruce/Fir\n",
    "      - Lodgepole Pine\n",
    "      - Ponderosa Pine\n",
    "      - Cottonwood/Willow\n",
    "      - Aspen\n",
    "      - Douglas-fir\n",
    "      - Krummholz\n",
    "dont les attributs sont les suivants :\n",
    "      - Elevation                          / quantitative   / meters / Elevation in meters \n",
    "      - Aspect                             / quantitative   / azimuth / Aspect in degrees azimuth \n",
    "      - Slope                              / quantitative   / degrees / Slope in degrees \n",
    "      - Horizontal_Distance_To_Hydrology   / quantitative   / meters / Horz Dist to nearest surface water features \n",
    "      - Vertical_Distance_To_Hydrology     / quantitative   / meters / Vert Dist to nearest surface water features \n",
    "      - Horizontal_Distance_To_Roadways    / quantitative   / meters / Horz Dist to nearest roadway \n",
    "      - Hillshade_9am / quantitative       / 0 to 255 index / Hillshade index at 9am, summer solstice \n",
    "      - Hillshade_Noon / quantitative      / 0 to 255 index / Hillshade index at noon, summer soltice \n",
    "      - Hillshade_3pm / quantitative       / 0 to 255 index / Hillshade index at 3pm, summer solstice \n",
    "      - Horizontal_Distance_To_Fire_Points / quantitative   / meters / Horz Dist to nearest wildfire ignition pts \n",
    "      - Wilderness_Area (4 binary columns) / qualitative    / 0 (absence) or 1 (presence) / Wilderness area design. \n",
    "      - Soil_Type (40 binary columns)      / qualitative    / 0 (absence) or 1 (presence) / Soil Type designation \n",
    "      - Cover_Type (7 types)               / integer        / 1 to 7 / Forest Cover Type designation"
   ]
  },
  {
   "cell_type": "code",
   "execution_count": 1,
   "metadata": {
    "collapsed": false,
    "nbpresent": {
     "id": "5359f40f-08e8-4d06-8389-c3fc13507d56"
    }
   },
   "outputs": [
    {
     "name": "stderr",
     "output_type": "stream",
     "text": [
      "/Users/kevinzagalo/.local/lib/python3.5/site-packages/sklearn/cross_validation.py:44: DeprecationWarning:\n",
      "\n",
      "This module was deprecated in version 0.18 in favor of the model_selection module into which all the refactored classes and functions are moved. Also note that the interface of the new CV iterators are different from that of this module. This module will be removed in 0.20.\n",
      "\n",
      "/Users/kevinzagalo/.local/lib/python3.5/site-packages/sklearn/grid_search.py:43: DeprecationWarning:\n",
      "\n",
      "This module was deprecated in version 0.18 in favor of the model_selection module into which all the refactored classes and functions are moved. This module will be removed in 0.20.\n",
      "\n"
     ]
    },
    {
     "name": "stdout",
     "output_type": "stream",
     "text": [
      "Loading file...\n",
      "Multi-class : {1: 'Spruce/Fir', 2: 'Lodgepole Pine', 3: 'Ponderosa Pine', 4: 'Cottonwood/Willow', 5: 'Aspen', 6: 'Douglas-fir', 7: 'Krummholz'}\n",
      "\tCategorical Features :\n",
      "\t\tWilderness_Area...\n",
      "\t\tDeleting Soil_Type...\n",
      "\t\tAdding Soil_Family...\n",
      "\t\tAdding Soil_Group...\n",
      "\t\tAdding Aspect_Group : (N,NE,E,SE,S,SW,W,NW) ...\n",
      "\tNumerical Features :\n",
      "\t\tDistance_To_Fire_Points...\n",
      "\t\tAdding sqr_Roadways = sqrt(Distance_To_Roadways)...\n",
      "\t\tAdding sin_Aspect = sin(Aspect)...\n",
      "\t\tAspect...\n",
      "\t\tAdding cos_Slope = cos(Slope)...\n",
      "\t\tAdding Distance_To_Hydrology = sqrt(Vertical_Distance_To_Hydrology^2 + Horizontal_Distance_To_Hydrology^2)...\n",
      "\t\tAdding Hillshade_mean = 1/3 * (Hillshade_9am+Hillshade_Noon+Hillshade_3pm)...\n",
      "\t\tHillshade_3pm...\n",
      "\t\tAdding Corr_Hillshade9amNoon...\n",
      "\t\tElevation...\n",
      "projecting pca...\n",
      "Normalization...\n",
      "Done.\n",
      "x_train shape: (406708, 48) y_train shape: (406708,)\n",
      "406708 train set\n",
      "174304 test set\n"
     ]
    }
   ],
   "source": [
    "import numpy as np\n",
    "import covtype as ct\n",
    "\n",
    "from sklearn import metrics\n",
    "from sklearn.model_selection import train_test_split\n",
    "from sklearn.grid_search import GridSearchCV\n",
    "\n",
    "names,data,target = ct.covtype_load_data('covtype/archives/covtype.data.gz',modified=True,pca=True,pca_label=5)\n",
    "\n",
    "seed = 0\n",
    "\n",
    "# Ensemble de train et ensemble de test\n",
    "(x_train,x_test,y_train,y_test) = train_test_split(data,target,random_state=seed,test_size=.3)\n",
    "\n",
    "# Résumé\n",
    "print(\"x_train shape:\", x_train.shape,\"y_train shape:\", y_train.shape)\n",
    "print(x_train.shape[0], 'train set')\n",
    "print(x_test.shape[0], 'test set')"
   ]
  },
  {
   "cell_type": "markdown",
   "metadata": {
    "nbpresent": {
     "id": "9875c3a7-097b-4842-ae11-e4f4c09255f1"
    }
   },
   "source": [
    "## Test des différentes méthodes\n",
    "Nous étudierons les modèles suivant : \n",
    "   - Logistic Regression\n",
    "   - K-Nearest Neighbors\n",
    "   - Artificial Neural Network\n",
    "   - Random Forest\n",
    "   - Quadratic Discriminant Analysis"
   ]
  },
  {
   "cell_type": "markdown",
   "metadata": {},
   "source": [
    "### Regression logistique\n",
    "\n",
    "On cherche d'abord du côté de la regression logistique multinomiale. Comme elle est sensible aux trop grandes variances, on décide d'utiliser un paramètre de régularisation grâce à la pénalité *elastic net*. La loi a posteriori sachant que les données sont $(\\textbf{x},\\textbf{y}) = (\\textbf{x}^{(i)},\\textbf{y}^{(i)})_{i=1}^N$ est une loi multinomiale *(softmax)* \n",
    "$$\\Pr (\\widehat{y}=k \\vert \\textbf{w};\\textbf{x}) = \\frac{\\exp(w_{0,k} + \\textbf{w}_k .\\textbf{x})}{\\sum_{j=1}^7 \\exp(w_0 + \\textbf{w}_j . \\textbf{x})} $$ \n",
    "\n",
    "et sa fonction de coùt est donc donnée par la log-vraisemblance \n",
    "\n",
    "$$\\ell(\\textbf{w};\\textbf{x},\\textbf{y}) = - \\left[\\frac{1}{N} \\sum_{i=1}^{N} \\left( \\sum_{j=1}^7 y^{(i)}_j (w_{0,j} + \\textbf{w}_j.\\textbf{x}^{(i)}) - \\log \\sum_{j=1}^7 e^{w_{0,j} + \\textbf{w}_j . \\textbf{x}^{(i)}} \\right) \\right] + \\lambda \\left[ \\frac{1 - \\alpha}{2} \\sum_{j=1}^7 \\vert \\vert \\textbf{w}_j \\vert \\vert^2 + \\alpha \\sum_{j=1}^7 \\vert \\vert \\textbf{w}_j \\vert \\vert \\right]$$\n",
    "\n",
    "où $N$ est le nombre d'observations. Le second terme de l'équation représente le terme de régularisation *elastic net*.\n",
    "\n",
    "La pénalité elastic net $\\alpha$ varie de 0 à 1. Quand $\\alpha=0$, on a une regularisation L2, quand $\\alpha=1$, on a une régularisation L1 (\"lasso\"). Quelques test montrent qu'il n'est pas nécessaire de faire varier alpha. Nous nous contenterons donc d'une régularisation L2."
   ]
  },
  {
   "cell_type": "raw",
   "metadata": {
    "collapsed": false,
    "raw_mimetype": "text/x-python"
   },
   "source": [
    "from sklearn.linear_model import LogisticRegression\n",
    "\n",
    "log_params = [{'C':[.1,.2,.3],'solver':['sag','newton-cg']}]\n",
    "log = GridSearchCV(LogisticRegression(random_state=seed,penalty='l2',multi_class='multinomial'),\n",
    "                   param_grid=log_params,cv=10,n_jobs=-1)\n",
    "\n",
    "log.fit(x_train, y_train)\n",
    "log.grid_scores_"
   ]
  },
  {
   "cell_type": "raw",
   "metadata": {
    "collapsed": false,
    "raw_mimetype": "text/x-python"
   },
   "source": [
    "print ('Best accuracy obtained: {}'.format(log.best_score_))\n",
    "print ('Parameters:')\n",
    "for key, value in log.best_params_.items():\n",
    "    print('\\t{}:{}'.format(key,value))"
   ]
  },
  {
   "cell_type": "code",
   "execution_count": null,
   "metadata": {
    "collapsed": false
   },
   "outputs": [],
   "source": [
    "from sklearn.linear_model import LogisticRegression\n",
    "\n",
    "LOG = LogisticRegression(C=.1, random_state=seed, multi_class='multinomial',\n",
    "                         solver='sag',penalty='l2',n_jobs=-1,class_weight={1:.1,2:.1,3:1,4:20,5:2,6:10,7:1})\n",
    "\n",
    "LOG.fit(x_train, y_train)\n",
    "ct.summarize(LOG,x_test,y_test)"
   ]
  },
  {
   "cell_type": "code",
   "execution_count": null,
   "metadata": {
    "collapsed": false
   },
   "outputs": [],
   "source": [
    "ct.plot_learning_curve(LOG,'logistic regression',x_train,y_train,cv=10,n_jobs=-1,train_sizes=np.linspace(0.1,1,10))"
   ]
  },
  {
   "cell_type": "markdown",
   "metadata": {
    "nbpresent": {
     "id": "0c5e276c-77a2-42a4-af2e-7100a6ca9927"
    }
   },
   "source": [
    "### Random Forest"
   ]
  },
  {
   "cell_type": "code",
   "execution_count": null,
   "metadata": {
    "collapsed": false
   },
   "outputs": [],
   "source": [
    "from sklearn.ensemble import ExtraTreesClassifier,RandomForestClassifier\n",
    "import pandas\n",
    "import matplotlib.pyplot as plt\n",
    "\n",
    "modele = ExtraTreesClassifier(max_depth=50,n_estimators=15,bootstrap=True,class_weight={1:.1,2:.1,3:1,4:20,5:10,6:1,7:1})\n",
    "modele.fit(data[:,:10],target)\n",
    "# print(modele.feature_importances_) #use inbuilt class feature_importances of tree based classifiers\n",
    "#plot graph of feature importances for better visualization\n",
    "att_importances = pandas.Series(modele.feature_importances_, index=names)\n",
    "att_importances.nlargest(52).plot(kind='barh')\n",
    "plt.rcParams[\"figure.figsize\"] = [20,9]\n",
    "plt.show()"
   ]
  },
  {
   "cell_type": "code",
   "execution_count": null,
   "metadata": {
    "collapsed": false
   },
   "outputs": [],
   "source": [
    "rf_params = [{'n_estimators':[50, 100], 'max_depth':[5,10,15], 'max_features':[0.1, 0.3],\n",
    "           'min_samples_leaf':[1,3], 'bootstrap':[True, False]}]\n",
    "           \n",
    "rfc = GridSearchCV(RandomForestClassifier(), param_grid=rf_params, cv = 10, n_jobs=-1)\n",
    "rfc.fit(x_train, y_train)\n",
    "rfc.grid_scores_"
   ]
  },
  {
   "cell_type": "code",
   "execution_count": null,
   "metadata": {
    "collapsed": false
   },
   "outputs": [],
   "source": [
    "print ('Best accuracy obtained: {}'.format(rfc.best_score_))\n",
    "print ('Parameters:')\n",
    "for key, value in rfc.best_params_.items():\n",
    "    print('\\t{}:{}'.format(key,value))"
   ]
  },
  {
   "cell_type": "code",
   "execution_count": null,
   "metadata": {
    "collapsed": false
   },
   "outputs": [],
   "source": [
    "# Best params: {'max_features': 0.3, 'n_estimators': 100, 'bootstrap': False, 'max_depth': 15, 'min_samples_leaf': 1}\n",
    "RFC = RandomForestClassifier(n_estimators=100, max_depth=10, max_features=0.3, bootstrap=True, min_samples_leaf=1,\n",
    "                             n_jobs=-1)\n",
    "RFC.fit(x_train, y_train)\n",
    "ct.plot_learning_curve(RFC,'Random Forest',data,target,cv=10,n_jobs=-1,train_sizes=np.linspace(0.1,1,10))\n",
    "ct.summarize(RFC,x_test,y_test)"
   ]
  },
  {
   "cell_type": "markdown",
   "metadata": {
    "collapsed": true,
    "nbpresent": {
     "id": "4a49b226-44c7-4f86-8f83-9b5e6f1a4cbe"
    }
   },
   "source": [
    "### k-Nearest Neighbors\n",
    "C'est un algorithme très lent, car il calcule la distance entre chaque point et les autres points, à chaque itération. En effet, la règle de calcul pour les k-plus proches voisins est $$\\widehat{y} = argmax_{c} \\sum_{x^{(i)} \\in V_k} w_i \\delta_{y^{(i)},c} $$ où $V_k$ est le voisinage des $k$ points les plus proches des données qu'on veut prédire. C'est une methode qui prend son temps : Nous nous contenterons de l'entrainer sur un ensemble de 100 000 données."
   ]
  },
  {
   "cell_type": "code",
   "execution_count": null,
   "metadata": {
    "collapsed": false,
    "nbpresent": {
     "id": "bcf270cd-f57f-4f21-b513-672d288a6dc3"
    }
   },
   "outputs": [],
   "source": [
    "from sklearn.neighbors import KNeighborsClassifier\n",
    "\n",
    "knn_params = [{'n_neighbors':list(range(3,20,5)),'weights':['uniform','distance']}]\n",
    "knn = GridSearchCV(KNeighborsClassifier(),param_grid=knn_params,cv=10,n_jobs=-1)\n",
    "\n",
    "knn.fit(x_train, y_train)\n",
    "knn.grid_scores_"
   ]
  },
  {
   "cell_type": "code",
   "execution_count": null,
   "metadata": {
    "collapsed": false,
    "scrolled": true
   },
   "outputs": [],
   "source": [
    "print ('Best accuracy obtained: {}'.format(knn.best_score_))\n",
    "print ('Parameters:')\n",
    "for key, value in knn.best_params_.items():\n",
    "    print('\\t{}:{}'.format(key,value))"
   ]
  },
  {
   "cell_type": "code",
   "execution_count": null,
   "metadata": {
    "collapsed": false
   },
   "outputs": [],
   "source": [
    "KNN = KNeighborsClassifier(n_neighbors= , weights= )\n",
    "\n",
    "KNN.fit(x_train, y_train)"
   ]
  },
  {
   "cell_type": "code",
   "execution_count": null,
   "metadata": {
    "collapsed": true
   },
   "outputs": [],
   "source": [
    "ct.plot_learning_curve(KNN,'kNN',data,target,cv=10,n_jobs=-1,train_sizes=np.linspace(0.1,1,10))\n",
    "ct.summarize(KNN,x_test,y_test)"
   ]
  }
 ],
 "metadata": {
  "anaconda-cloud": {},
  "celltoolbar": "Raw Cell Format",
  "kernelspec": {
   "display_name": "Python [default]",
   "language": "python",
   "name": "python3"
  },
  "language_info": {
   "codemirror_mode": {
    "name": "ipython",
    "version": 3
   },
   "file_extension": ".py",
   "mimetype": "text/x-python",
   "name": "python",
   "nbconvert_exporter": "python",
   "pygments_lexer": "ipython3",
   "version": "3.5.6"
  },
  "nbpresent": {
   "slides": {
    "0770d637-e8c1-472c-af5d-add4a6f284b6": {
     "id": "0770d637-e8c1-472c-af5d-add4a6f284b6",
     "prev": "822996cd-90e1-45d0-8343-8b7fd2585c7d",
     "regions": {
      "4f08223d-acb8-4116-bff6-aafa6d122309": {
       "attrs": {
        "height": 0.8,
        "width": 0.8,
        "x": 0.1,
        "y": 0.1
       },
       "content": {
        "cell": "e7e428bc-1bc4-4be8-8a0c-354a35f0ef24",
        "part": "whole"
       },
       "id": "4f08223d-acb8-4116-bff6-aafa6d122309"
      }
     }
    },
    "14e61d4e-c341-44d3-b09f-fddacd55ebcc": {
     "id": "14e61d4e-c341-44d3-b09f-fddacd55ebcc",
     "prev": "50e8fd77-71ca-4969-af94-27684b39075b",
     "regions": {
      "795a122d-7f1a-42c5-be41-6496b2f52b86": {
       "attrs": {
        "height": 0.8,
        "width": 0.8,
        "x": 0.1,
        "y": 0.1
       },
       "content": {
        "cell": "014c9f8c-3add-4557-8f14-a48ece2bf5df",
        "part": "whole"
       },
       "id": "795a122d-7f1a-42c5-be41-6496b2f52b86"
      }
     }
    },
    "18e29038-f802-45cb-8743-4ebde143bcfd": {
     "id": "18e29038-f802-45cb-8743-4ebde143bcfd",
     "prev": "19658081-e9b6-44b1-821d-83db1157aa2e",
     "regions": {
      "c89e965f-e9d1-418a-82a7-1848c485c825": {
       "attrs": {
        "height": 0.8,
        "width": 0.8,
        "x": 0.1,
        "y": 0.1
       },
       "content": {
        "cell": "510335cd-9646-47cd-a826-a0bd5c71dfe4",
        "part": "whole"
       },
       "id": "c89e965f-e9d1-418a-82a7-1848c485c825"
      }
     }
    },
    "19658081-e9b6-44b1-821d-83db1157aa2e": {
     "id": "19658081-e9b6-44b1-821d-83db1157aa2e",
     "prev": "5b7b74e9-a713-4bf8-9b53-faebe6bbd965",
     "regions": {
      "52910d2f-2a63-4ca9-ad5d-e0d598091a89": {
       "attrs": {
        "height": 0.8,
        "width": 0.8,
        "x": 0.1,
        "y": 0.1
       },
       "content": {
        "cell": "0f957556-b03f-4fe7-8713-23f086414d38",
        "part": "whole"
       },
       "id": "52910d2f-2a63-4ca9-ad5d-e0d598091a89"
      }
     }
    },
    "1d9a875e-d009-48cd-8448-087ab92cc409": {
     "id": "1d9a875e-d009-48cd-8448-087ab92cc409",
     "prev": "f63d84f6-263c-4852-956a-19ef1d963774",
     "regions": {
      "7b2e9829-a10f-4e54-ad59-b0ce1a1e4e53": {
       "attrs": {
        "height": 0.8,
        "width": 0.8,
        "x": 0.1,
        "y": 0.1
       },
       "content": {
        "cell": "4b439da3-e77d-423c-98d9-9cf23b117629",
        "part": "whole"
       },
       "id": "7b2e9829-a10f-4e54-ad59-b0ce1a1e4e53"
      }
     }
    },
    "236ca5c3-344c-4a81-9afb-4f69f215b617": {
     "id": "236ca5c3-344c-4a81-9afb-4f69f215b617",
     "prev": "9fca293c-fb97-4535-abdb-c0dc7a59886e",
     "regions": {
      "ce7982d5-3dec-4dac-8f2a-13a7b5801dd2": {
       "attrs": {
        "height": 0.8,
        "width": 0.8,
        "x": 0.1,
        "y": 0.1
       },
       "content": {
        "cell": "6c33a9c9-e26c-4006-9c96-0fc4b9a5387a",
        "part": "whole"
       },
       "id": "ce7982d5-3dec-4dac-8f2a-13a7b5801dd2"
      }
     }
    },
    "2549db01-167f-48df-995f-06c8976dd0d7": {
     "id": "2549db01-167f-48df-995f-06c8976dd0d7",
     "prev": "f91f0bac-1e74-4c5a-ae74-af0a2e690f76",
     "regions": {
      "a7480606-09d2-41fc-8e10-19e4d788faf6": {
       "attrs": {
        "height": 0.8,
        "width": 0.8,
        "x": 0.1,
        "y": 0.1
       },
       "content": {
        "cell": "6b854055-854b-4135-b73d-4349a3979903",
        "part": "whole"
       },
       "id": "a7480606-09d2-41fc-8e10-19e4d788faf6"
      }
     }
    },
    "287d8b26-c175-4d67-8586-668b9b8cade6": {
     "id": "287d8b26-c175-4d67-8586-668b9b8cade6",
     "prev": "2549db01-167f-48df-995f-06c8976dd0d7",
     "regions": {
      "85c89645-f2fa-4b89-90f3-e4de5f2a4021": {
       "attrs": {
        "height": 0.8,
        "width": 0.8,
        "x": 0.1,
        "y": 0.1
       },
       "content": {
        "cell": "164bbe0c-b86f-4dec-97d1-b3a21b378dc0",
        "part": "whole"
       },
       "id": "85c89645-f2fa-4b89-90f3-e4de5f2a4021"
      }
     }
    },
    "306aaf0c-4817-4d61-bb6f-aeeffe82153f": {
     "id": "306aaf0c-4817-4d61-bb6f-aeeffe82153f",
     "prev": "861c4ac2-270f-4274-a00b-287f770d88f1",
     "regions": {
      "9b151ce1-7133-4b18-b487-9d676bc085cc": {
       "attrs": {
        "height": 0.8,
        "width": 0.8,
        "x": 0.1,
        "y": 0.1
       },
       "content": {
        "cell": "e485508c-1682-4d22-9186-a82d4f78b16d",
        "part": "whole"
       },
       "id": "9b151ce1-7133-4b18-b487-9d676bc085cc"
      }
     }
    },
    "317388aa-56b9-4bee-ade4-5b11f90e8ed9": {
     "id": "317388aa-56b9-4bee-ade4-5b11f90e8ed9",
     "prev": "5f713795-9eb0-45ff-9543-22612dbae3f0",
     "regions": {
      "4bedc34a-7704-4882-94dd-e8dab844d74f": {
       "attrs": {
        "height": 0.8,
        "width": 0.8,
        "x": 0.1,
        "y": 0.1
       },
       "content": {
        "cell": "74ae5c86-6561-4f5d-bd36-90e025e3732e",
        "part": "whole"
       },
       "id": "4bedc34a-7704-4882-94dd-e8dab844d74f"
      }
     }
    },
    "3952bf1a-b25e-4ae7-8fad-0262d57ef607": {
     "id": "3952bf1a-b25e-4ae7-8fad-0262d57ef607",
     "prev": "5b63c8c4-79d9-4edf-8340-65e6f4694e57",
     "regions": {
      "8dbf9efc-ac3f-4475-bc63-f75346d6d64f": {
       "attrs": {
        "height": 0.8,
        "width": 0.8,
        "x": 0.1,
        "y": 0.1
       },
       "content": {
        "cell": "991b1ee9-5af0-42a1-b543-dc406d893d71",
        "part": "whole"
       },
       "id": "8dbf9efc-ac3f-4475-bc63-f75346d6d64f"
      }
     }
    },
    "3c744aae-7634-4c3c-812e-2d87cc62ed56": {
     "id": "3c744aae-7634-4c3c-812e-2d87cc62ed56",
     "prev": "8b295513-f50e-4437-a53d-852130392252",
     "regions": {
      "fe9f4645-1c84-4a7e-ae85-7051f33195ce": {
       "attrs": {
        "height": 0.8,
        "width": 0.8,
        "x": 0.1,
        "y": 0.1
       },
       "content": {
        "cell": "35e8d2d6-8937-46bb-bc05-b557346e4a16",
        "part": "whole"
       },
       "id": "fe9f4645-1c84-4a7e-ae85-7051f33195ce"
      }
     }
    },
    "3de58a1e-98ea-40a4-83cb-7f95e28fa098": {
     "id": "3de58a1e-98ea-40a4-83cb-7f95e28fa098",
     "prev": "afc16d56-a4ab-4a3b-bf02-59c23caf0098",
     "regions": {
      "43901bb4-4d74-432e-b691-daf03039dd8e": {
       "attrs": {
        "height": 0.8,
        "width": 0.8,
        "x": 0.1,
        "y": 0.1
       },
       "content": {
        "cell": "7f85e021-b8c4-43b7-bad4-b257e48a50f7",
        "part": "whole"
       },
       "id": "43901bb4-4d74-432e-b691-daf03039dd8e"
      }
     }
    },
    "4600b108-c1e6-4159-98c3-32e830df3189": {
     "id": "4600b108-c1e6-4159-98c3-32e830df3189",
     "prev": "468049ee-9def-4de4-a1c0-d2e42db6d9b3",
     "regions": {
      "51e4bff3-c079-4ceb-b467-6bdaa5d4355d": {
       "attrs": {
        "height": 0.8,
        "width": 0.8,
        "x": 0.1,
        "y": 0.1
       },
       "content": {
        "cell": "dbbc0a3e-a2e1-4141-8e41-a0b22a4a06be",
        "part": "whole"
       },
       "id": "51e4bff3-c079-4ceb-b467-6bdaa5d4355d"
      }
     }
    },
    "468049ee-9def-4de4-a1c0-d2e42db6d9b3": {
     "id": "468049ee-9def-4de4-a1c0-d2e42db6d9b3",
     "prev": "98cc32da-a643-44ab-8fa9-bb045c7bcba6",
     "regions": {
      "84dfacd0-8c85-4ed0-8fa1-98128d93fa49": {
       "attrs": {
        "height": 0.8,
        "width": 0.8,
        "x": 0.1,
        "y": 0.1
       },
       "content": {
        "cell": "46b0f545-6ebd-4390-aa74-d604e68c6e2c",
        "part": "whole"
       },
       "id": "84dfacd0-8c85-4ed0-8fa1-98128d93fa49"
      }
     }
    },
    "4d8b578d-56eb-4f63-b2d7-aeb34260d289": {
     "id": "4d8b578d-56eb-4f63-b2d7-aeb34260d289",
     "prev": "51673bae-f72f-4be3-8464-9d546277588c",
     "regions": {
      "f76ffea2-bb5c-4b89-94cd-ec5c5eff5249": {
       "attrs": {
        "height": 0.8,
        "width": 0.8,
        "x": 0.1,
        "y": 0.1
       },
       "content": {
        "cell": "492240e7-b62b-44d6-99b0-906249176d55",
        "part": "whole"
       },
       "id": "f76ffea2-bb5c-4b89-94cd-ec5c5eff5249"
      }
     }
    },
    "5045d891-7cd4-4198-9d0f-037ad0bc1834": {
     "id": "5045d891-7cd4-4198-9d0f-037ad0bc1834",
     "prev": "3c744aae-7634-4c3c-812e-2d87cc62ed56",
     "regions": {
      "63361108-43e6-43f7-af3e-6b96f13920ed": {
       "attrs": {
        "height": 0.8,
        "width": 0.8,
        "x": 0.1,
        "y": 0.1
       },
       "content": {
        "cell": "809546a9-843c-4cf4-baae-dd34524b61b5",
        "part": "whole"
       },
       "id": "63361108-43e6-43f7-af3e-6b96f13920ed"
      }
     }
    },
    "50e8fd77-71ca-4969-af94-27684b39075b": {
     "id": "50e8fd77-71ca-4969-af94-27684b39075b",
     "prev": "3952bf1a-b25e-4ae7-8fad-0262d57ef607",
     "regions": {
      "0243dcfb-a4c2-476a-8d0f-85a323476c3c": {
       "attrs": {
        "height": 0.8,
        "width": 0.8,
        "x": 0.1,
        "y": 0.1
       },
       "content": {
        "cell": "182461f9-3938-4187-b284-3bd6cfc544f6",
        "part": "whole"
       },
       "id": "0243dcfb-a4c2-476a-8d0f-85a323476c3c"
      }
     }
    },
    "515f0579-d9e9-4f53-8888-29f76e784704": {
     "id": "515f0579-d9e9-4f53-8888-29f76e784704",
     "prev": "a8acd4a4-0962-47f0-a064-f0c88fd96cac",
     "regions": {
      "3c8687d3-fde0-43fe-8c68-f3bf6274208c": {
       "attrs": {
        "height": 0.8,
        "width": 0.8119760479041916,
        "x": 0.09800399201596811,
        "y": 0.10354845863827902
       },
       "content": {
        "cell": "254146d2-0ffa-49d4-b6f6-9e722677af29",
        "part": "outputs"
       },
       "id": "3c8687d3-fde0-43fe-8c68-f3bf6274208c"
      }
     }
    },
    "51673bae-f72f-4be3-8464-9d546277588c": {
     "id": "51673bae-f72f-4be3-8464-9d546277588c",
     "prev": "ae2fac7d-4a7f-4e90-9c66-cbf139d2deb0",
     "regions": {
      "70938bfc-4124-43f7-8691-d5649768db93": {
       "attrs": {
        "height": 0.8,
        "width": 0.8,
        "x": 0.1,
        "y": 0.1
       },
       "content": {
        "cell": "05821bfd-4ff1-4976-8c22-4fa10cb2d017",
        "part": "whole"
       },
       "id": "70938bfc-4124-43f7-8691-d5649768db93"
      }
     }
    },
    "57d561b3-ad60-467b-9f0a-bcfc7548d0b1": {
     "id": "57d561b3-ad60-467b-9f0a-bcfc7548d0b1",
     "prev": "4600b108-c1e6-4159-98c3-32e830df3189",
     "regions": {
      "eaafac30-6bb8-4489-b707-c3d4d671213e": {
       "attrs": {
        "height": 0.8,
        "width": 0.8,
        "x": 0.1,
        "y": 0.1
       },
       "content": {
        "cell": "20022511-20e5-46d8-a6c2-caa52fc1a949",
        "part": "whole"
       },
       "id": "eaafac30-6bb8-4489-b707-c3d4d671213e"
      }
     }
    },
    "5b63c8c4-79d9-4edf-8340-65e6f4694e57": {
     "id": "5b63c8c4-79d9-4edf-8340-65e6f4694e57",
     "prev": "287d8b26-c175-4d67-8586-668b9b8cade6",
     "regions": {
      "b79082e9-5660-49b7-9df3-4297ca6fe4b2": {
       "attrs": {
        "height": 0.8,
        "width": 0.8,
        "x": 0.1,
        "y": 0.1
       },
       "content": {
        "cell": "9875c3a7-097b-4842-ae11-e4f4c09255f1",
        "part": "whole"
       },
       "id": "b79082e9-5660-49b7-9df3-4297ca6fe4b2"
      }
     }
    },
    "5b7b74e9-a713-4bf8-9b53-faebe6bbd965": {
     "id": "5b7b74e9-a713-4bf8-9b53-faebe6bbd965",
     "prev": "82cea278-2a92-49d9-b47b-b9afc8d96372",
     "regions": {
      "3ec3106e-ffc5-425c-8dc2-e7a4f0c3f554": {
       "attrs": {
        "height": 0.38660456864049686,
        "width": 0.8209580838323354,
        "x": 0.10598802395209574,
        "y": 0.06806387225548904
       },
       "content": {
        "cell": "2a4d650a-5e58-4c3e-99e3-3acda115566b",
        "part": "source"
       },
       "id": "3ec3106e-ffc5-425c-8dc2-e7a4f0c3f554"
      },
      "bccdc052-c54d-4c45-a41b-f1ddfe65f3f6": {
       "attrs": {
        "height": 0.4664448880017743,
        "width": 0.45668662674650706,
        "x": 0.26566866267465067,
        "y": 0.49033045021068977
       },
       "content": {
        "cell": "510335cd-9646-47cd-a826-a0bd5c71dfe4",
        "part": "outputs"
       },
       "id": "bccdc052-c54d-4c45-a41b-f1ddfe65f3f6"
      }
     }
    },
    "5ee492bb-f3fc-4b39-b039-5e1613685456": {
     "id": "5ee492bb-f3fc-4b39-b039-5e1613685456",
     "prev": "affe08ef-6125-4b6a-b99b-fec13d60db12",
     "regions": {
      "282242f2-5710-4e92-83ed-185f62b787cf": {
       "attrs": {
        "height": 0.8,
        "width": 0.8,
        "x": 0.1,
        "y": 0.1
       },
       "content": {
        "cell": "185fcd86-665e-4191-ab53-6341c676c698",
        "part": "whole"
       },
       "id": "282242f2-5710-4e92-83ed-185f62b787cf"
      }
     }
    },
    "5f713795-9eb0-45ff-9543-22612dbae3f0": {
     "id": "5f713795-9eb0-45ff-9543-22612dbae3f0",
     "prev": "306aaf0c-4817-4d61-bb6f-aeeffe82153f",
     "regions": {
      "203eff7a-e6ca-448f-9d2c-c2efff643616": {
       "attrs": {
        "height": 0.8,
        "width": 0.8,
        "x": 0.1,
        "y": 0.1
       },
       "content": {
        "cell": "9d07a0eb-4bba-4fdc-80a0-c0622188eb80",
        "part": "whole"
       },
       "id": "203eff7a-e6ca-448f-9d2c-c2efff643616"
      }
     }
    },
    "64070e57-1f72-441a-9a99-6afd1dd51843": {
     "id": "64070e57-1f72-441a-9a99-6afd1dd51843",
     "prev": "e724268d-3a03-4dd6-b3a8-e4354e4ff727",
     "regions": {
      "451c5dcf-ce37-4959-b4a4-6f229bd1907d": {
       "attrs": {
        "height": 0.8,
        "width": 0.8,
        "x": 0.1,
        "y": 0.1
       },
       "content": {
        "cell": "559f8392-d039-4172-83e0-e142b1c4df4a",
        "part": "whole"
       },
       "id": "451c5dcf-ce37-4959-b4a4-6f229bd1907d"
      }
     }
    },
    "65a27ef8-af50-4789-87d5-435759626840": {
     "id": "65a27ef8-af50-4789-87d5-435759626840",
     "prev": "6c5d5926-4d46-4d6f-84be-334aed8a8eb4",
     "regions": {
      "ba843c32-59ee-450d-8ad7-2fe786ab5eed": {
       "attrs": {
        "height": 0.8,
        "width": 0.8,
        "x": 0.1,
        "y": 0.1
       },
       "content": {
        "cell": "440bd24f-7dd2-4fed-a449-6eb4763f4b58",
        "part": "whole"
       },
       "id": "ba843c32-59ee-450d-8ad7-2fe786ab5eed"
      }
     }
    },
    "66d52aba-bcf9-4edc-8edf-605f8ab5ea96": {
     "id": "66d52aba-bcf9-4edc-8edf-605f8ab5ea96",
     "prev": "8de5550d-3d6c-4f03-ab85-63bc8b288413",
     "regions": {
      "7288e2b2-7bf9-4cd4-bcbb-80f6c966165a": {
       "attrs": {
        "height": 0.8,
        "width": 0.8,
        "x": 0.1,
        "y": 0.1
       },
       "content": {
        "cell": "ab844092-a8b7-4a96-bba6-2b888d80f02c",
        "part": "whole"
       },
       "id": "7288e2b2-7bf9-4cd4-bcbb-80f6c966165a"
      }
     }
    },
    "6c5d5926-4d46-4d6f-84be-334aed8a8eb4": {
     "id": "6c5d5926-4d46-4d6f-84be-334aed8a8eb4",
     "prev": "5045d891-7cd4-4198-9d0f-037ad0bc1834",
     "regions": {
      "c9f08ea2-7ee5-4f3b-9817-9a71fb1d1603": {
       "attrs": {
        "height": 0.8,
        "width": 0.8,
        "x": 0.1,
        "y": 0.1
       },
       "content": {
        "cell": "fa1996e1-385a-43ce-8444-6854e9507d91",
        "part": "whole"
       },
       "id": "c9f08ea2-7ee5-4f3b-9817-9a71fb1d1603"
      }
     }
    },
    "6eca1cc3-b4f2-4bb6-9988-dc0ad9ed2c15": {
     "id": "6eca1cc3-b4f2-4bb6-9988-dc0ad9ed2c15",
     "prev": "14e61d4e-c341-44d3-b09f-fddacd55ebcc",
     "regions": {
      "a68cd43d-1d88-408f-b286-c547a4e22327": {
       "attrs": {
        "height": 0.8,
        "width": 0.8,
        "x": 0.1,
        "y": 0.1
       },
       "content": {
        "cell": "4a49b226-44c7-4f86-8f83-9b5e6f1a4cbe",
        "part": "whole"
       },
       "id": "a68cd43d-1d88-408f-b286-c547a4e22327"
      }
     }
    },
    "7cbad818-e82b-4e46-8f22-ccc255a5da1b": {
     "id": "7cbad818-e82b-4e46-8f22-ccc255a5da1b",
     "prev": "e245ec64-34b3-4031-b9b7-120922a83c58",
     "regions": {
      "0132b20a-02a9-4d67-835d-f5444d099f66": {
       "attrs": {
        "height": 0.8,
        "width": 0.8,
        "x": 0.1,
        "y": 0.1
       },
       "content": {
        "cell": "0d3fb2f7-326e-4dcb-a111-6dc08d6f502f",
        "part": "whole"
       },
       "id": "0132b20a-02a9-4d67-835d-f5444d099f66"
      }
     }
    },
    "7ff4a7c8-30ce-49d4-a620-8949ebc1ee49": {
     "id": "7ff4a7c8-30ce-49d4-a620-8949ebc1ee49",
     "prev": "4d8b578d-56eb-4f63-b2d7-aeb34260d289",
     "regions": {
      "c3cdb178-7a2c-458f-a0da-4eb53d574a4e": {
       "attrs": {
        "height": 0.8,
        "width": 0.8,
        "x": 0.1,
        "y": 0.1
       },
       "content": {
        "cell": "d59b2102-fe89-4bb4-91a8-0ba56fc89934",
        "part": "whole"
       },
       "id": "c3cdb178-7a2c-458f-a0da-4eb53d574a4e"
      }
     }
    },
    "822996cd-90e1-45d0-8343-8b7fd2585c7d": {
     "id": "822996cd-90e1-45d0-8343-8b7fd2585c7d",
     "prev": "e35b720b-3d17-4655-ad7e-8fca019f6a01",
     "regions": {
      "3bc668e1-4b2a-42c7-ad57-179cd8d9fe77": {
       "attrs": {
        "height": 0.8,
        "width": 0.8,
        "x": 0.1,
        "y": 0.1
       },
       "content": {
        "cell": "af23b3ba-9887-45d9-8a80-cbebef9e7d81",
        "part": "whole"
       },
       "id": "3bc668e1-4b2a-42c7-ad57-179cd8d9fe77"
      }
     }
    },
    "82cea278-2a92-49d9-b47b-b9afc8d96372": {
     "id": "82cea278-2a92-49d9-b47b-b9afc8d96372",
     "prev": "7cbad818-e82b-4e46-8f22-ccc255a5da1b",
     "regions": {
      "37f405c0-f5d7-4899-866f-4b4ec29e4798": {
       "attrs": {
        "height": 0.8,
        "width": 0.8,
        "x": 0.1,
        "y": 0.1
       },
       "content": {
        "cell": "9d6d1afb-d22b-4f2c-8dd5-7691b074466f",
        "part": "whole"
       },
       "id": "37f405c0-f5d7-4899-866f-4b4ec29e4798"
      }
     }
    },
    "861c4ac2-270f-4274-a00b-287f770d88f1": {
     "id": "861c4ac2-270f-4274-a00b-287f770d88f1",
     "layout": "grid",
     "prev": null,
     "regions": {
      "d5fb1003-7d4d-47d3-8363-d4df7372fb1c": {
       "attrs": {
        "height": 0.8333333333333334,
        "pad": 0.01,
        "width": 0.8333333333333334,
        "x": 0.08333333333333333,
        "y": 0.08333333333333333
       },
       "content": {
        "cell": "b6cf2708-8411-41a2-a39d-3b3aaa63a4d5",
        "part": "source"
       },
       "id": "d5fb1003-7d4d-47d3-8363-d4df7372fb1c"
      },
      "f8aee4a2-1501-42eb-a7f1-3cb3cc79a368": {
       "attrs": {
        "height": 0.8333333333333334,
        "pad": 0.01,
        "width": 0.8333333333333334,
        "x": 0.08333333333333333,
        "y": 0.08333333333333333
       },
       "id": "f8aee4a2-1501-42eb-a7f1-3cb3cc79a368"
      }
     },
     "theme": null
    },
    "8b295513-f50e-4437-a53d-852130392252": {
     "id": "8b295513-f50e-4437-a53d-852130392252",
     "prev": "3de58a1e-98ea-40a4-83cb-7f95e28fa098",
     "regions": {
      "41faaeff-d9c6-4fb3-b12e-49d55f0092ac": {
       "attrs": {
        "height": 0.8,
        "width": 0.8,
        "x": 0.1,
        "y": 0.1
       },
       "content": {
        "cell": "0c5e276c-77a2-42a4-af2e-7100a6ca9927",
        "part": "whole"
       },
       "id": "41faaeff-d9c6-4fb3-b12e-49d55f0092ac"
      }
     }
    },
    "8c847fd4-2c71-4b7f-bf84-deaf37a6922e": {
     "id": "8c847fd4-2c71-4b7f-bf84-deaf37a6922e",
     "prev": "1d9a875e-d009-48cd-8448-087ab92cc409",
     "regions": {
      "2491d8a9-3634-4891-86f1-d34e3313e1ed": {
       "attrs": {
        "height": 0.8,
        "width": 0.8,
        "x": 0.1,
        "y": 0.1
       },
       "content": {
        "cell": "c96051c5-a541-4fec-b673-7df9b3ca279e",
        "part": "whole"
       },
       "id": "2491d8a9-3634-4891-86f1-d34e3313e1ed"
      }
     }
    },
    "8de5550d-3d6c-4f03-ab85-63bc8b288413": {
     "id": "8de5550d-3d6c-4f03-ab85-63bc8b288413",
     "prev": "65a27ef8-af50-4789-87d5-435759626840",
     "regions": {
      "41dc223e-8759-42ef-8212-d93f30ba4743": {
       "attrs": {
        "height": 0.8,
        "width": 0.8,
        "x": 0.1,
        "y": 0.1
       },
       "content": {
        "cell": "87894f59-5c43-443c-93a5-4da9e5e2624b",
        "part": "whole"
       },
       "id": "41dc223e-8759-42ef-8212-d93f30ba4743"
      }
     }
    },
    "94a828b9-df30-4a6f-8b3b-55031542b9e7": {
     "id": "94a828b9-df30-4a6f-8b3b-55031542b9e7",
     "prev": "8c847fd4-2c71-4b7f-bf84-deaf37a6922e",
     "regions": {
      "63477f95-1957-4906-8363-a5caca86a0f3": {
       "attrs": {
        "height": 0.8,
        "width": 0.8,
        "x": 0.1,
        "y": 0.1
       },
       "content": {
        "cell": "5ac70b47-6434-4523-b788-f435b89870fa",
        "part": "whole"
       },
       "id": "63477f95-1957-4906-8363-a5caca86a0f3"
      }
     }
    },
    "98cc32da-a643-44ab-8fa9-bb045c7bcba6": {
     "id": "98cc32da-a643-44ab-8fa9-bb045c7bcba6",
     "prev": "b62056c2-d971-48bb-8582-c28f4712e452",
     "regions": {
      "ff0bb3dc-c4cf-48e7-9653-55810f5fa89a": {
       "attrs": {
        "height": 0.8,
        "width": 0.8,
        "x": 0.1,
        "y": 0.1
       },
       "content": {
        "cell": "6930e240-353a-41d4-9a78-0c4035c33292",
        "part": "whole"
       },
       "id": "ff0bb3dc-c4cf-48e7-9653-55810f5fa89a"
      }
     }
    },
    "9fca293c-fb97-4535-abdb-c0dc7a59886e": {
     "id": "9fca293c-fb97-4535-abdb-c0dc7a59886e",
     "prev": "c4d2c20d-68a1-452e-9c08-f258635b3ef1",
     "regions": {
      "e1d1fbe5-aee7-40cc-8264-732ebe30f12b": {
       "attrs": {
        "height": 0.8,
        "width": 0.8,
        "x": 0.1,
        "y": 0.1
       },
       "content": {
        "cell": "bcec43c9-e676-4cdb-883d-a9853ef24fcb",
        "part": "whole"
       },
       "id": "e1d1fbe5-aee7-40cc-8264-732ebe30f12b"
      }
     }
    },
    "a78df9f2-eee3-4466-81b8-570318674e16": {
     "id": "a78df9f2-eee3-4466-81b8-570318674e16",
     "prev": "236ca5c3-344c-4a81-9afb-4f69f215b617",
     "regions": {
      "26dff031-072a-4674-8d10-da1698263e38": {
       "attrs": {
        "height": 0.8,
        "width": 0.8,
        "x": 0.1,
        "y": 0.1
       },
       "content": {
        "cell": "e8728c69-4b58-43f9-81be-42d7d8626c75",
        "part": "whole"
       },
       "id": "26dff031-072a-4674-8d10-da1698263e38"
      }
     }
    },
    "a8acd4a4-0962-47f0-a064-f0c88fd96cac": {
     "id": "a8acd4a4-0962-47f0-a064-f0c88fd96cac",
     "prev": "cb735c23-21de-4199-a160-3ae8f76e1788",
     "regions": {
      "4e461ca3-ae43-43d9-bd56-e7e0acda64af": {
       "attrs": {
        "height": 0.8,
        "width": 0.8,
        "x": 0.1,
        "y": 0.1
       },
       "content": {
        "cell": "f69f2573-9d39-4919-b3a7-67917e2004ff",
        "part": "whole"
       },
       "id": "4e461ca3-ae43-43d9-bd56-e7e0acda64af"
      }
     }
    },
    "ad294c26-2b99-4df3-ac28-53c0188f2667": {
     "id": "ad294c26-2b99-4df3-ac28-53c0188f2667",
     "prev": "b7c9bdc1-1ec1-47b5-9d18-68803f723553",
     "regions": {
      "51439890-07bf-48c0-8598-2e706916cd97": {
       "attrs": {
        "height": 0.8,
        "width": 0.8,
        "x": 0.1,
        "y": 0.1
       },
       "content": {
        "cell": "c12f9aab-446f-479e-bad6-547b0ce53bac",
        "part": "whole"
       },
       "id": "51439890-07bf-48c0-8598-2e706916cd97"
      }
     }
    },
    "ae2fac7d-4a7f-4e90-9c66-cbf139d2deb0": {
     "id": "ae2fac7d-4a7f-4e90-9c66-cbf139d2deb0",
     "prev": "ee570b41-86de-4b47-b87b-5207b020f657",
     "regions": {
      "b0aa1103-25b4-4feb-8caf-771ff08c3198": {
       "attrs": {
        "height": 0.8,
        "width": 0.8,
        "x": 0.1,
        "y": 0.1
       },
       "content": {
        "cell": "0ab6b15b-a264-48b4-82dd-bfda8da5d361",
        "part": "whole"
       },
       "id": "b0aa1103-25b4-4feb-8caf-771ff08c3198"
      }
     }
    },
    "afc16d56-a4ab-4a3b-bf02-59c23caf0098": {
     "id": "afc16d56-a4ab-4a3b-bf02-59c23caf0098",
     "prev": "b696f408-912f-43b4-88aa-34c9fc03ec8b",
     "regions": {
      "e13b0abc-21b1-43ee-87e7-169f29228c84": {
       "attrs": {
        "height": 0.8,
        "width": 0.8,
        "x": 0.1,
        "y": 0.1
       },
       "content": {
        "cell": "a0a8bca0-b670-4d53-b570-868c8553552f",
        "part": "whole"
       },
       "id": "e13b0abc-21b1-43ee-87e7-169f29228c84"
      }
     }
    },
    "affe08ef-6125-4b6a-b99b-fec13d60db12": {
     "id": "affe08ef-6125-4b6a-b99b-fec13d60db12",
     "prev": "515f0579-d9e9-4f53-8888-29f76e784704",
     "regions": {
      "044e8ea8-218c-446e-a4e2-fe1411f7a3ea": {
       "attrs": {
        "height": 0.8,
        "width": 0.8,
        "x": 0.1,
        "y": 0.1
       },
       "content": {
        "cell": "4b9ae9c0-72fa-4b4b-b4f1-3ce4b53058cb",
        "part": "whole"
       },
       "id": "044e8ea8-218c-446e-a4e2-fe1411f7a3ea"
      }
     }
    },
    "b052f45d-b6bb-4062-87dd-3f00b031dc4f": {
     "id": "b052f45d-b6bb-4062-87dd-3f00b031dc4f",
     "prev": "6eca1cc3-b4f2-4bb6-9988-dc0ad9ed2c15",
     "regions": {
      "af39429c-1dd0-4576-a5b1-88c81bec36b1": {
       "attrs": {
        "height": 0.8,
        "width": 0.8,
        "x": 0.1,
        "y": 0.1
       },
       "content": {
        "cell": "bcf270cd-f57f-4f21-b513-672d288a6dc3",
        "part": "whole"
       },
       "id": "af39429c-1dd0-4576-a5b1-88c81bec36b1"
      }
     }
    },
    "b62056c2-d971-48bb-8582-c28f4712e452": {
     "id": "b62056c2-d971-48bb-8582-c28f4712e452",
     "prev": "efa8d5e4-3071-45b4-89fa-9439479d8b2d",
     "regions": {
      "be5d5d65-cc06-47b4-ab35-841f47966f45": {
       "attrs": {
        "height": 0.8,
        "width": 0.8,
        "x": 0.1,
        "y": 0.1
       },
       "content": {
        "cell": "d74353b5-65fb-4ae4-ae53-b464e9176069",
        "part": "whole"
       },
       "id": "be5d5d65-cc06-47b4-ab35-841f47966f45"
      }
     }
    },
    "b696f408-912f-43b4-88aa-34c9fc03ec8b": {
     "id": "b696f408-912f-43b4-88aa-34c9fc03ec8b",
     "prev": "f19af57f-9d63-4a51-ad58-7f6967fcf01a",
     "regions": {
      "b2a2b4d4-db2d-43ae-a684-6b251113ffc9": {
       "attrs": {
        "height": 0.8,
        "width": 0.8,
        "x": 0.1,
        "y": 0.1
       },
       "content": {
        "cell": "209a2fe4-3665-4c22-bd8b-32c3f53621a6",
        "part": "whole"
       },
       "id": "b2a2b4d4-db2d-43ae-a684-6b251113ffc9"
      }
     }
    },
    "b7c9bdc1-1ec1-47b5-9d18-68803f723553": {
     "id": "b7c9bdc1-1ec1-47b5-9d18-68803f723553",
     "prev": "fa7c16c1-3cf7-4f92-a6f8-5b3194e4b7cc",
     "regions": {
      "dbe48d32-bb93-47de-8eed-cb7d6411b345": {
       "attrs": {
        "height": 0.8,
        "width": 0.8,
        "x": 0.1,
        "y": 0.1
       },
       "content": {
        "cell": "b580c578-7826-49cd-b11c-ac0bc8f34593",
        "part": "whole"
       },
       "id": "dbe48d32-bb93-47de-8eed-cb7d6411b345"
      }
     }
    },
    "bdf38d51-a1f6-4db1-9504-b4b7d96a8816": {
     "id": "bdf38d51-a1f6-4db1-9504-b4b7d96a8816",
     "prev": "cb918039-5a32-4613-99ec-e27522f81ed4",
     "regions": {
      "59edca20-125b-4f4e-92e0-c01778b9fb50": {
       "attrs": {
        "height": 0.8,
        "width": 0.8,
        "x": 0.1,
        "y": 0.1
       },
       "content": {
        "cell": "a8aba0ff-a84f-40b7-a702-b1abda864680",
        "part": "whole"
       },
       "id": "59edca20-125b-4f4e-92e0-c01778b9fb50"
      }
     }
    },
    "be516fbf-46ca-4255-9973-a31c8ce699c3": {
     "id": "be516fbf-46ca-4255-9973-a31c8ce699c3",
     "prev": "f612d6c6-482b-4d8f-87c0-b5e270ab67a3",
     "regions": {
      "33fd1b2c-1834-472f-ab40-985569809540": {
       "attrs": {
        "height": 0.8,
        "width": 0.8,
        "x": 0.1,
        "y": 0.1
       },
       "content": {
        "cell": "a85b20ee-d3bd-4ad4-acca-7e221ff05548",
        "part": "whole"
       },
       "id": "33fd1b2c-1834-472f-ab40-985569809540"
      }
     }
    },
    "c4d2c20d-68a1-452e-9c08-f258635b3ef1": {
     "id": "c4d2c20d-68a1-452e-9c08-f258635b3ef1",
     "prev": "317388aa-56b9-4bee-ade4-5b11f90e8ed9",
     "regions": {
      "649b5465-b6d7-4744-b5ff-288ae9cd63ef": {
       "attrs": {
        "height": 0.8,
        "width": 0.8,
        "x": 0.1,
        "y": 0.1
       },
       "content": {
        "cell": "4401b5f1-4162-48a9-8676-6eed068f5b8b",
        "part": "whole"
       },
       "id": "649b5465-b6d7-4744-b5ff-288ae9cd63ef"
      }
     }
    },
    "ca376860-e503-4b37-bb80-427feb8634f7": {
     "id": "ca376860-e503-4b37-bb80-427feb8634f7",
     "prev": "bdf38d51-a1f6-4db1-9504-b4b7d96a8816",
     "regions": {
      "ba444fcc-8885-4e3f-becd-e8d0dd25657a": {
       "attrs": {
        "height": 0.8,
        "width": 0.8,
        "x": 0.1,
        "y": 0.1
       },
       "content": {
        "cell": "a56ae8e5-c2a1-4325-b4df-dd2edc3046bc",
        "part": "whole"
       },
       "id": "ba444fcc-8885-4e3f-becd-e8d0dd25657a"
      }
     }
    },
    "cb735c23-21de-4199-a160-3ae8f76e1788": {
     "id": "cb735c23-21de-4199-a160-3ae8f76e1788",
     "prev": "ad294c26-2b99-4df3-ac28-53c0188f2667",
     "regions": {
      "9dfd7a91-3418-439d-b837-4d4ae336cb80": {
       "attrs": {
        "height": 0.8,
        "width": 0.8,
        "x": 0.1,
        "y": 0.1
       },
       "content": {
        "cell": "f375315b-a5e2-4578-80f8-2adef78fb28a",
        "part": "whole"
       },
       "id": "9dfd7a91-3418-439d-b837-4d4ae336cb80"
      }
     }
    },
    "cb918039-5a32-4613-99ec-e27522f81ed4": {
     "id": "cb918039-5a32-4613-99ec-e27522f81ed4",
     "prev": "5ee492bb-f3fc-4b39-b039-5e1613685456",
     "regions": {
      "f8daa988-8ddf-4b74-8fe4-9645fc2e41e1": {
       "attrs": {
        "height": 0.8,
        "width": 0.8,
        "x": 0.1,
        "y": 0.1
       },
       "content": {
        "cell": "d349d4f8-1bef-45bf-8974-eaf2909e7690",
        "part": "whole"
       },
       "id": "f8daa988-8ddf-4b74-8fe4-9645fc2e41e1"
      }
     }
    },
    "e147513a-1c55-44fb-9382-960e835bf515": {
     "id": "e147513a-1c55-44fb-9382-960e835bf515",
     "prev": "7ff4a7c8-30ce-49d4-a620-8949ebc1ee49",
     "regions": {
      "3b9ba400-dea7-4663-8614-3bf04890e434": {
       "attrs": {
        "height": 0.8,
        "width": 0.8,
        "x": 0.1,
        "y": 0.1
       },
       "content": {
        "cell": "b744fca5-fb11-42c0-9913-f1e1d073685c",
        "part": "whole"
       },
       "id": "3b9ba400-dea7-4663-8614-3bf04890e434"
      }
     }
    },
    "e245ec64-34b3-4031-b9b7-120922a83c58": {
     "id": "e245ec64-34b3-4031-b9b7-120922a83c58",
     "prev": "a78df9f2-eee3-4466-81b8-570318674e16",
     "regions": {
      "df97bf16-3616-4feb-95d3-3546f040b691": {
       "attrs": {
        "height": 0.8,
        "width": 0.8,
        "x": 0.1,
        "y": 0.1
       },
       "content": {
        "cell": "7d4b98bb-5148-40a4-8488-43c0eb19a4df",
        "part": "whole"
       },
       "id": "df97bf16-3616-4feb-95d3-3546f040b691"
      }
     }
    },
    "e35b720b-3d17-4655-ad7e-8fca019f6a01": {
     "id": "e35b720b-3d17-4655-ad7e-8fca019f6a01",
     "prev": "94a828b9-df30-4a6f-8b3b-55031542b9e7",
     "regions": {
      "d489a0d8-5f7d-4c2f-9c1c-290442c7c488": {
       "attrs": {
        "height": 0.8,
        "width": 0.8,
        "x": 0.1,
        "y": 0.1
       },
       "content": {
        "cell": "5359f40f-08e8-4d06-8389-c3fc13507d56",
        "part": "whole"
       },
       "id": "d489a0d8-5f7d-4c2f-9c1c-290442c7c488"
      }
     }
    },
    "e4f0157f-aee2-4efb-96e5-df3dba1b4bef": {
     "id": "e4f0157f-aee2-4efb-96e5-df3dba1b4bef",
     "prev": "57d561b3-ad60-467b-9f0a-bcfc7548d0b1",
     "regions": {
      "a7733014-946a-4a7d-9c9d-0c84f00d16fc": {
       "attrs": {
        "height": 0.8,
        "width": 0.8,
        "x": 0.1,
        "y": 0.1
       },
       "content": {
        "cell": "d475f97f-3b0c-49ef-b20a-5c346d605e46",
        "part": "whole"
       },
       "id": "a7733014-946a-4a7d-9c9d-0c84f00d16fc"
      }
     }
    },
    "e724268d-3a03-4dd6-b3a8-e4354e4ff727": {
     "id": "e724268d-3a03-4dd6-b3a8-e4354e4ff727",
     "prev": "66d52aba-bcf9-4edc-8edf-605f8ab5ea96",
     "regions": {
      "6685616a-e367-4c29-9974-f4559aa47877": {
       "attrs": {
        "height": 0.8,
        "width": 0.8,
        "x": 0.1,
        "y": 0.1
       },
       "content": {
        "cell": "ef178561-c97f-40c4-ba0e-80178d6df166",
        "part": "whole"
       },
       "id": "6685616a-e367-4c29-9974-f4559aa47877"
      }
     }
    },
    "ea22b97f-9e52-4b6a-ad9a-0e008ae016b6": {
     "id": "ea22b97f-9e52-4b6a-ad9a-0e008ae016b6",
     "prev": "be516fbf-46ca-4255-9973-a31c8ce699c3",
     "regions": {
      "e177350f-5357-46a5-880f-faf1cab57b2b": {
       "attrs": {
        "height": 0.8,
        "width": 0.8,
        "x": 0.1,
        "y": 0.1
       },
       "content": {
        "cell": "9b411976-6c57-491e-9993-da86fb9b78ee",
        "part": "whole"
       },
       "id": "e177350f-5357-46a5-880f-faf1cab57b2b"
      }
     }
    },
    "ee570b41-86de-4b47-b87b-5207b020f657": {
     "id": "ee570b41-86de-4b47-b87b-5207b020f657",
     "prev": "18e29038-f802-45cb-8743-4ebde143bcfd",
     "regions": {
      "c4cce05a-20eb-4da3-a985-bfe515e6f9a3": {
       "attrs": {
        "height": 0.8,
        "width": 0.8,
        "x": 0.1,
        "y": 0.1
       },
       "content": {
        "cell": "678b5fcf-1ebc-48b6-b92a-8068ee1070bb",
        "part": "whole"
       },
       "id": "c4cce05a-20eb-4da3-a985-bfe515e6f9a3"
      }
     }
    },
    "efa8d5e4-3071-45b4-89fa-9439479d8b2d": {
     "id": "efa8d5e4-3071-45b4-89fa-9439479d8b2d",
     "prev": "e147513a-1c55-44fb-9382-960e835bf515",
     "regions": {
      "9be92850-91e2-493a-b541-e71057f152b6": {
       "attrs": {
        "height": 0.8,
        "width": 0.8,
        "x": 0.1,
        "y": 0.1
       },
       "content": {
        "cell": "b59d5ae0-f25d-4cde-8ffc-5796a08bc5fc",
        "part": "whole"
       },
       "id": "9be92850-91e2-493a-b541-e71057f152b6"
      }
     }
    },
    "f19af57f-9d63-4a51-ad58-7f6967fcf01a": {
     "id": "f19af57f-9d63-4a51-ad58-7f6967fcf01a",
     "prev": "b052f45d-b6bb-4062-87dd-3f00b031dc4f",
     "regions": {
      "986a5b6e-3e2a-43da-9074-567fda5e8aa8": {
       "attrs": {
        "height": 0.8,
        "width": 0.8,
        "x": 0.1,
        "y": 0.1
       },
       "content": {
        "cell": "b2cd0e40-15e5-4921-8954-93df2b10f8f6",
        "part": "whole"
       },
       "id": "986a5b6e-3e2a-43da-9074-567fda5e8aa8"
      }
     }
    },
    "f612d6c6-482b-4d8f-87c0-b5e270ab67a3": {
     "id": "f612d6c6-482b-4d8f-87c0-b5e270ab67a3",
     "prev": "64070e57-1f72-441a-9a99-6afd1dd51843",
     "regions": {
      "1dba54fa-46c2-4f88-807a-ab3e8e0843a9": {
       "attrs": {
        "height": 0.8,
        "width": 0.8,
        "x": 0.1,
        "y": 0.1
       },
       "content": {
        "cell": "ed4973e3-0d36-486c-aedd-1692dc0cd2a3",
        "part": "whole"
       },
       "id": "1dba54fa-46c2-4f88-807a-ab3e8e0843a9"
      }
     }
    },
    "f63d84f6-263c-4852-956a-19ef1d963774": {
     "id": "f63d84f6-263c-4852-956a-19ef1d963774",
     "prev": "e4f0157f-aee2-4efb-96e5-df3dba1b4bef",
     "regions": {
      "52a4b97c-aa59-4c12-9869-a9f807ec9571": {
       "attrs": {
        "height": 0.8,
        "width": 0.8,
        "x": 0.1,
        "y": 0.1
       },
       "content": {
        "cell": "3cdb6f0c-657d-4b2e-8a12-a74d1cb6e534",
        "part": "whole"
       },
       "id": "52a4b97c-aa59-4c12-9869-a9f807ec9571"
      }
     }
    },
    "f91f0bac-1e74-4c5a-ae74-af0a2e690f76": {
     "id": "f91f0bac-1e74-4c5a-ae74-af0a2e690f76",
     "prev": "0770d637-e8c1-472c-af5d-add4a6f284b6",
     "regions": {
      "3c3ca986-302b-419d-8a10-8df8a178692b": {
       "attrs": {
        "height": 0.8,
        "width": 0.8,
        "x": 0.1,
        "y": 0.1
       },
       "content": {
        "cell": "1299fa74-9e97-45d6-97b0-c2feb61f401d",
        "part": "whole"
       },
       "id": "3c3ca986-302b-419d-8a10-8df8a178692b"
      }
     }
    },
    "fa7c16c1-3cf7-4f92-a6f8-5b3194e4b7cc": {
     "id": "fa7c16c1-3cf7-4f92-a6f8-5b3194e4b7cc",
     "prev": "ea22b97f-9e52-4b6a-ad9a-0e008ae016b6",
     "regions": {
      "db1aeb85-4b11-4217-897d-670793ce6fe2": {
       "attrs": {
        "height": 0.8,
        "width": 0.8,
        "x": 0.1,
        "y": 0.1
       },
       "content": {
        "cell": "5d49a9cb-3290-4dfa-b275-2434169c0767",
        "part": "whole"
       },
       "id": "db1aeb85-4b11-4217-897d-670793ce6fe2"
      }
     }
    }
   },
   "themes": {
    "default": "39911de6-84a4-4236-b94f-4ca08753d472",
    "theme": {
     "39911de6-84a4-4236-b94f-4ca08753d472": {
      "backgrounds": {
       "dc7afa04-bf90-40b1-82a5-726e3cff5267": {
        "background-color": "31af15d2-7e15-44c5-ab5e-e04b16a89eff",
        "id": "dc7afa04-bf90-40b1-82a5-726e3cff5267"
       }
      },
      "id": "39911de6-84a4-4236-b94f-4ca08753d472",
      "palette": {
       "19cc588f-0593-49c9-9f4b-e4d7cc113b1c": {
        "id": "19cc588f-0593-49c9-9f4b-e4d7cc113b1c",
        "rgb": [
         252,
         252,
         252
        ]
       },
       "31af15d2-7e15-44c5-ab5e-e04b16a89eff": {
        "id": "31af15d2-7e15-44c5-ab5e-e04b16a89eff",
        "rgb": [
         68,
         68,
         68
        ]
       },
       "50f92c45-a630-455b-aec3-788680ec7410": {
        "id": "50f92c45-a630-455b-aec3-788680ec7410",
        "rgb": [
         197,
         226,
         245
        ]
       },
       "c5cc3653-2ee1-402a-aba2-7caae1da4f6c": {
        "id": "c5cc3653-2ee1-402a-aba2-7caae1da4f6c",
        "rgb": [
         43,
         126,
         184
        ]
       },
       "efa7f048-9acb-414c-8b04-a26811511a21": {
        "id": "efa7f048-9acb-414c-8b04-a26811511a21",
        "rgb": [
         25.118061674008803,
         73.60176211453744,
         107.4819383259912
        ]
       }
      },
      "rules": {
       "a": {
        "color": "19cc588f-0593-49c9-9f4b-e4d7cc113b1c"
       },
       "blockquote": {
        "color": "50f92c45-a630-455b-aec3-788680ec7410",
        "font-size": 3
       },
       "code": {
        "font-family": "Anonymous Pro"
       },
       "h1": {
        "color": "19cc588f-0593-49c9-9f4b-e4d7cc113b1c",
        "font-family": "Merriweather",
        "font-size": 8
       },
       "h2": {
        "color": "19cc588f-0593-49c9-9f4b-e4d7cc113b1c",
        "font-family": "Merriweather",
        "font-size": 6
       },
       "h3": {
        "color": "50f92c45-a630-455b-aec3-788680ec7410",
        "font-family": "Lato",
        "font-size": 5.5
       },
       "h4": {
        "color": "c5cc3653-2ee1-402a-aba2-7caae1da4f6c",
        "font-family": "Lato",
        "font-size": 5
       },
       "h5": {
        "font-family": "Lato"
       },
       "h6": {
        "font-family": "Lato"
       },
       "h7": {
        "font-family": "Lato"
       },
       "li": {
        "color": "50f92c45-a630-455b-aec3-788680ec7410",
        "font-size": 3.25
       },
       "pre": {
        "font-family": "Anonymous Pro",
        "font-size": 4
       }
      },
      "text-base": {
       "color": "19cc588f-0593-49c9-9f4b-e4d7cc113b1c",
       "font-family": "Lato",
       "font-size": 4
      }
     },
     "5cd8a998-b557-4e37-841d-4492d2495bc9": {
      "backgrounds": {
       "dc7afa04-bf90-40b1-82a5-726e3cff5267": {
        "background-color": "31af15d2-7e15-44c5-ab5e-e04b16a89eff",
        "id": "dc7afa04-bf90-40b1-82a5-726e3cff5267"
       }
      },
      "id": "5cd8a998-b557-4e37-841d-4492d2495bc9",
      "palette": {
       "19cc588f-0593-49c9-9f4b-e4d7cc113b1c": {
        "id": "19cc588f-0593-49c9-9f4b-e4d7cc113b1c",
        "rgb": [
         252,
         252,
         252
        ]
       },
       "31af15d2-7e15-44c5-ab5e-e04b16a89eff": {
        "id": "31af15d2-7e15-44c5-ab5e-e04b16a89eff",
        "rgb": [
         68,
         68,
         68
        ]
       },
       "50f92c45-a630-455b-aec3-788680ec7410": {
        "id": "50f92c45-a630-455b-aec3-788680ec7410",
        "rgb": [
         197,
         226,
         245
        ]
       },
       "c5cc3653-2ee1-402a-aba2-7caae1da4f6c": {
        "id": "c5cc3653-2ee1-402a-aba2-7caae1da4f6c",
        "rgb": [
         43,
         126,
         184
        ]
       },
       "efa7f048-9acb-414c-8b04-a26811511a21": {
        "id": "efa7f048-9acb-414c-8b04-a26811511a21",
        "rgb": [
         25.118061674008803,
         73.60176211453744,
         107.4819383259912
        ]
       }
      },
      "rules": {
       "a": {
        "color": "19cc588f-0593-49c9-9f4b-e4d7cc113b1c"
       },
       "blockquote": {
        "color": "50f92c45-a630-455b-aec3-788680ec7410",
        "font-size": 3
       },
       "code": {
        "font-family": "Anonymous Pro"
       },
       "h1": {
        "color": "19cc588f-0593-49c9-9f4b-e4d7cc113b1c",
        "font-family": "Merriweather",
        "font-size": 8
       },
       "h2": {
        "color": "19cc588f-0593-49c9-9f4b-e4d7cc113b1c",
        "font-family": "Merriweather",
        "font-size": 6
       },
       "h3": {
        "color": "50f92c45-a630-455b-aec3-788680ec7410",
        "font-family": "Lato",
        "font-size": 5.5
       },
       "h4": {
        "color": "c5cc3653-2ee1-402a-aba2-7caae1da4f6c",
        "font-family": "Lato",
        "font-size": 5
       },
       "h5": {
        "font-family": "Lato"
       },
       "h6": {
        "font-family": "Lato"
       },
       "h7": {
        "font-family": "Lato"
       },
       "li": {
        "color": "50f92c45-a630-455b-aec3-788680ec7410",
        "font-size": 3.25
       },
       "pre": {
        "font-family": "Anonymous Pro",
        "font-size": 4
       }
      },
      "text-base": {
       "color": "19cc588f-0593-49c9-9f4b-e4d7cc113b1c",
       "font-family": "Lato",
       "font-size": 4
      }
     },
     "d18ffe56-c833-45ea-a9b3-fd3235e1a514": {
      "id": "d18ffe56-c833-45ea-a9b3-fd3235e1a514",
      "palette": {
       "19cc588f-0593-49c9-9f4b-e4d7cc113b1c": {
        "id": "19cc588f-0593-49c9-9f4b-e4d7cc113b1c",
        "rgb": [
         252,
         252,
         252
        ]
       },
       "31af15d2-7e15-44c5-ab5e-e04b16a89eff": {
        "id": "31af15d2-7e15-44c5-ab5e-e04b16a89eff",
        "rgb": [
         68,
         68,
         68
        ]
       },
       "50f92c45-a630-455b-aec3-788680ec7410": {
        "id": "50f92c45-a630-455b-aec3-788680ec7410",
        "rgb": [
         155,
         177,
         192
        ]
       },
       "c5cc3653-2ee1-402a-aba2-7caae1da4f6c": {
        "id": "c5cc3653-2ee1-402a-aba2-7caae1da4f6c",
        "rgb": [
         43,
         126,
         184
        ]
       },
       "efa7f048-9acb-414c-8b04-a26811511a21": {
        "id": "efa7f048-9acb-414c-8b04-a26811511a21",
        "rgb": [
         25.118061674008803,
         73.60176211453744,
         107.4819383259912
        ]
       }
      },
      "rules": {
       "blockquote": {
        "color": "50f92c45-a630-455b-aec3-788680ec7410"
       },
       "code": {
        "font-family": "Anonymous Pro"
       },
       "h1": {
        "color": "c5cc3653-2ee1-402a-aba2-7caae1da4f6c",
        "font-family": "Lato",
        "font-size": 8
       },
       "h2": {
        "color": "c5cc3653-2ee1-402a-aba2-7caae1da4f6c",
        "font-family": "Lato",
        "font-size": 6
       },
       "h3": {
        "color": "50f92c45-a630-455b-aec3-788680ec7410",
        "font-family": "Lato",
        "font-size": 5.5
       },
       "h4": {
        "color": "c5cc3653-2ee1-402a-aba2-7caae1da4f6c",
        "font-family": "Lato",
        "font-size": 5
       },
       "h5": {
        "font-family": "Lato"
       },
       "h6": {
        "font-family": "Lato"
       },
       "h7": {
        "font-family": "Lato"
       },
       "pre": {
        "font-family": "Anonymous Pro",
        "font-size": 4
       }
      },
      "text-base": {
       "font-family": "Merriweather",
       "font-size": 4
      }
     }
    }
   }
  }
 },
 "nbformat": 4,
 "nbformat_minor": 2
}

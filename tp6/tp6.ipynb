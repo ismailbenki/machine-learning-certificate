{
 "cells": [
  {
   "cell_type": "markdown",
   "metadata": {},
   "source": [
    "# Question 1\n",
    "\n",
    "Considérant un seul filtre de convolution de padding 𝑝, de stride 𝑠 et de taille de kernel 𝑘, pour une entrée de taille 𝑥 × 𝑦 × 𝑧, quelle sera la taille de sortie ?\n",
    "\n",
    "$$ ( \\frac{(k+2p)}{s} + 1) \\times ( \\frac{(k+2p)}{s} + 1 ) $$\n",
    "\n",
    "Combien y a-t-il de poids à apprendre ?\n",
    "\n",
    "Combien de poids aurait-il fallu apprendre si une couche fully-connected devait produire une sortie de la même taille ?"
   ]
  },
  {
   "cell_type": "markdown",
   "metadata": {},
   "source": []
  },
  {
   "cell_type": "code",
   "execution_count": null,
   "metadata": {
    "collapsed": true
   },
   "outputs": [],
   "source": []
  }
 ],
 "metadata": {
  "anaconda-cloud": {},
  "kernelspec": {
   "display_name": "Python [default]",
   "language": "python",
   "name": "python3"
  },
  "language_info": {
   "codemirror_mode": {
    "name": "ipython",
    "version": 3
   },
   "file_extension": ".py",
   "mimetype": "text/x-python",
   "name": "python",
   "nbconvert_exporter": "python",
   "pygments_lexer": "ipython3",
   "version": "3.5.6"
  }
 },
 "nbformat": 4,
 "nbformat_minor": 1
}

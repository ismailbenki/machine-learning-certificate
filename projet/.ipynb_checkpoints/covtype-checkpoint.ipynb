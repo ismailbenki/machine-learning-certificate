{
 "cells": [
  {
   "cell_type": "markdown",
   "metadata": {},
   "source": [
    "# Forest Cover Type Prediction"
   ]
  },
  {
   "cell_type": "code",
   "execution_count": 1,
   "metadata": {
    "collapsed": true
   },
   "outputs": [],
   "source": [
    "import numpy as np\n",
    "import pandas as pd\n",
    "from urllib.request import urlopen\n",
    "import matplotlib.pyplot as plt\n",
    "from pandas.tools import plotting\n",
    "import os.path as osp\n",
    "import os\n",
    "import logging\n",
    "import gzip\n",
    "from glob import glob\n",
    "logging.getLogger().setLevel('INFO')"
   ]
  },
  {
   "cell_type": "code",
   "execution_count": null,
   "metadata": {
    "collapsed": true
   },
   "outputs": [],
   "source": [
    "def download_file(url_str, path):\n",
    "    url = urlopen(url_str)\n",
    "    output = open(path, 'wb')\n",
    "    output.write(url.read())\n",
    "    output.close()"
   ]
  },
  {
   "cell_type": "markdown",
   "metadata": {},
   "source": [
    "## Download Data"
   ]
  },
  {
   "cell_type": "code",
   "execution_count": null,
   "metadata": {
    "collapsed": false
   },
   "outputs": [
    {
     "name": "stderr",
     "output_type": "stream",
     "text": [
      "INFO:root:downloading & extracting file https://archive.ics.uci.edu/ml/machine-learning-databases/covtype/covtype.data.gz\n"
     ]
    }
   ],
   "source": [
    "BASE_URL = 'https://archive.ics.uci.edu/ml/machine-learning-databases/'\n",
    "DATA_DIR = 'covtype'\n",
    "\n",
    "DATA_URL = BASE_URL + DATA_DIR + \"/covtype.data.gz\"\n",
    "\n",
    "os.makedirs(osp.join(DATA_DIR, 'archives'), exist_ok=True)\n",
    "\n",
    "logging.info(\"downloading & extracting file %s\", DATA_URL)\n",
    "archive_path = osp.join(DATA_DIR, 'archives', osp.basename(DATA_URL))\n",
    "download_file(DATA_URL, archive_path)"
   ]
  },
  {
   "cell_type": "code",
   "execution_count": null,
   "metadata": {
    "collapsed": true
   },
   "outputs": [],
   "source": [
    "features_names = {'Elevation':[0],'Aspect':[1],'Slope':[2],\n",
    "                  'Horizontal_Distance_To_Hydrology':[3],\n",
    "                  'Vertical_Distance_To_Hydrology':[4],\n",
    "                  'Horizontal_Distance_To_Roadways':[5],\n",
    "                  'Hillshade_9am':[6],'Hillshade_Noon':[7],\n",
    "                  'Hillshade_3pm':[8],\n",
    "                  'Horiontal_Distance_To_Fire_Points':[9],\n",
    "                  'Wilderness_Area':[10,11,12,13],\n",
    "                  'Soil_Type':list(range(14,54)),\n",
    "                  'Cover_Type':[54]}\n",
    "\n",
    "def convert_to_listofint(df_attribut):\n",
    "    return [[int(x) for x in X.split()] for X in df_attribut]\n",
    "\n",
    "def convert_to_int(df_attribut):\n",
    "    return [int(x) for x in df_attribut]"
   ]
  },
  {
   "cell_type": "code",
   "execution_count": null,
   "metadata": {
    "collapsed": false
   },
   "outputs": [],
   "source": [
    "df_covtype = pd.read_csv('covtype/archives/covtype.data.gz',\n",
    "                         header=None,\n",
    "                         parse_dates=features_names,\n",
    "                         compression='gzip')\n",
    "\n",
    "for attribut in features_names:\n",
    "    if attribut in ['Wilderness_Area','Soil_Type']:\n",
    "        df_covtype[attribut] = convert_to_listofint(df_covtype[attribut])\n",
    "    else:\n",
    "        df_covtype[attribut] = convert_to_int(df_covtype[attribut])"
   ]
  },
  {
   "cell_type": "code",
   "execution_count": null,
   "metadata": {
    "collapsed": false,
    "scrolled": false
   },
   "outputs": [],
   "source": [
    "df_covtype.groupby('Cover_Type').mean()"
   ]
  },
  {
   "cell_type": "markdown",
   "metadata": {},
   "source": [
    "# Normalisation et visualisation"
   ]
  },
  {
   "cell_type": "code",
   "execution_count": null,
   "metadata": {
    "collapsed": false
   },
   "outputs": [],
   "source": [
    "for attribut in features_names:\n",
    "    if attribut in ['Wilderness_Area','Soil_Type','Cover_Type']:\n",
    "        print('oups')\n",
    "    else:\n",
    "        df_covtype[attribut] /= max(df_covtype[attribut])\n",
    "        df_covtype.boxplot(column=attribut,by='Cover_Type')\n",
    "        plt.title(attribut)\n",
    "        plt.show()\n",
    "        \n",
    "for attribut in ['Wil']"
   ]
  },
  {
   "cell_type": "code",
   "execution_count": null,
   "metadata": {
    "collapsed": false
   },
   "outputs": [],
   "source": [
    "data = np.array(df_covtype.drop('Cover_Type',axis=1))"
   ]
  },
  {
   "cell_type": "code",
   "execution_count": null,
   "metadata": {
    "collapsed": false
   },
   "outputs": [],
   "source": [
    "df_covtype.Wilderness_Area"
   ]
  },
  {
   "cell_type": "code",
   "execution_count": null,
   "metadata": {
    "collapsed": true
   },
   "outputs": [],
   "source": []
  }
 ],
 "metadata": {
  "kernelspec": {
   "display_name": "Python [default]",
   "language": "python",
   "name": "python3"
  },
  "language_info": {
   "codemirror_mode": {
    "name": "ipython",
    "version": 3
   },
   "file_extension": ".py",
   "mimetype": "text/x-python",
   "name": "python",
   "nbconvert_exporter": "python",
   "pygments_lexer": "ipython3",
   "version": "3.5.6"
  }
 },
 "nbformat": 4,
 "nbformat_minor": 2
}
